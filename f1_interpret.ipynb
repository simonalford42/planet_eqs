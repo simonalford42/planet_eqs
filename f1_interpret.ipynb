{
 "cells": [
  {
   "cell_type": "code",
   "execution_count": 3,
   "metadata": {},
   "outputs": [],
   "source": [
    "import torch\n",
    "import numpy as np\n",
    "import spock_reg_model"
   ]
  },
  {
   "cell_type": "code",
   "execution_count": 4,
   "metadata": {},
   "outputs": [],
   "source": [
    "labels = ['time', 'e+_near', 'e-_near', 'max_strength_mmr_near', 'e+_far', 'e-_far', 'max_strength_mmr_far', 'megno', 'a1', 'e1', 'i1', 'cos_Omega1', 'sin_Omega1', 'cos_pomega1', 'sin_pomega1', 'cos_theta1', 'sin_theta1', 'a2', 'e2', 'i2', 'cos_Omega2', 'sin_Omega2', 'cos_pomega2', 'sin_pomega2', 'cos_theta2', 'sin_theta2', 'a3', 'e3', 'i3', 'cos_Omega3', 'sin_Omega3', 'cos_pomega3', 'sin_pomega3', 'cos_theta3', 'sin_theta3', 'm1', 'm2', 'm3', 'nan_mmr_near', 'nan_mmr_far', 'nan_megno']\n",
    "\n",
    "# not all of these labels are actually used. for training, these inputs are zeroed out, but still passed in as zeroes.\n",
    "# ideally, the linear layer ignores them, which does happen if i do l1 regularization to it\n",
    "skipped = ['nan_mmr_near', 'nan_mmr_far', 'nan_megno', 'e+_near', 'e-_near', 'max_strength_mmr_near', 'e+_far', 'e-_far', 'max_strength_mmr_far', 'megno']"
   ]
  },
  {
   "cell_type": "code",
   "execution_count": 51,
   "metadata": {},
   "outputs": [],
   "source": [
    "version = 10290  # eps = 0.001\n",
    "# version = 9259  # eps = 0.1"
   ]
  },
  {
   "cell_type": "code",
   "execution_count": 52,
   "metadata": {},
   "outputs": [],
   "source": [
    "# load when on the cluster\n",
    "model = spock_reg_model.load(version)\n",
    "feature_nn = model.feature_nn"
   ]
  },
  {
   "cell_type": "code",
   "execution_count": 53,
   "metadata": {},
   "outputs": [],
   "source": [
    "# load when local\n",
    "# feature_nn = torch.load(f'models/{version}_feature_nn.pt')"
   ]
  },
  {
   "cell_type": "code",
   "execution_count": 54,
   "metadata": {},
   "outputs": [],
   "source": [
    "input_linear = feature_nn.linear.weight * feature_nn.mask\n",
    "input_linear = input_linear.detach().numpy()\n",
    "if feature_nn.linear.bias is not None:\n",
    "    input_bias = feature_nn.linear.bias.detach().numpy()\n",
    "else:\n",
    "    input_bias = np.zeros(input_linear.shape[0])"
   ]
  },
  {
   "cell_type": "code",
   "execution_count": 55,
   "metadata": {},
   "outputs": [],
   "source": [
    "# m_i is the mean of the i'th feature, s_i is the standard deviation\n",
    "# get the linear transformation that creates feature i\n",
    "def linear_transformation(i):\n",
    "    return input_linear[i]"
   ]
  },
  {
   "cell_type": "code",
   "execution_count": 56,
   "metadata": {},
   "outputs": [],
   "source": [
    "# let's make the linear transformation a bit easier to read\n",
    "def format_num(x):\n",
    "    if abs(x) > 0.1:\n",
    "        return f'{x:.2f}'\n",
    "    if abs(x) > 0.01:\n",
    "        return f'{x:.3f}'\n",
    "    elif abs(x) > 0.001:\n",
    "        return f'{x:.4f}'\n",
    "    else:\n",
    "        return f'{x:.2e}'\n",
    "\n",
    "format_vec = np.vectorize(format_num)"
   ]
  },
  {
   "cell_type": "code",
   "execution_count": 57,
   "metadata": {},
   "outputs": [],
   "source": [
    "# now we can write it as a combination of the input features\n",
    "# we'll sort the features by their absolute value to make it a bit easier to read\n",
    "def feature_equation(i):\n",
    "    transformation = linear_transformation(i)\n",
    "    bias = input_bias[i]\n",
    "    sorted_ixs = np.argsort(np.abs(transformation))[::-1]\n",
    "    features = [format_num(transformation[i]) + ' * ' + labels[i] for i in sorted_ixs if transformation[i] != 0]\n",
    "    if bias != 0:\n",
    "        features = [format_num(bias)] + features\n",
    "\n",
    "    return features"
   ]
  },
  {
   "cell_type": "code",
   "execution_count": 58,
   "metadata": {},
   "outputs": [
    {
     "name": "stdout",
     "output_type": "stream",
     "text": [
      "0: -0.63 * e2 + 0.38 * e1\n",
      "1: 1.82 * m1 + 0.99 * a1\n",
      "2: -0.70 * a3 + 0.30 * m1\n",
      "3: -0.59 * sin_Omega2 + 0.41 * sin_Omega3\n",
      "4: -5.25 * a2 + 4.66 * a3\n",
      "5: 1.52 * e3 + 0.10 * e1\n",
      "6: 1.04 * i2 + 0.37 * i3\n",
      "7: 1.37 * m2 + -0.26 * e3\n",
      "8: 1.50 * e1 + -0.23 * e3\n",
      "9: 1.32 * m3 + 0.068 * e1\n"
     ]
    }
   ],
   "source": [
    "for i in range(input_linear.shape[0]):\n",
    "    print(str(i) + \": \" + ' + '.join(feature_equation(i)))"
   ]
  },
  {
   "cell_type": "code",
   "execution_count": 59,
   "metadata": {},
   "outputs": [
    {
     "name": "stdout",
     "output_type": "stream",
     "text": [
      "['time', 'e+_near', 'e-_near', 'max_strength_mmr_near', 'e+_far', 'e-_far', 'max_strength_mmr_far', 'megno', 'a_1', 'e_1', 'i_1', '\\\\cos\\\\Omega_1', '\\\\sin\\\\Omega_1', '\\\\cos\\\\omega_1', '\\\\sin\\\\omega_1', '\\\\cos_theta_1', '\\\\sin_theta_1', 'a_2', 'e_2', 'i_2', '\\\\cos\\\\Omega_2', '\\\\sin\\\\Omega_2', '\\\\cos\\\\omega_2', '\\\\sin\\\\omega_2', '\\\\cos_theta_2', '\\\\sin_theta_2', 'a_3', 'e_3', 'i_3', '\\\\cos\\\\Omega_3', '\\\\sin\\\\Omega_3', '\\\\cos\\\\omega_3', '\\\\sin\\\\omega_3', '\\\\cos_theta_3', '\\\\sin_theta_3', 'm_1', 'm_2', 'm_3', 'nan_mmr_near', 'nan_mmr_far', 'nan_megno']\n"
     ]
    }
   ],
   "source": [
    "def convert_to_latex(label):\n",
    "    # 1. if it ends in a number, add an underscore\n",
    "    if label[-1].isdigit():\n",
    "        label = label[:-1] + '_' + label[-1]\n",
    "    # 2. replace sin/cos with \\sin/\\cos\n",
    "    label = label.replace('sin', '\\\\sin')\n",
    "    label = label.replace('cos', '\\\\cos')\n",
    "    label = label.replace('_Omega', '\\\\Omega')\n",
    "    label = label.replace('_pomega', '\\\\omega')\n",
    "    return label\n",
    "\n",
    "latex_labels = [convert_to_latex(label) for label in labels]\n",
    "print(latex_labels)"
   ]
  },
  {
   "cell_type": "code",
   "execution_count": 60,
   "metadata": {},
   "outputs": [],
   "source": [
    "def latex_line(i):\n",
    "    transformation = linear_transformation(i)\n",
    "    bias = input_bias[i]\n",
    "    sorted_ixs = np.argsort(np.abs(transformation))[::-1]\n",
    "    features = [format_num(transformation[i]) + ' ' + latex_labels[i] for i in sorted_ixs if transformation[i] != 0]\n",
    "    if bias != 0:\n",
    "        features = [format_num(bias)] + features\n",
    "\n",
    "    line = ' + '.join(features)\n",
    "    line = line.replace('+ -', '- ')\n",
    "    return line\n",
    "\n",
    "def latex_string():\n",
    "    s = '''\\\\begin{align*}\n",
    "    f_1& \\\\text{ features:} \\\\\\\\ \\n'''\n",
    "\n",
    "    for i in range(input_linear.shape[0]):\n",
    "        s += f'    &{i}: {latex_line(i)} \\\\\\\\ \\n'\n",
    "\n",
    "    s += '''\\end{align*}'''\n",
    "    return s\n"
   ]
  },
  {
   "cell_type": "code",
   "execution_count": 61,
   "metadata": {},
   "outputs": [
    {
     "data": {
      "text/markdown": [
       "$$\n",
       "\\begin{align*}\n",
       "    f_1& \\text{ features:} \\\\ \n",
       "    &0: -0.63 e_2 + 0.38 e_1 \\\\ \n",
       "    &1: 1.82 m_1 + 0.99 a_1 \\\\ \n",
       "    &2: -0.70 a_3 + 0.30 m_1 \\\\ \n",
       "    &3: -0.59 \\sin\\Omega_2 + 0.41 \\sin\\Omega_3 \\\\ \n",
       "    &4: -5.25 a_2 + 4.66 a_3 \\\\ \n",
       "    &5: 1.52 e_3 + 0.10 e_1 \\\\ \n",
       "    &6: 1.04 i_2 + 0.37 i_3 \\\\ \n",
       "    &7: 1.37 m_2 - 0.26 e_3 \\\\ \n",
       "    &8: 1.50 e_1 - 0.23 e_3 \\\\ \n",
       "    &9: 1.32 m_3 + 0.068 e_1 \\\\ \n",
       "\\end{align*}\n",
       "$$"
      ],
      "text/plain": [
       "<IPython.core.display.Markdown object>"
      ]
     },
     "metadata": {},
     "output_type": "display_data"
    }
   ],
   "source": [
    "from IPython.display import display, Markdown\n",
    "display(Markdown('$$\\n' + latex_string() + '\\n$$'))"
   ]
  },
  {
   "cell_type": "code",
   "execution_count": 62,
   "metadata": {},
   "outputs": [],
   "source": [
    "version = 24880\n",
    "model = spock_reg_model.load(version)\n",
    "feature_nn = model.feature_nn\n",
    "\n",
    "input_linear = feature_nn.linear.weight * feature_nn.mask\n",
    "input_linear = input_linear.detach().numpy()\n",
    "if feature_nn.linear.bias is not None:\n",
    "    input_bias = feature_nn.linear.bias.detach().numpy()\n",
    "else:\n",
    "    input_bias = np.zeros(input_linear.shape[0])"
   ]
  },
  {
   "cell_type": "code",
   "execution_count": 63,
   "metadata": {},
   "outputs": [],
   "source": [
    "def get_nonzero(arr):\n",
    "    return arr[arr.nonzero()], arr.nonzero()\n",
    "\n",
    "def set_nonzero(arr, values, indices):\n",
    "    arr[indices] = values"
   ]
  },
  {
   "cell_type": "code",
   "execution_count": 64,
   "metadata": {},
   "outputs": [],
   "source": [
    "def simplify(x, y, epsilon=0.1, zeroing_allowed=True):\n",
    "    if x == 0 and y == 0:\n",
    "        return (0, 0, 1), 0\n",
    "    if x == 0:\n",
    "        return (0, 1, 1/y), 0\n",
    "    if y == 0:\n",
    "        return (1, 0, 1/x), 0\n",
    "\n",
    "    best_simplification, best_magnitude, best_error = None, None, None\n",
    "    possible_values = list(range(-10, 11))\n",
    "    candidate_ratios = [(a, c) for a in possible_values for c in possible_values]\n",
    "\n",
    "    for a, b in candidate_ratios:\n",
    "        if not zeroing_allowed and (a == 0 or b == 0):\n",
    "            continue\n",
    "\n",
    "        k = 1\n",
    "        if a != 0:\n",
    "            k = x / a\n",
    "        if b != 0 and (a == 0 or abs(y) > abs(x)):\n",
    "            k = y / b\n",
    "\n",
    "        if k < 0: continue\n",
    "        x2, y2 = k * a, k * b\n",
    "\n",
    "        error = abs(x - x2) + abs(y - y2)\n",
    "        # should be measured with the normalized values, not the original.\n",
    "        if error >= epsilon: continue\n",
    "\n",
    "        magnitude = abs(a) + abs(b)\n",
    "\n",
    "        if best_error is None or magnitude < best_magnitude or magnitude == best_magnitude and error < best_error:\n",
    "            best_simplification, best_error, best_magnitude = (a, b, x2, y2), error, magnitude\n",
    "\n",
    "    return best_simplification, best_error"
   ]
  },
  {
   "cell_type": "code",
   "execution_count": 69,
   "metadata": {},
   "outputs": [],
   "source": [
    "def simplify_stuff(input_linear, epsilon=0.1, normalize=True, zeroing_allowed=True):\n",
    "    input_linear2 = input_linear.copy()\n",
    "    for i in range(input_linear.shape[0]):\n",
    "        nonzero, indices = get_nonzero(input_linear[i])\n",
    "        x, y = nonzero\n",
    "        print('original:\\t', f'{x:.3f} {y:.3f}')\n",
    "\n",
    "        if normalize:\n",
    "            l1 = abs(x) + abs(y)\n",
    "            x, y = x / l1, y / l1\n",
    "            print('normalized:\\t', f'{x:.3f} {y:.3f}')\n",
    "\n",
    "        simplification, error = simplify(x, y, epsilon=epsilon, zeroing_allowed=zeroing_allowed)\n",
    "        if simplification is None:\n",
    "            print(\"no simplification found\")\n",
    "            nonzero = [x, y]\n",
    "        else:\n",
    "            a, b, x2, y2 = simplification\n",
    "            print(\"new values:\\t\", f\"{x2:.3f} {y2:.3f}\", \"with error\", f\"{error:.3f}\")\n",
    "            print(\"ratio:\\t\\t\", f\"{a} {b}\")\n",
    "            nonzero = [x2, y2]\n",
    "\n",
    "            if normalize:\n",
    "                l1 = abs(x2) + abs(y2)\n",
    "                x2, y2 = x2 / l1, y2 / l1\n",
    "                print(\"final normed:\\t\", f\"{x2:.3f} {y2:.3f}\")\n",
    "                nonzero = [x2, y2]\n",
    "\n",
    "\n",
    "        print()\n",
    "        set_nonzero(input_linear2[i], nonzero, indices)\n",
    "\n",
    "    input_linear2 = torch.tensor(input_linear2)\n",
    "    feature_nn.linear.weight = torch.nn.Parameter(input_linear2)\n",
    "\n",
    "    s = '24880_feature_nn_simplified_v3_'\n",
    "    # if normalize:\n",
    "        # s += 'norm_'\n",
    "    # if not zeroing_allowed:\n",
    "        # s += 'nozero_'\n",
    "    s += f'eps={epsilon}.pt'\n",
    "\n",
    "    torch.save(feature_nn, s)\n",
    "    print(f'saved to', s)"
   ]
  },
  {
   "cell_type": "code",
   "execution_count": 71,
   "metadata": {},
   "outputs": [
    {
     "name": "stdout",
     "output_type": "stream",
     "text": [
      "original:\t 0.996 -1.664\n",
      "normalized:\t 0.375 -0.625\n",
      "new values:\t 0.375 -0.625 with error 0.001\n",
      "ratio:\t\t 3 -5\n",
      "final normed:\t 0.375 -0.625\n",
      "\n",
      "original:\t 0.994 1.816\n",
      "normalized:\t 0.354 0.646\n",
      "no simplification found\n",
      "\n",
      "original:\t -1.341 0.575\n",
      "normalized:\t -0.700 0.300\n",
      "new values:\t -0.700 0.300 with error 0.000\n",
      "ratio:\t\t -7 3\n",
      "final normed:\t -0.700 0.300\n",
      "\n",
      "original:\t -0.776 0.544\n",
      "normalized:\t -0.588 0.412\n",
      "new values:\t -0.588 0.412 with error 0.000\n",
      "ratio:\t\t -10 7\n",
      "final normed:\t -0.588 0.412\n",
      "\n",
      "original:\t -5.254 4.657\n",
      "normalized:\t -0.530 0.470\n",
      "no simplification found\n",
      "\n",
      "original:\t 0.104 1.517\n",
      "normalized:\t 0.064 0.936\n",
      "no simplification found\n",
      "\n",
      "original:\t 1.040 0.373\n",
      "normalized:\t 0.736 0.264\n",
      "no simplification found\n",
      "\n",
      "original:\t -0.256 1.373\n",
      "normalized:\t -0.157 0.843\n",
      "no simplification found\n",
      "\n",
      "original:\t 1.500 -0.233\n",
      "normalized:\t 0.865 -0.135\n",
      "no simplification found\n",
      "\n",
      "original:\t 0.068 1.321\n",
      "normalized:\t 0.049 0.951\n",
      "no simplification found\n",
      "\n",
      "saved to 24880_feature_nn_simplified_v3_eps=0.001.pt\n"
     ]
    }
   ],
   "source": [
    "simplify_stuff(input_linear, epsilon=0.001, normalize=True, zeroing_allowed=False)"
   ]
  },
  {
   "cell_type": "code",
   "execution_count": null,
   "metadata": {},
   "outputs": [],
   "source": []
  },
  {
   "cell_type": "code",
   "execution_count": null,
   "metadata": {},
   "outputs": [],
   "source": []
  },
  {
   "cell_type": "code",
   "execution_count": null,
   "metadata": {},
   "outputs": [],
   "source": []
  },
  {
   "cell_type": "code",
   "execution_count": null,
   "metadata": {},
   "outputs": [],
   "source": []
  },
  {
   "cell_type": "code",
   "execution_count": null,
   "metadata": {},
   "outputs": [],
   "source": []
  }
 ],
 "metadata": {
  "kernelspec": {
   "display_name": "base",
   "language": "python",
   "name": "python3"
  },
  "language_info": {
   "codemirror_mode": {
    "name": "ipython",
    "version": 3
   },
   "file_extension": ".py",
   "mimetype": "text/x-python",
   "name": "python",
   "nbconvert_exporter": "python",
   "pygments_lexer": "ipython3",
   "version": "3.7.12"
  }
 },
 "nbformat": 4,
 "nbformat_minor": 2
}
