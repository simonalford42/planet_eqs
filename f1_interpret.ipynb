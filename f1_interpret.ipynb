{
 "cells": [
  {
   "cell_type": "code",
   "execution_count": 1,
   "metadata": {},
   "outputs": [
    {
     "name": "stderr",
     "output_type": "stream",
     "text": [
      "/home/elg227/.conda/envs/bnn_chaos_model/lib/python3.7/site-packages/tqdm/auto.py:21: TqdmWarning: IProgress not found. Please update jupyter and ipywidgets. See https://ipywidgets.readthedocs.io/en/stable/user_install.html\n",
      "  from .autonotebook import tqdm as notebook_tqdm\n"
     ]
    }
   ],
   "source": [
    "import torch\n",
    "import pickle\n",
    "from matplotlib import pyplot as plt\n",
    "import numpy as np\n",
    "import pysr"
   ]
  },
  {
   "cell_type": "code",
   "execution_count": 2,
   "metadata": {},
   "outputs": [],
   "source": [
    "labels = ['time', 'e+_near', 'e-_near', 'max_strength_mmr_near', 'e+_far', 'e-_far', 'max_strength_mmr_far', 'megno', 'a1', 'e1', 'i1', 'cos_Omega1', 'sin_Omega1', 'cos_pomega1', 'sin_pomega1', 'cos_theta1', 'sin_theta1', 'a2', 'e2', 'i2', 'cos_Omega2', 'sin_Omega2', 'cos_pomega2', 'sin_pomega2', 'cos_theta2', 'sin_theta2', 'a3', 'e3', 'i3', 'cos_Omega3', 'sin_Omega3', 'cos_pomega3', 'sin_pomega3', 'cos_theta3', 'sin_theta3', 'm1', 'm2', 'm3', 'nan_mmr_near', 'nan_mmr_far', 'nan_megno']\n",
    "\n",
    "# not all of these labels are actually used. for training, these inputs are zeroed out, but still passed in as zeroes.\n",
    "# ideally, the linear layer ignores them, which does happen if i do l1 regularization to it\n",
    "skipped = ['nan_mmr_near', 'nan_mmr_far', 'nan_megno', 'e+_near', 'e-_near', 'max_strength_mmr_near', 'e+_far', 'e-_far', 'max_strength_mmr_far', 'megno']"
   ]
  },
  {
   "cell_type": "code",
   "execution_count": 10,
   "metadata": {},
   "outputs": [],
   "source": [
    "# l1 reg = 2: 95944\n",
    "# feature_nn = torch.load('models/95944_feature_nn.pt')\n",
    "\n",
    "# l1 reg = 0.2: 92122\n",
    "# feature_nn = torch.load('models/92122_feature_nn.pt')\n",
    "\n",
    "# l1 nonabs reg: 63524\n",
    "# feature_nn = torch.load('models/63524_feature_nn.pt')\n",
    "\n",
    "# topk 2 pruned masked linear\n",
    "# feature_nn = torch.load('models/52410_feature_nn.pt')\n",
    "\n",
    "feature_nn = torch.load('models/250_feature_nn.pt')"
   ]
  },
  {
   "cell_type": "code",
   "execution_count": 11,
   "metadata": {},
   "outputs": [
    {
     "data": {
      "text/plain": [
       "(20, 41)"
      ]
     },
     "execution_count": 11,
     "metadata": {},
     "output_type": "execute_result"
    }
   ],
   "source": [
    "# this gives the (n_features, n_inputs) matrix of the linear transformation used as f1\n",
    "input_linear = feature_nn.weight.detach().numpy()\n",
    "input_bias = feature_nn.bias.detach().numpy()\n",
    "input_linear.shape"
   ]
  },
  {
   "cell_type": "code",
   "execution_count": 7,
   "metadata": {},
   "outputs": [],
   "source": [
    "input_linear = feature_nn.mask * feature_nn.linear.weight\n",
    "input_linear = input_linear.detach().numpy()\n",
    "input_bias = feature_nn.linear.bias.detach().numpy()\n",
    "torch.save(input_linear, 'models/52410_input_linear.pt')\n",
    "torch.save(input_bias, 'models/52410_input_bias.pt')"
   ]
  },
  {
   "cell_type": "code",
   "execution_count": 6,
   "metadata": {},
   "outputs": [],
   "source": [
    "\n",
    "# m_i is the mean of the i'th feature, s_i is the standard deviation\n",
    "# get the linear transformation that creates feature i\n",
    "def linear_transformation(i):\n",
    "    return input_linear[i]"
   ]
  },
  {
   "cell_type": "code",
   "execution_count": 7,
   "metadata": {},
   "outputs": [],
   "source": [
    "\n",
    "# let's make the linear transformation a bit easier to read\n",
    "def format_num(x):\n",
    "    if abs(x) > 0.1:\n",
    "        return f'{x:.2f}'\n",
    "    if abs(x) > 0.01:\n",
    "        return f'{x:.3f}'\n",
    "    elif abs(x) > 0.001:\n",
    "        return f'{x:.4f}'\n",
    "    else:\n",
    "        return f'{x:.2e}'\n",
    "\n",
    "format_vec = np.vectorize(format_num)"
   ]
  },
  {
   "cell_type": "code",
   "execution_count": 8,
   "metadata": {},
   "outputs": [],
   "source": [
    "# now we can write it as a combination of the input features\n",
    "# we'll sort the features by their absolute value to make it a bit easier to read\n",
    "def feature_equation(i):\n",
    "    transformation = linear_transformation(i)\n",
    "    bias = input_bias[i]\n",
    "    sorted_ixs = np.argsort(np.abs(transformation))[::-1]\n",
    "    return [format_num(bias)] + [format_num(transformation[i]) + ' * ' + labels[i] for i in sorted_ixs if transformation[i] != 0]"
   ]
  },
  {
   "cell_type": "code",
   "execution_count": 12,
   "metadata": {},
   "outputs": [
    {
     "name": "stdout",
     "output_type": "stream",
     "text": [
      "feature 0:\n",
      "8.66e-05 + 0.023 * a3 + 0.017 * megno + 0.014 * e+_near + -0.013 * nan_mmr_near + -0.012 * a2 + -0.0096 * m2 + -0.0093 * nan_megno + 0.0092 * e+_far + 0.0090 * max_strength_mmr_far + 0.0086 * max_strength_mmr_near + -0.0063 * m3 + -0.0050 * e-_far + -0.0025 * m1 + 0.0024 * i1 + -0.0019 * e1 + 0.0016 * i3 + 0.0016 * e-_near + -0.0016 * i2 + -0.0014 * nan_mmr_far + -0.0012 * sin_Omega2 + -0.0012 * sin_pomega1 + -0.0012 * e2 + -8.62e-04 * cos_pomega3 + 8.52e-04 * sin_pomega3 + -7.53e-04 * cos_pomega2 + -7.28e-04 * cos_Omega1 + 7.05e-04 * cos_Omega2 + 6.06e-04 * e3 + 5.49e-04 * cos_Omega3 + 4.21e-04 * a1 + -4.05e-04 * sin_pomega2 + -3.77e-04 * sin_Omega1 + 3.19e-04 * sin_theta3 + -1.94e-04 * sin_theta2 + -1.45e-04 * cos_theta2 + 1.20e-04 * time + -8.99e-05 * sin_theta1 + -6.72e-05 * cos_theta1 + -6.05e-05 * cos_theta3 + -3.81e-05 * sin_Omega3 + -1.05e-05 * cos_pomega1\n",
      "\n",
      "feature 1:\n",
      "0.030 + -1.21 * i2 + -0.12 * e2 + 0.12 * i3 + 0.093 * i1 + -0.071 * e3 + 0.070 * a3 + -0.055 * m2 + -0.052 * e1 + -0.044 * time + 0.043 * m1 + 0.030 * m3 + 0.025 * sin_Omega1 + -0.024 * cos_Omega1 + 0.022 * cos_Omega3 + -0.022 * sin_Omega2 + -0.021 * cos_pomega2 + -0.017 * sin_pomega1 + -0.011 * cos_Omega2 + -0.011 * cos_pomega1 + -0.0070 * cos_pomega3 + -0.0054 * sin_pomega2 + -0.0052 * a1 + -0.0043 * sin_pomega3 + 0.0033 * sin_Omega3 + -0.0032 * sin_theta2 + -0.0021 * sin_theta3 + 0.0017 * cos_theta3 + -9.38e-04 * cos_theta1 + -6.86e-04 * nan_mmr_far + 6.68e-04 * e+_near + 6.00e-04 * e-_far + -5.10e-04 * nan_mmr_near + -4.76e-04 * max_strength_mmr_near + -4.47e-04 * a2 + -3.72e-04 * cos_theta2 + 3.49e-04 * nan_megno + 3.34e-04 * max_strength_mmr_far + 2.85e-04 * e-_near + -2.35e-04 * e+_far + 2.12e-04 * megno + 1.69e-04 * sin_theta1\n",
      "\n",
      "feature 2:\n",
      "0.0021 + -0.60 * m1 + 0.34 * e3 + -0.32 * m3 + -0.24 * a3 + 0.20 * a1 + 0.16 * i1 + 0.16 * m2 + 0.087 * cos_pomega2 + -0.085 * cos_theta3 + 0.071 * cos_Omega2 + 0.071 * i3 + 0.061 * sin_theta3 + 0.056 * e1 + 0.051 * sin_theta2 + -0.049 * cos_Omega1 + -0.044 * sin_Omega1 + -0.040 * a2 + -0.038 * i2 + -0.036 * sin_pomega1 + -0.033 * cos_pomega3 + 0.032 * sin_Omega2 + -0.031 * cos_theta2 + -0.031 * sin_theta1 + -0.028 * time + 0.025 * e2 + 0.022 * cos_theta1 + -0.021 * cos_pomega1 + 0.020 * cos_Omega3 + 0.014 * nan_megno + 0.0098 * e+_near + -0.0085 * nan_mmr_near + 0.0084 * max_strength_mmr_far + 0.0075 * sin_pomega2 + -0.0066 * sin_Omega3 + 0.0065 * e-_near + -0.0060 * max_strength_mmr_near + -0.0056 * e-_far + 0.0033 * sin_pomega3 + 0.0031 * e+_far + 0.0025 * megno + 9.80e-04 * nan_mmr_far\n",
      "\n",
      "feature 3:\n",
      "0.042 + -0.77 * cos_pomega2 + 0.58 * cos_pomega1 + 0.53 * cos_pomega3 + -0.32 * i2 + -0.22 * i1 + -0.18 * sin_pomega1 + 0.18 * e2 + 0.17 * a1 + -0.13 * i3 + -0.12 * sin_pomega3 + -0.11 * e3 + 0.098 * sin_pomega2 + -0.066 * a3 + 0.035 * sin_Omega3 + -0.034 * cos_theta1 + -0.033 * cos_theta3 + 0.031 * cos_Omega2 + 0.029 * e1 + -0.020 * sin_Omega2 + 0.019 * m2 + 0.015 * sin_theta1 + 0.014 * sin_Omega1 + -0.012 * sin_theta3 + 0.0098 * sin_theta2 + -0.0073 * m1 + 0.0068 * cos_theta2 + 0.0066 * cos_Omega3 + 0.0045 * time + 0.0044 * m3 + 0.0036 * nan_mmr_far + -0.0023 * cos_Omega1 + 0.0023 * nan_mmr_near + -0.0018 * max_strength_mmr_near + -0.0015 * e+_near + -0.0014 * e-_near + 0.0012 * a2 + -7.69e-04 * e+_far + 3.45e-04 * e-_far + 2.39e-04 * max_strength_mmr_far + 1.27e-04 * megno + -6.16e-05 * nan_megno\n",
      "\n",
      "feature 4:\n",
      "-8.24e-04 + 0.025 * a3 + -0.013 * a2 + -0.0091 * m2 + -0.0061 * max_strength_mmr_near + -0.0060 * e-_near + -0.0056 * m3 + 0.0049 * e+_near + -0.0047 * nan_mmr_far + 0.0041 * nan_megno + -0.0032 * e2 + -0.0025 * e-_far + -0.0022 * e1 + -0.0022 * nan_mmr_near + -0.0021 * e+_far + -0.0016 * i2 + 0.0014 * i3 + 0.0014 * megno + -0.0014 * m1 + 0.0013 * sin_pomega2 + 0.0010 * max_strength_mmr_far + -0.0010 * e3 + 9.11e-04 * cos_Omega2 + -8.10e-04 * time + -6.75e-04 * cos_Omega1 + -6.62e-04 * sin_Omega2 + 5.48e-04 * sin_Omega1 + -5.32e-04 * sin_pomega3 + 4.72e-04 * sin_Omega3 + 4.37e-04 * sin_pomega1 + -2.42e-04 * cos_pomega3 + -1.99e-04 * cos_pomega2 + 1.72e-04 * a1 + 1.44e-04 * cos_theta1 + 1.28e-04 * cos_theta2 + 9.81e-05 * sin_theta3 + 8.38e-05 * cos_theta3 + -5.95e-05 * i1 + 5.32e-05 * sin_theta1 + 4.82e-05 * cos_Omega3 + 2.86e-05 * sin_theta2 + -1.08e-05 * cos_pomega1\n",
      "\n",
      "feature 5:\n",
      "-0.0051 + 0.53 * cos_Omega3 + 0.52 * time + 0.40 * e2 + -0.37 * sin_Omega3 + -0.30 * a3 + 0.24 * sin_Omega1 + -0.22 * i1 + -0.22 * cos_Omega1 + 0.16 * e3 + -0.071 * i3 + 0.060 * sin_pomega1 + 0.051 * m2 + -0.045 * cos_pomega3 + -0.043 * i2 + 0.030 * cos_pomega2 + 0.027 * sin_pomega2 + 0.026 * m3 + -0.025 * e1 + -0.024 * cos_theta1 + -0.022 * sin_Omega2 + -0.012 * cos_pomega1 + 0.011 * a1 + 0.0092 * sin_theta1 + -0.0087 * m1 + 0.0074 * cos_Omega2 + 0.0074 * sin_theta2 + -0.0064 * a2 + 0.0063 * cos_theta2 + 0.0062 * cos_theta3 + -0.0045 * e+_far + -0.0034 * sin_pomega3 + 0.0033 * max_strength_mmr_near + -0.0027 * nan_megno + 0.0025 * max_strength_mmr_far + -0.0021 * megno + 0.0019 * e+_near + -0.0012 * e-_near + 9.63e-04 * nan_mmr_near + -8.74e-04 * e-_far + -7.26e-04 * nan_mmr_far + 4.76e-04 * sin_theta3\n",
      "\n",
      "feature 6:\n",
      "-2.65e-04 + -0.018 * nan_mmr_near + -0.012 * nan_megno + 0.012 * e-_far + -0.012 * max_strength_mmr_near + 0.011 * megno + -0.0086 * a3 + -0.0071 * max_strength_mmr_far + -0.0065 * e+_far + 0.0051 * a2 + 0.0032 * m2 + -0.0023 * nan_mmr_far + -0.0019 * e+_near + 0.0016 * m3 + -0.0014 * sin_pomega3 + -0.0011 * e-_near + 0.0010 * a1 + -0.0010 * cos_pomega2 + -9.89e-04 * sin_Omega3 + 9.56e-04 * cos_pomega1 + 8.91e-04 * i2 + 8.86e-04 * cos_Omega3 + 7.77e-04 * e3 + -5.87e-04 * sin_Omega2 + -4.53e-04 * i1 + 4.26e-04 * m1 + 4.01e-04 * cos_pomega3 + 3.06e-04 * i3 + -2.47e-04 * cos_Omega2 + 2.43e-04 * sin_Omega1 + 2.10e-04 * e2 + -2.08e-04 * sin_pomega2 + 1.06e-04 * time + -7.79e-05 * cos_theta3 + 5.44e-05 * sin_theta3 + -5.44e-05 * cos_theta2 + 4.43e-05 * sin_pomega1 + -3.72e-05 * cos_theta1 + -3.42e-05 * cos_Omega1 + 3.09e-05 * e1 + -2.12e-05 * sin_theta2 + 2.75e-06 * sin_theta1\n",
      "\n",
      "feature 7:\n",
      "-0.0097 + -0.92 * cos_Omega2 + -0.14 * sin_Omega2 + 0.13 * e2 + -0.049 * a3 + -0.024 * cos_Omega3 + 0.013 * e3 + -0.010 * sin_Omega1 + 0.0095 * e1 + 0.0093 * a1 + 0.0084 * sin_pomega2 + 0.0080 * i2 + 0.0070 * i3 + 0.0065 * sin_pomega3 + -0.0061 * i1 + 0.0057 * cos_Omega1 + -0.0052 * sin_Omega3 + 0.0048 * cos_pomega2 + 0.0019 * cos_pomega3 + -0.0017 * m1 + 0.0016 * sin_pomega1 + 0.0016 * sin_theta2 + -0.0012 * cos_theta2 + -0.0011 * cos_theta1 + -0.0011 * cos_pomega1 + 0.0011 * time + -0.0011 * m2 + -8.41e-04 * sin_theta1 + -8.36e-04 * sin_theta3 + 7.46e-04 * cos_theta3 + -6.38e-04 * a2 + 4.36e-04 * e-_near + 3.14e-04 * nan_mmr_far + -3.06e-04 * e-_far + -2.69e-04 * nan_megno + 2.27e-04 * max_strength_mmr_near + 2.19e-04 * e+_far + 1.89e-04 * e+_near + -1.72e-04 * nan_mmr_near + -1.50e-04 * max_strength_mmr_far + -1.35e-04 * m3 + -2.50e-05 * megno\n",
      "\n",
      "feature 8:\n",
      "-5.78e-04 + -0.041 * a3 + 0.019 * nan_mmr_far + 0.018 * a2 + 0.017 * m2 + 0.017 * max_strength_mmr_near + -0.014 * e-_far + -0.014 * e+_far + -0.012 * nan_mmr_near + 0.011 * m3 + -0.011 * e+_near + -0.0073 * e-_near + -0.0053 * max_strength_mmr_far + 0.0044 * e2 + 0.0032 * e1 + -0.0027 * i3 + 0.0026 * m1 + -0.0017 * sin_pomega2 + 0.0016 * cos_pomega2 + -0.0014 * nan_megno + 9.33e-04 * e3 + 9.13e-04 * sin_Omega2 + 7.93e-04 * i2 + -5.12e-04 * cos_Omega3 + 4.94e-04 * cos_pomega3 + -4.61e-04 * cos_theta2 + -3.58e-04 * time + -3.50e-04 * megno + 3.36e-04 * cos_Omega2 + -3.17e-04 * i1 + 2.94e-04 * sin_Omega3 + 2.30e-04 * cos_pomega1 + 2.13e-04 * sin_pomega3 + -1.92e-04 * sin_theta3 + 1.83e-04 * sin_theta2 + -1.69e-04 * sin_pomega1 + 1.52e-04 * cos_theta1 + 1.33e-04 * sin_Omega1 + -1.10e-04 * cos_Omega1 + -1.04e-04 * sin_theta1 + -8.80e-05 * a1 + -5.75e-05 * cos_theta3\n",
      "\n",
      "feature 9:\n",
      "0.013 + 0.97 * sin_Omega2 + -0.12 * cos_Omega2 + 0.033 * sin_pomega2 + 0.033 * e1 + 0.026 * i2 + -0.025 * e2 + 0.021 * sin_Omega3 + -0.013 * cos_Omega1 + -0.013 * a3 + -0.011 * i1 + 0.011 * sin_pomega1 + 0.0092 * e3 + -0.0063 * cos_Omega3 + 0.0060 * i3 + 0.0057 * sin_pomega3 + 0.0038 * cos_pomega3 + 0.0033 * cos_pomega2 + 0.0033 * a1 + 0.0024 * cos_pomega1 + -0.0010 * cos_theta2 + 8.53e-04 * sin_Omega1 + 7.98e-04 * sin_theta2 + 6.25e-04 * m3 + -5.31e-04 * cos_theta1 + 5.24e-04 * a2 + -5.12e-04 * e-_far + -5.12e-04 * megno + 4.71e-04 * sin_theta3 + 4.67e-04 * max_strength_mmr_far + -3.23e-04 * nan_mmr_far + -3.02e-04 * cos_theta3 + -2.43e-04 * e-_near + 2.04e-04 * m2 + -1.89e-04 * sin_theta1 + 1.54e-04 * time + -1.38e-04 * max_strength_mmr_near + 1.27e-04 * m1 + -1.02e-04 * e+_near + -9.21e-05 * e+_far + 7.42e-05 * nan_mmr_near + -6.45e-05 * nan_megno\n",
      "\n",
      "feature 10:\n",
      "0.0040 + -0.84 * cos_pomega2 + 0.70 * e2 + -0.29 * a3 + 0.12 * sin_pomega2 + -0.074 * i2 + 0.061 * e3 + -0.026 * a1 + 0.022 * e1 + -0.017 * sin_Omega3 + 0.014 * time + -0.014 * i1 + -0.014 * sin_Omega2 + -0.013 * cos_pomega3 + -0.012 * i3 + -0.011 * sin_pomega1 + -0.0068 * cos_Omega2 + -0.0062 * cos_pomega1 + -0.0055 * m1 + 0.0053 * cos_theta1 + 0.0046 * cos_Omega1 + 0.0043 * cos_theta3 + -0.0036 * cos_theta2 + 0.0030 * m2 + -0.0027 * m3 + -0.0025 * sin_pomega3 + -0.0023 * sin_theta1 + -0.0013 * a2 + -0.0012 * sin_Omega1 + 9.81e-04 * max_strength_mmr_far + 9.21e-04 * nan_megno + 9.16e-04 * e+_near + -7.81e-04 * megno + 6.64e-04 * e-_near + 6.58e-04 * e-_far + -6.43e-04 * cos_Omega3 + 5.42e-04 * e+_far + 5.23e-04 * nan_mmr_near + -4.69e-04 * nan_mmr_far + -2.98e-04 * max_strength_mmr_near + 2.04e-04 * sin_theta2 + 1.03e-04 * sin_theta3\n",
      "\n",
      "feature 11:\n",
      "-0.032 + -1.17 * a3 + -0.49 * m2 + 0.26 * m1 + 0.26 * e1 + 0.25 * m3 + 0.24 * e2 + 0.23 * e3 + 0.21 * i2 + 0.14 * a2 + 0.088 * i3 + -0.070 * a1 + 0.065 * i1 + -0.042 * time + 0.039 * sin_theta3 + 0.019 * sin_Omega2 + -0.017 * sin_pomega3 + -0.017 * cos_theta1 + -0.013 * cos_theta3 + 0.012 * cos_pomega3 + 0.011 * cos_Omega3 + -0.011 * sin_theta1 + -0.011 * sin_Omega3 + 0.010 * sin_theta2 + 0.0090 * cos_theta2 + -0.0088 * cos_Omega1 + -0.0079 * sin_pomega1 + -0.0074 * sin_Omega1 + 0.0069 * nan_megno + 0.0067 * cos_pomega1 + -0.0056 * sin_pomega2 + -0.0048 * cos_pomega2 + 0.0045 * megno + -0.0037 * cos_Omega2 + 0.0035 * e-_near + -0.0034 * e+_far + 0.0032 * nan_mmr_near + 0.0031 * nan_mmr_far + -0.0020 * max_strength_mmr_far + -0.0019 * max_strength_mmr_near + -9.41e-04 * e+_near + 2.19e-04 * e-_far\n",
      "\n",
      "feature 12:\n",
      "-2.57e-04 + 0.028 * a3 + -0.012 * a2 + -0.012 * m2 + -0.0070 * m3 + -0.0068 * e2 + -0.0023 * m1 + -0.0017 * a1 + -8.55e-04 * e1 + -8.55e-04 * sin_Omega3 + 7.89e-04 * time + -6.19e-04 * cos_pomega3 + -5.41e-04 * cos_Omega2 + -5.32e-04 * sin_Omega1 + 4.79e-04 * sin_Omega2 + 3.65e-04 * cos_theta3 + 3.30e-04 * sin_pomega3 + -2.86e-04 * i2 + -2.76e-04 * sin_theta2 + 2.59e-04 * e+_near + -2.46e-04 * cos_pomega1 + -2.43e-04 * nan_megno + 2.26e-04 * e3 + 2.22e-04 * i3 + 1.78e-04 * sin_theta1 + 1.70e-04 * e-_near + 1.68e-04 * cos_pomega2 + 1.63e-04 * i1 + -1.62e-04 * cos_Omega3 + -1.56e-04 * sin_theta3 + 1.53e-04 * max_strength_mmr_near + -1.50e-04 * max_strength_mmr_far + -1.43e-04 * e-_far + 1.31e-04 * cos_theta2 + -9.19e-05 * sin_pomega1 + -8.98e-05 * nan_mmr_near + 8.87e-05 * sin_pomega2 + -8.85e-05 * cos_theta1 + -6.90e-05 * cos_Omega1 + 4.28e-05 * e+_far + 3.88e-05 * nan_mmr_far + -3.90e-06 * megno\n",
      "\n",
      "feature 13:\n",
      "-0.0096 + 5.62 * a3 + -0.34 * a1 + 0.0043 * e3 + -0.0042 * sin_pomega1 + 0.0038 * e2 + 0.0035 * time + -0.0032 * i1 + -0.0030 * cos_Omega3 + -0.0030 * sin_Omega1 + 0.0022 * sin_pomega3 + 0.0022 * cos_pomega2 + 0.0022 * e1 + -0.0022 * cos_theta2 + 0.0021 * cos_pomega1 + 0.0021 * i3 + -0.0021 * sin_theta2 + 0.0019 * cos_pomega3 + 0.0018 * cos_Omega1 + 0.0018 * cos_theta3 + -0.0011 * sin_theta1 + -0.0011 * a2 + 0.0011 * nan_megno + -0.0010 * cos_Omega2 + -9.99e-04 * sin_Omega2 + -9.31e-04 * megno + -8.73e-04 * m1 + -8.69e-04 * e-_far + -8.09e-04 * sin_pomega2 + 7.88e-04 * i2 + -7.82e-04 * sin_Omega3 + 7.40e-04 * nan_mmr_near + 7.31e-04 * max_strength_mmr_near + -6.57e-04 * nan_mmr_far + -6.46e-04 * max_strength_mmr_far + 4.42e-04 * m3 + -4.09e-04 * m2 + -3.69e-04 * e+_near + 2.23e-04 * cos_theta1 + -1.11e-04 * sin_theta3 + -6.30e-05 * e+_far + 2.27e-05 * e-_near\n",
      "\n",
      "feature 14:\n",
      "0.0012 + -0.034 * max_strength_mmr_near + -0.026 * megno + 0.023 * nan_mmr_near + -0.020 * e+_far + 0.018 * e-_near + 0.018 * nan_megno + -0.011 * nan_mmr_far + 0.0064 * e-_far + 0.0042 * e2 + -0.0027 * a3 + 0.0023 * a2 + 0.0018 * e+_near + -0.0014 * e1 + -0.0013 * i1 + -0.0013 * cos_Omega2 + -0.0012 * sin_Omega2 + 0.0011 * m3 + 9.48e-04 * m2 + -8.73e-04 * cos_Omega1 + 8.62e-04 * sin_pomega3 + -7.79e-04 * m1 + 5.96e-04 * cos_pomega3 + -5.50e-04 * i3 + -5.49e-04 * i2 + 5.15e-04 * sin_Omega1 + -4.26e-04 * e3 + -3.83e-04 * sin_pomega2 + 3.56e-04 * sin_pomega1 + 3.30e-04 * a1 + -3.03e-04 * sin_theta3 + 2.07e-04 * cos_theta2 + -1.58e-04 * cos_pomega2 + -1.45e-04 * sin_theta1 + -1.34e-04 * cos_pomega1 + -1.24e-04 * cos_theta3 + 1.06e-04 * time + 7.43e-05 * cos_theta1 + 6.68e-05 * sin_theta2 + -4.34e-05 * cos_Omega3 + -1.82e-05 * sin_Omega3 + 9.69e-06 * max_strength_mmr_far\n",
      "\n",
      "feature 15:\n",
      "-1.12e-04 + 0.033 * a3 + -0.016 * a2 + -0.012 * m2 + -0.0096 * m3 + -0.0054 * e2 + -0.0032 * m1 + -0.0021 * e3 + -0.0015 * e1 + 0.0015 * i3 + 0.0012 * sin_Omega1 + 0.0011 * sin_Omega3 + 6.91e-04 * sin_pomega3 + -6.70e-04 * cos_Omega3 + 6.01e-04 * cos_Omega1 + 5.87e-04 * cos_pomega1 + -5.32e-04 * time + 3.63e-04 * sin_pomega2 + 3.25e-04 * cos_theta3 + 2.80e-04 * max_strength_mmr_far + 2.65e-04 * sin_Omega2 + 2.39e-04 * cos_pomega3 + -2.01e-04 * cos_theta2 + -1.81e-04 * a1 + -1.77e-04 * sin_theta2 + 1.61e-04 * nan_megno + 1.56e-04 * e-_far + -1.51e-04 * sin_theta3 + -1.31e-04 * cos_pomega2 + 1.25e-04 * e+_near + -1.16e-04 * megno + -1.06e-04 * cos_Omega2 + 1.00e-04 * e+_far + -9.47e-05 * i2 + 8.81e-05 * max_strength_mmr_near + -7.68e-05 * e-_near + 7.36e-05 * i1 + 6.53e-05 * nan_mmr_far + 5.95e-05 * cos_theta1 + -3.83e-05 * nan_mmr_near + 2.26e-05 * sin_theta1 + 2.21e-05 * sin_pomega1\n",
      "\n",
      "feature 16:\n",
      "4.14e-04 + 0.038 * a3 + -0.030 * e+_near + 0.028 * e-_near + 0.025 * e+_far + -0.024 * e-_far + -0.019 * nan_mmr_far + -0.018 * a2 + -0.014 * m2 + -0.012 * nan_megno + -0.011 * megno + -0.010 * m3 + 0.0099 * max_strength_mmr_far + -0.0039 * m1 + -0.0035 * e1 + -0.0033 * e2 + -0.0031 * nan_mmr_near + 0.0023 * i3 + -0.0014 * e3 + 0.0012 * i1 + -0.0011 * sin_Omega2 + -0.0011 * max_strength_mmr_near + -8.40e-04 * sin_Omega1 + -7.64e-04 * cos_Omega3 + 7.55e-04 * sin_pomega2 + 7.06e-04 * sin_pomega3 + 5.23e-04 * cos_theta3 + 3.96e-04 * a1 + 3.90e-04 * cos_pomega2 + 3.44e-04 * sin_pomega1 + -3.22e-04 * i2 + 3.10e-04 * cos_Omega1 + 2.92e-04 * cos_pomega3 + 2.53e-04 * cos_pomega1 + 1.66e-04 * cos_Omega2 + 1.65e-04 * sin_theta3 + 1.18e-04 * time + -1.08e-04 * sin_theta1 + 9.20e-05 * cos_theta1 + 5.82e-05 * sin_Omega3 + -4.11e-05 * sin_theta2 + 1.53e-05 * cos_theta2\n",
      "\n",
      "feature 17:\n",
      "-0.0080 + -0.56 * time + 0.45 * cos_Omega3 + -0.44 * e2 + -0.38 * sin_Omega3 + 0.37 * a3 + 0.26 * sin_Omega1 + 0.22 * i3 + -0.20 * cos_Omega1 + -0.18 * e3 + 0.14 * e1 + -0.11 * m2 + 0.096 * i1 + 0.062 * sin_pomega1 + -0.061 * cos_pomega2 + 0.040 * cos_theta1 + 0.040 * cos_Omega2 + -0.040 * sin_pomega3 + -0.037 * sin_theta3 + -0.027 * cos_theta3 + -0.027 * sin_theta1 + -0.026 * cos_pomega1 + -0.025 * sin_Omega2 + -0.021 * m3 + 0.018 * i2 + -0.017 * a1 + -0.016 * sin_theta2 + -0.016 * a2 + -0.011 * cos_theta2 + -0.0099 * cos_pomega3 + 0.0027 * max_strength_mmr_near + 0.0026 * m1 + 0.0022 * megno + 0.0012 * e-_far + 0.0010 * e-_near + -0.0010 * nan_mmr_near + -8.28e-04 * max_strength_mmr_far + 5.52e-04 * sin_pomega2 + 5.50e-04 * nan_mmr_far + 5.26e-04 * e+_near + -4.29e-04 * nan_megno + -3.54e-04 * e+_far\n",
      "\n",
      "feature 18:\n",
      "0.0035 + 0.60 * cos_pomega3 + 0.50 * a1 + -0.44 * cos_pomega1 + -0.29 * e3 + -0.28 * sin_pomega3 + 0.26 * a3 + 0.24 * sin_pomega1 + 0.15 * e1 + -0.14 * e2 + -0.11 * a2 + -0.095 * cos_Omega1 + -0.063 * cos_Omega3 + -0.051 * m3 + -0.047 * sin_Omega1 + -0.032 * i3 + 0.030 * sin_Omega3 + -0.030 * time + 0.024 * i1 + -0.017 * cos_Omega2 + 0.014 * m2 + 0.014 * cos_pomega2 + -0.0096 * i2 + 0.0068 * cos_theta3 + -0.0063 * sin_pomega2 + 0.0039 * cos_theta1 + 0.0037 * m1 + -0.0034 * sin_theta1 + -0.0032 * sin_Omega2 + -0.0030 * sin_theta3 + -0.0028 * sin_theta2 + -0.0025 * cos_theta2 + 0.0016 * e+_far + -0.0016 * e-_far + -0.0013 * max_strength_mmr_far + -9.78e-04 * e-_near + 9.75e-04 * nan_megno + -8.08e-04 * max_strength_mmr_near + -2.37e-04 * nan_mmr_near + -2.19e-04 * nan_mmr_far + 1.12e-04 * megno + 5.66e-05 * e+_near\n",
      "\n",
      "feature 19:\n",
      "6.94e-04 + 0.023 * e+_far + -0.021 * e-_near + 0.018 * e-_far + -0.018 * max_strength_mmr_near + 0.017 * megno + 0.014 * max_strength_mmr_far + -0.013 * nan_mmr_near + 0.013 * nan_mmr_far + 0.0074 * a3 + 0.0044 * nan_megno + -0.0032 * m3 + -0.0031 * a2 + -0.0026 * m2 + -0.0016 * e1 + -0.0015 * i2 + -0.0014 * i1 + -0.0012 * cos_Omega3 + -0.0011 * e2 + 0.0011 * sin_Omega3 + -9.43e-04 * e3 + 8.86e-04 * sin_Omega2 + -8.82e-04 * a1 + 8.43e-04 * cos_pomega3 + 8.34e-04 * cos_pomega1 + -6.05e-04 * sin_pomega3 + -5.10e-04 * m1 + 4.15e-04 * i3 + -4.07e-04 * e+_near + -3.30e-04 * cos_Omega2 + -3.28e-04 * sin_theta2 + 2.62e-04 * cos_pomega2 + 2.54e-04 * time + 2.04e-04 * sin_Omega1 + -1.93e-04 * sin_pomega2 + 1.90e-04 * sin_pomega1 + 1.63e-04 * cos_Omega1 + -1.61e-04 * cos_theta3 + -1.58e-04 * cos_theta2 + 1.10e-04 * sin_theta1 + -8.26e-05 * sin_theta3 + -1.60e-06 * cos_theta1\n",
      "\n"
     ]
    }
   ],
   "source": [
    "for i in range(input_linear.shape[0]):\n",
    "    print(f'feature {i}:')\n",
    "    # print(' +\\n'.join(feature_equation(i)[:10]))\n",
    "    print(' + '.join(feature_equation(i)))\n",
    "    # print('+ ... (smaller terms omitted)')\n",
    "    print()"
   ]
  },
  {
   "cell_type": "code",
   "execution_count": null,
   "metadata": {},
   "outputs": [],
   "source": []
  },
  {
   "cell_type": "code",
   "execution_count": null,
   "metadata": {},
   "outputs": [],
   "source": []
  }
 ],
 "metadata": {
  "kernelspec": {
   "display_name": "base",
   "language": "python",
   "name": "python3"
  },
  "language_info": {
   "codemirror_mode": {
    "name": "ipython",
    "version": 3
   },
   "file_extension": ".py",
   "mimetype": "text/x-python",
   "name": "python",
   "nbconvert_exporter": "python",
   "pygments_lexer": "ipython3",
   "version": "3.7.12"
  }
 },
 "nbformat": 4,
 "nbformat_minor": 2
}
