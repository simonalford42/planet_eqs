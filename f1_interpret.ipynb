{
 "cells": [
  {
   "cell_type": "code",
   "execution_count": 44,
   "metadata": {},
   "outputs": [],
   "source": [
    "version = 10290  # eps = 0.001\n",
    "# version = 9259  # eps = 0.1\n",
    "version =74649  # k = 3\n",
    "# version = 11566  # k = 4\n",
    "# version = 21622 # M\n",
    "# version = 72646 # k = 5\n",
    "# version = 93703 # M, k=3\n",
    "# version = 56780 # M, k=4"
   ]
  },
  {
   "cell_type": "code",
   "execution_count": 45,
   "metadata": {},
   "outputs": [],
   "source": [
    "import torch\n",
    "import numpy as np\n",
    "import spock_reg_model"
   ]
  },
  {
   "cell_type": "code",
   "execution_count": 46,
   "metadata": {},
   "outputs": [],
   "source": [
    "labels = ['time', 'e+_near', 'e-_near', 'max_strength_mmr_near', 'e+_far', 'e-_far', 'max_strength_mmr_far', 'megno', 'a1', 'e1', 'i1', 'cos_Omega1', 'sin_Omega1', 'cos_pomega1', 'sin_pomega1', 'cos_theta1', 'sin_theta1', 'a2', 'e2', 'i2', 'cos_Omega2', 'sin_Omega2', 'cos_pomega2', 'sin_pomega2', 'cos_theta2', 'sin_theta2', 'a3', 'e3', 'i3', 'cos_Omega3', 'sin_Omega3', 'cos_pomega3', 'sin_pomega3', 'cos_theta3', 'sin_theta3', 'm1', 'm2', 'm3', 'nan_mmr_near', 'nan_mmr_far', 'nan_megno']\n",
    "\n",
    "# not all of these labels are actually used. for training, these inputs are zeroed out, but still passed in as zeroes.\n",
    "# ideally, the linear layer ignores them, which does happen if i do l1 regularization to it\n",
    "skipped = ['nan_mmr_near', 'nan_mmr_far', 'nan_megno', 'e+_near', 'e-_near', 'max_strength_mmr_near', 'e+_far', 'e-_far', 'max_strength_mmr_far', 'megno']"
   ]
  },
  {
   "cell_type": "code",
   "execution_count": null,
   "metadata": {},
   "outputs": [],
   "source": []
  },
  {
   "cell_type": "code",
   "execution_count": 47,
   "metadata": {},
   "outputs": [],
   "source": [
    "scale = np.array([2.88976974e+03, 6.10019661e-02, 4.03849732e-02, 4.81638693e+01,\n",
    "                   6.72583662e-02, 4.17939679e-02, 8.15995339e+00, 2.26871589e+01,\n",
    "                   4.73612029e-03, 7.09223721e-02, 3.06455099e-02, 7.10726478e-01,\n",
    "                   7.03392022e-01, 7.07873597e-01, 7.06030923e-01, 7.04728204e-01,\n",
    "                   7.09420909e-01, 1.90740659e-01, 4.75502285e-02, 2.77188320e-02,\n",
    "                   7.08891412e-01, 7.05214134e-01, 7.09786887e-01, 7.04371833e-01,\n",
    "                   7.04371110e-01, 7.09828420e-01, 3.33589977e-01, 5.20857790e-02,\n",
    "                   2.84763136e-02, 7.02210626e-01, 7.11815232e-01, 7.10512240e-01,\n",
    "                   7.03646004e-01, 7.08017286e-01, 7.06162814e-01, 2.12569430e-05,\n",
    "                   2.35019125e-05, 2.04211110e-05, 7.51048890e-02, 3.94254400e-01,\n",
    "                   7.11351099e-02])\n",
    "\n",
    "mean = np.array([ 4.95458585e+03,  5.67411891e-02,  3.83176945e-02,  2.97223474e+00,\n",
    "                   6.29733979e-02,  3.50074471e-02,  6.72845676e-01,  9.92794768e+00,\n",
    "                   9.99628430e-01,  5.39591547e-02,  2.92795061e-02,  2.12480714e-03,\n",
    "                  -1.01500319e-02,  1.82667162e-02,  1.00813201e-02,  5.74404197e-03,\n",
    "                   6.86570242e-03,  1.25316320e+00,  4.76946516e-02,  2.71326280e-02,\n",
    "                   7.02054326e-03,  9.83378673e-03, -5.70616748e-03,  5.50782881e-03,\n",
    "                  -8.44213953e-04,  2.05958338e-03,  1.57866569e+00,  4.31476211e-02,\n",
    "                   2.73316392e-02,  1.05505555e-02,  1.03922250e-02,  7.36865006e-03,\n",
    "                  -6.00523246e-04,  6.53016990e-03, -1.72038113e-03,  1.24807860e-05,\n",
    "                   1.60314173e-05,  1.21732696e-05,  5.67292645e-03,  1.92488263e-01,\n",
    "                   5.08607199e-03])"
   ]
  },
  {
   "cell_type": "code",
   "execution_count": null,
   "metadata": {},
   "outputs": [],
   "source": []
  },
  {
   "cell_type": "code",
   "execution_count": null,
   "metadata": {},
   "outputs": [],
   "source": []
  },
  {
   "cell_type": "code",
   "execution_count": null,
   "metadata": {},
   "outputs": [],
   "source": []
  },
  {
   "cell_type": "code",
   "execution_count": 48,
   "metadata": {},
   "outputs": [
    {
     "name": "stdout",
     "output_type": "stream",
     "text": [
      "time: mean=4.95e+03, scale=2.89e+03\n",
      "e+_near: mean=5.67e-02, scale=6.10e-02\n",
      "e-_near: mean=3.83e-02, scale=4.04e-02\n",
      "max_strength_mmr_near: mean=2.97e+00, scale=4.82e+01\n",
      "e+_far: mean=6.30e-02, scale=6.73e-02\n",
      "e-_far: mean=3.50e-02, scale=4.18e-02\n",
      "max_strength_mmr_far: mean=6.73e-01, scale=8.16e+00\n",
      "megno: mean=9.93e+00, scale=2.27e+01\n",
      "a1: mean=1.00e+00, scale=4.74e-03\n",
      "e1: mean=5.40e-02, scale=7.09e-02\n",
      "i1: mean=2.93e-02, scale=3.06e-02\n",
      "cos_Omega1: mean=2.12e-03, scale=7.11e-01\n",
      "sin_Omega1: mean=-1.02e-02, scale=7.03e-01\n",
      "cos_pomega1: mean=1.83e-02, scale=7.08e-01\n",
      "sin_pomega1: mean=1.01e-02, scale=7.06e-01\n",
      "cos_theta1: mean=5.74e-03, scale=7.05e-01\n",
      "sin_theta1: mean=6.87e-03, scale=7.09e-01\n",
      "a2: mean=1.25e+00, scale=1.91e-01\n",
      "e2: mean=4.77e-02, scale=4.76e-02\n",
      "i2: mean=2.71e-02, scale=2.77e-02\n",
      "cos_Omega2: mean=7.02e-03, scale=7.09e-01\n",
      "sin_Omega2: mean=9.83e-03, scale=7.05e-01\n",
      "cos_pomega2: mean=-5.71e-03, scale=7.10e-01\n",
      "sin_pomega2: mean=5.51e-03, scale=7.04e-01\n",
      "cos_theta2: mean=-8.44e-04, scale=7.04e-01\n",
      "sin_theta2: mean=2.06e-03, scale=7.10e-01\n",
      "a3: mean=1.58e+00, scale=3.34e-01\n",
      "e3: mean=4.31e-02, scale=5.21e-02\n",
      "i3: mean=2.73e-02, scale=2.85e-02\n",
      "cos_Omega3: mean=1.06e-02, scale=7.02e-01\n",
      "sin_Omega3: mean=1.04e-02, scale=7.12e-01\n",
      "cos_pomega3: mean=7.37e-03, scale=7.11e-01\n",
      "sin_pomega3: mean=-6.01e-04, scale=7.04e-01\n",
      "cos_theta3: mean=6.53e-03, scale=7.08e-01\n",
      "sin_theta3: mean=-1.72e-03, scale=7.06e-01\n",
      "m1: mean=1.25e-05, scale=2.13e-05\n",
      "m2: mean=1.60e-05, scale=2.35e-05\n",
      "m3: mean=1.22e-05, scale=2.04e-05\n",
      "nan_mmr_near: mean=5.67e-03, scale=7.51e-02\n",
      "nan_mmr_far: mean=1.92e-01, scale=3.94e-01\n",
      "nan_megno: mean=5.09e-03, scale=7.11e-02\n"
     ]
    }
   ],
   "source": [
    "# for each label, pretty print the mean and scale\n",
    "for l, m, s in zip(labels, mean, scale):\n",
    "    print(f\"{l}: mean={m:.2e}, scale={s:.2e}\")"
   ]
  },
  {
   "cell_type": "code",
   "execution_count": 49,
   "metadata": {},
   "outputs": [],
   "source": [
    "# load when on the cluster\n",
    "model = spock_reg_model.load(version)\n",
    "feature_nn = model.feature_nn"
   ]
  },
  {
   "cell_type": "code",
   "execution_count": 50,
   "metadata": {},
   "outputs": [],
   "source": [
    "if model.hparams['combined_mass_feature']:\n",
    "    print('adding combined mass label')\n",
    "    labels.append('(m1+m2+m3)')"
   ]
  },
  {
   "cell_type": "code",
   "execution_count": 51,
   "metadata": {},
   "outputs": [],
   "source": [
    "# load when local\n",
    "# feature_nn = torch.load(f'models/{version}_feature_nn.pt')"
   ]
  },
  {
   "cell_type": "code",
   "execution_count": 52,
   "metadata": {},
   "outputs": [],
   "source": [
    "input_linear = feature_nn.linear.weight * feature_nn.mask\n",
    "input_linear = input_linear.detach().numpy()\n",
    "if feature_nn.linear.bias is not None:\n",
    "    input_bias = feature_nn.linear.bias.detach().numpy()\n",
    "else:\n",
    "    input_bias = np.zeros(input_linear.shape[0])"
   ]
  },
  {
   "cell_type": "code",
   "execution_count": 53,
   "metadata": {},
   "outputs": [],
   "source": [
    "# m_i is the mean of the i'th feature, s_i is the standard deviation\n",
    "# get the linear transformation that creates feature i\n",
    "def linear_transformation(i):\n",
    "    return input_linear[i]"
   ]
  },
  {
   "cell_type": "code",
   "execution_count": 54,
   "metadata": {},
   "outputs": [],
   "source": [
    "# let's make the linear transformation a bit easier to read\n",
    "def format_num(x):\n",
    "    if abs(x) > 0.1:\n",
    "        return f'{x:.2f}'\n",
    "    if abs(x) > 0.01:\n",
    "        return f'{x:.3f}'\n",
    "    elif abs(x) > 0.001:\n",
    "        return f'{x:.4f}'\n",
    "    else:\n",
    "        return f'{x:.2e}'\n",
    "\n",
    "format_vec = np.vectorize(format_num)"
   ]
  },
  {
   "cell_type": "code",
   "execution_count": 55,
   "metadata": {},
   "outputs": [],
   "source": [
    "# now we can write it as a combination of the input features\n",
    "# we'll sort the features by their absolute value to make it a bit easier to read\n",
    "def feature_equation(i):\n",
    "    transformation = linear_transformation(i)\n",
    "    bias = input_bias[i]\n",
    "    sorted_ixs = np.argsort(np.abs(transformation))[::-1]\n",
    "    features = [format_num(transformation[i]) + ' * ' + labels[i] for i in sorted_ixs if transformation[i] != 0]\n",
    "    if bias != 0:\n",
    "        features = [format_num(bias)] + features\n",
    "\n",
    "    return features"
   ]
  },
  {
   "cell_type": "code",
   "execution_count": 56,
   "metadata": {},
   "outputs": [
    {
     "name": "stdout",
     "output_type": "stream",
     "text": [
      "0: 1.11 * m3 + -0.69 * m1 + 0.023 * e3\n",
      "1: -1.19 * e2 + -0.89 * e1 + 0.49 * e3\n",
      "2: 1.27 * m1 + -1.05 * a3 + 0.88 * m3\n",
      "3: -0.84 * sin_Omega2 + 0.37 * sin_Omega3 + -0.0096 * cos_Omega1\n",
      "4: 4.81 * a3 + -4.47 * a2 + -0.0049 * m3\n",
      "5: 2.21 * a2 + -0.98 * a1 + 0.0084 * sin_theta2\n",
      "6: -1.01 * i3 + 0.79 * i1 + 0.0054 * cos_pomega1\n",
      "7: 0.90 * e2 + -0.37 * i1 + -0.31 * i2\n",
      "8: -1.42 * m2 + 0.21 * e3 + 0.059 * e1\n",
      "9: -1.20 * e3 + 0.77 * m1 + 0.33 * m3\n"
     ]
    }
   ],
   "source": [
    "for i in range(input_linear.shape[0]):\n",
    "    print(str(i) + \": \" + ' + '.join(feature_equation(i)))"
   ]
  },
  {
   "cell_type": "code",
   "execution_count": 57,
   "metadata": {},
   "outputs": [
    {
     "name": "stdout",
     "output_type": "stream",
     "text": [
      "['time', 'e+_near', 'e-_near', 'max_strength_mmr_near', 'e+_far', 'e-_far', 'max_strength_mmr_far', 'megno', 'a_1', 'e_1', 'i_1', '\\\\cos\\\\Omega_1', '\\\\sin\\\\Omega_1', '\\\\cos\\\\omega_1', '\\\\sin\\\\omega_1', '\\\\cos\\\\theta_1', '\\\\sin\\\\theta_1', 'a_2', 'e_2', 'i_2', '\\\\cos\\\\Omega_2', '\\\\sin\\\\Omega_2', '\\\\cos\\\\omega_2', '\\\\sin\\\\omega_2', '\\\\cos\\\\theta_2', '\\\\sin\\\\theta_2', 'a_3', 'e_3', 'i_3', '\\\\cos\\\\Omega_3', '\\\\sin\\\\Omega_3', '\\\\cos\\\\omega_3', '\\\\sin\\\\omega_3', '\\\\cos\\\\theta_3', '\\\\sin\\\\theta_3', 'm_1', 'm_2', 'm_3', 'nan_mmr_near', 'nan_mmr_far', 'nan_megno']\n"
     ]
    }
   ],
   "source": [
    "def convert_to_latex(label):\n",
    "    # 1. if it ends in a number, add an underscore\n",
    "    if label[-1].isdigit():\n",
    "        label = label[:-1] + '_' + label[-1]\n",
    "    # 2. replace sin/cos with \\sin/\\cos\n",
    "    label = label.replace('sin', '\\\\sin')\n",
    "    label = label.replace('cos', '\\\\cos')\n",
    "    label = label.replace('_Omega', '\\\\Omega')\n",
    "    label = label.replace('_pomega', '\\\\omega')\n",
    "    label = label.replace('_theta', '\\\\theta')\n",
    "    return label\n",
    "\n",
    "latex_labels = [convert_to_latex(label) for label in labels]\n",
    "print(latex_labels)"
   ]
  },
  {
   "cell_type": "code",
   "execution_count": 58,
   "metadata": {},
   "outputs": [],
   "source": [
    "def latex_line(i):\n",
    "    transformation = linear_transformation(i)\n",
    "    bias = input_bias[i]\n",
    "    sorted_ixs = np.argsort(np.abs(transformation))[::-1]\n",
    "    features = [format_num(transformation[i]) + ' ' + latex_labels[i] for i in sorted_ixs if transformation[i] != 0]\n",
    "    if bias != 0:\n",
    "        features = [format_num(bias)] + features\n",
    "\n",
    "    line = ' + '.join(features)\n",
    "    line = line.replace('+ -', '- ')\n",
    "    return line\n",
    "\n",
    "def latex_string():\n",
    "    s = ('\\\\begin{align*}\\n'\n",
    "        + f've&rsion={version}\\\\\\\\'\n",
    "        + 'f_1& \\\\text{ features:} \\\\\\\\ \\n')\n",
    "\n",
    "    for i in range(input_linear.shape[0]):\n",
    "        s += f'    &{i}: {latex_line(i)} \\\\\\\\ \\n'\n",
    "\n",
    "    s += '''\\end{align*}'''\n",
    "    return s\n"
   ]
  },
  {
   "cell_type": "code",
   "execution_count": 59,
   "metadata": {},
   "outputs": [
    {
     "data": {
      "text/markdown": [
       "$$\n",
       "\\begin{align*}\n",
       "ve&rsion=74649\\\\f_1& \\text{ features:} \\\\ \n",
       "    &0: 1.11 m_3 - 0.69 m_1 + 0.023 e_3 \\\\ \n",
       "    &1: -1.19 e_2 - 0.89 e_1 + 0.49 e_3 \\\\ \n",
       "    &2: 1.27 m_1 - 1.05 a_3 + 0.88 m_3 \\\\ \n",
       "    &3: -0.84 \\sin\\Omega_2 + 0.37 \\sin\\Omega_3 - 0.0096 \\cos\\Omega_1 \\\\ \n",
       "    &4: 4.81 a_3 - 4.47 a_2 - 0.0049 m_3 \\\\ \n",
       "    &5: 2.21 a_2 - 0.98 a_1 + 0.0084 \\sin\\theta_2 \\\\ \n",
       "    &6: -1.01 i_3 + 0.79 i_1 + 0.0054 \\cos\\omega_1 \\\\ \n",
       "    &7: 0.90 e_2 - 0.37 i_1 - 0.31 i_2 \\\\ \n",
       "    &8: -1.42 m_2 + 0.21 e_3 + 0.059 e_1 \\\\ \n",
       "    &9: -1.20 e_3 + 0.77 m_1 + 0.33 m_3 \\\\ \n",
       "\\end{align*}\n",
       "$$"
      ],
      "text/plain": [
       "<IPython.core.display.Markdown object>"
      ]
     },
     "metadata": {},
     "output_type": "display_data"
    }
   ],
   "source": [
    "from IPython.display import display, Markdown\n",
    "display(Markdown('$$\\n' + latex_string() + '\\n$$'))"
   ]
  },
  {
   "cell_type": "code",
   "execution_count": null,
   "metadata": {},
   "outputs": [],
   "source": []
  },
  {
   "cell_type": "code",
   "execution_count": 35,
   "metadata": {},
   "outputs": [],
   "source": [
    "version = 24880\n",
    "model = spock_reg_model.load(version)\n",
    "feature_nn = model.feature_nn\n",
    "\n",
    "input_linear = feature_nn.linear.weight * feature_nn.mask\n",
    "input_linear = input_linear.detach().numpy()\n",
    "if feature_nn.linear.bias is not None:\n",
    "    input_bias = feature_nn.linear.bias.detach().numpy()\n",
    "else:\n",
    "    input_bias = np.zeros(input_linear.shape[0])"
   ]
  },
  {
   "cell_type": "code",
   "execution_count": 36,
   "metadata": {},
   "outputs": [],
   "source": [
    "def get_nonzero(arr):\n",
    "    return arr[arr.nonzero()], arr.nonzero()\n",
    "\n",
    "def set_nonzero(arr, values, indices):\n",
    "    arr[indices] = values"
   ]
  },
  {
   "cell_type": "code",
   "execution_count": 37,
   "metadata": {},
   "outputs": [],
   "source": [
    "def simplify(x, y, epsilon=0.1, zeroing_allowed=True):\n",
    "    if x == 0 and y == 0:\n",
    "        return (0, 0, 1), 0\n",
    "    if x == 0:\n",
    "        return (0, 1, 1/y), 0\n",
    "    if y == 0:\n",
    "        return (1, 0, 1/x), 0\n",
    "\n",
    "    best_simplification, best_magnitude, best_error = None, None, None\n",
    "    possible_values = list(range(-10, 11))\n",
    "    candidate_ratios = [(a, c) for a in possible_values for c in possible_values]\n",
    "\n",
    "    for a, b in candidate_ratios:\n",
    "        if not zeroing_allowed and (a == 0 or b == 0):\n",
    "            continue\n",
    "\n",
    "        k = 1\n",
    "        if a != 0:\n",
    "            k = x / a\n",
    "        if b != 0 and (a == 0 or abs(y) > abs(x)):\n",
    "            k = y / b\n",
    "\n",
    "        if k < 0: continue\n",
    "        x2, y2 = k * a, k * b\n",
    "\n",
    "        error = abs(x - x2) + abs(y - y2)\n",
    "        # should be measured with the normalized values, not the original.\n",
    "        if error >= epsilon: continue\n",
    "\n",
    "        magnitude = abs(a) + abs(b)\n",
    "\n",
    "        if best_error is None or magnitude < best_magnitude or magnitude == best_magnitude and error < best_error:\n",
    "            best_simplification, best_error, best_magnitude = (a, b, x2, y2), error, magnitude\n",
    "\n",
    "    return best_simplification, best_error"
   ]
  },
  {
   "cell_type": "code",
   "execution_count": 38,
   "metadata": {},
   "outputs": [],
   "source": [
    "def simplify_stuff(input_linear, epsilon=0.1, normalize=True, zeroing_allowed=True):\n",
    "    input_linear2 = input_linear.copy()\n",
    "    for i in range(input_linear.shape[0]):\n",
    "        nonzero, indices = get_nonzero(input_linear[i])\n",
    "        x, y = nonzero\n",
    "        print('original:\\t', f'{x:.3f} {y:.3f}')\n",
    "\n",
    "        if normalize:\n",
    "            l1 = abs(x) + abs(y)\n",
    "            x, y = x / l1, y / l1\n",
    "            print('normalized:\\t', f'{x:.3f} {y:.3f}')\n",
    "\n",
    "        simplification, error = simplify(x, y, epsilon=epsilon, zeroing_allowed=zeroing_allowed)\n",
    "        if simplification is None:\n",
    "            print(\"no simplification found\")\n",
    "            nonzero = [x, y]\n",
    "        else:\n",
    "            a, b, x2, y2 = simplification\n",
    "            print(\"new values:\\t\", f\"{x2:.3f} {y2:.3f}\", \"with error\", f\"{error:.3f}\")\n",
    "            print(\"ratio:\\t\\t\", f\"{a} {b}\")\n",
    "            nonzero = [x2, y2]\n",
    "\n",
    "            if normalize:\n",
    "                l1 = abs(x2) + abs(y2)\n",
    "                x2, y2 = x2 / l1, y2 / l1\n",
    "                print(\"final normed:\\t\", f\"{x2:.3f} {y2:.3f}\")\n",
    "                nonzero = [x2, y2]\n",
    "\n",
    "\n",
    "        print()\n",
    "        set_nonzero(input_linear2[i], nonzero, indices)\n",
    "\n",
    "    input_linear2 = torch.tensor(input_linear2)\n",
    "    feature_nn.linear.weight = torch.nn.Parameter(input_linear2)\n",
    "\n",
    "    s = '24880_feature_nn_simplified_v3_'\n",
    "    # if normalize:\n",
    "        # s += 'norm_'\n",
    "    # if not zeroing_allowed:\n",
    "        # s += 'nozero_'\n",
    "    s += f'eps={epsilon}.pt'\n",
    "\n",
    "    torch.save(feature_nn, s)\n",
    "    print(f'saved to', s)"
   ]
  },
  {
   "cell_type": "code",
   "execution_count": 39,
   "metadata": {},
   "outputs": [],
   "source": [
    "# simplify_stuff(input_linear, epsilon=0.001, normalize=True, zeroing_allowed=False)"
   ]
  }
 ],
 "metadata": {
  "kernelspec": {
   "display_name": "bnn_chaos_model",
   "language": "python",
   "name": "python3"
  },
  "language_info": {
   "codemirror_mode": {
    "name": "ipython",
    "version": 3
   },
   "file_extension": ".py",
   "mimetype": "text/x-python",
   "name": "python",
   "nbconvert_exporter": "python",
   "pygments_lexer": "ipython3",
   "version": "3.7.12"
  }
 },
 "nbformat": 4,
 "nbformat_minor": 2
}
