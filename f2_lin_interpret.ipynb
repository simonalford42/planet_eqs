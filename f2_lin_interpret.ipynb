{
 "cells": [
  {
   "cell_type": "code",
   "execution_count": 30,
   "metadata": {},
   "outputs": [],
   "source": [
    "version = 30886 # k = 20\n",
    "version =68491 #k=15\n",
    "version =70470 # k = 10\n",
    "version =74535#k=5\n",
    "version = 44991 #k=2"
   ]
  },
  {
   "cell_type": "code",
   "execution_count": 31,
   "metadata": {},
   "outputs": [],
   "source": [
    "import torch\n",
    "import numpy as np\n",
    "import spock_reg_model"
   ]
  },
  {
   "cell_type": "code",
   "execution_count": null,
   "metadata": {},
   "outputs": [],
   "source": [
    "labels = [f'm{i}' for i in range(10)"
   ]
  },
  {
   "cell_type": "code",
   "execution_count": 33,
   "metadata": {},
   "outputs": [],
   "source": [
    "# load when on the cluster\n",
    "model = spock_reg_model.load(version)\n",
    "nn = model.regress_nn\n"
   ]
  },
  {
   "cell_type": "code",
   "execution_count": 41,
   "metadata": {},
   "outputs": [],
   "source": [
    "n = model.hparams['latent']\n",
    "labels = [f'm{i}' for i in range(n)] + [f's{i}' for i in range(n)]"
   ]
  },
  {
   "cell_type": "code",
   "execution_count": 42,
   "metadata": {},
   "outputs": [],
   "source": [
    "input_linear = nn.linear.weight * nn.mask\n",
    "input_linear = input_linear.detach().numpy()\n",
    "if nn.linear.bias is not None:\n",
    "    input_bias = nn.linear.bias.detach().numpy()\n",
    "else:\n",
    "    input_bias = np.zeros(input_linear.shape[0])"
   ]
  },
  {
   "cell_type": "code",
   "execution_count": 43,
   "metadata": {},
   "outputs": [],
   "source": [
    "# m_i is the mean of the i'th feature, s_i is the standard deviation\n",
    "# get the linear transformation that creates feature i\n",
    "def linear_transformation(i):\n",
    "    return input_linear[i]"
   ]
  },
  {
   "cell_type": "code",
   "execution_count": 44,
   "metadata": {},
   "outputs": [],
   "source": [
    "# let's make the linear transformation a bit easier to read\n",
    "def format_num(x):\n",
    "    if abs(x) > 0.1:\n",
    "        return f'{x:.2f}'\n",
    "    if abs(x) > 0.01:\n",
    "        return f'{x:.3f}'\n",
    "    elif abs(x) > 0.001:\n",
    "        return f'{x:.4f}'\n",
    "    else:\n",
    "        return f'{x:.2e}'\n",
    "\n",
    "format_vec = np.vectorize(format_num)"
   ]
  },
  {
   "cell_type": "code",
   "execution_count": 45,
   "metadata": {},
   "outputs": [],
   "source": [
    "# now we can write it as a combination of the input features\n",
    "# we'll sort the features by their absolute value to make it a bit easier to read\n",
    "def feature_equation(i):\n",
    "    transformation = linear_transformation(i)\n",
    "    bias = input_bias[i]\n",
    "    sorted_ixs = np.argsort(np.abs(transformation))[::-1]\n",
    "    features = [format_num(transformation[i]) + ' * ' + labels[i] for i in sorted_ixs if transformation[i] != 0]\n",
    "    if bias != 0:\n",
    "        features = [format_num(bias)] + features\n",
    "\n",
    "    return features"
   ]
  },
  {
   "cell_type": "code",
   "execution_count": 46,
   "metadata": {},
   "outputs": [
    {
     "name": "stdout",
     "output_type": "stream",
     "text": [
      "0: 0.46 + -31.19 * s6 + -0.82 * m1\n",
      "1: -0.36 + -0.21 * m1 + -0.0048 * m4\n"
     ]
    }
   ],
   "source": [
    "for i in range(input_linear.shape[0]):\n",
    "    print(str(i) + \": \" + ' + '.join(feature_equation(i)))"
   ]
  },
  {
   "cell_type": "code",
   "execution_count": 26,
   "metadata": {},
   "outputs": [
    {
     "name": "stdout",
     "output_type": "stream",
     "text": [
      "['time', 'e+_near', 'e-_near', 'max_strength_mmr_near', 'e+_far', 'e-_far', 'max_strength_mmr_far', 'megno', 'a_1', 'e_1', 'i_1', '\\\\cos\\\\Omega_1', '\\\\sin\\\\Omega_1', '\\\\cos\\\\omega_1', '\\\\sin\\\\omega_1', '\\\\cos\\\\theta_1', '\\\\sin\\\\theta_1', 'a_2', 'e_2', 'i_2', '\\\\cos\\\\Omega_2', '\\\\sin\\\\Omega_2', '\\\\cos\\\\omega_2', '\\\\sin\\\\omega_2', '\\\\cos\\\\theta_2', '\\\\sin\\\\theta_2', 'a_3', 'e_3', 'i_3', '\\\\cos\\\\Omega_3', '\\\\sin\\\\Omega_3', '\\\\cos\\\\omega_3', '\\\\sin\\\\omega_3', '\\\\cos\\\\theta_3', '\\\\sin\\\\theta_3', 'm_1', 'm_2', 'm_3', 'nan_mmr_near', 'nan_mmr_far', 'nan_megno']\n"
     ]
    }
   ],
   "source": [
    "def convert_to_latex(label):\n",
    "    # 1. if it ends in a number, add an underscore\n",
    "    if label[-1].isdigit():\n",
    "        label = label[:-1] + '_' + label[-1]\n",
    "    # 2. replace sin/cos with \\sin/\\cos\n",
    "    label = label.replace('sin', '\\\\sin')\n",
    "    label = label.replace('cos', '\\\\cos')\n",
    "    label = label.replace('_Omega', '\\\\Omega')\n",
    "    label = label.replace('_pomega', '\\\\omega')\n",
    "    label = label.replace('_theta', '\\\\theta')\n",
    "    # label = label.replace('max_strength_mmr_near', '\\\\text{max_strength_mmr_near}')\n",
    "    return label\n",
    "\n",
    "latex_labels = [convert_to_latex(label) for label in labels]\n",
    "print(latex_labels)"
   ]
  },
  {
   "cell_type": "code",
   "execution_count": 27,
   "metadata": {},
   "outputs": [],
   "source": [
    "def latex_line(i):\n",
    "    transformation = linear_transformation(i)\n",
    "    bias = input_bias[i]\n",
    "    sorted_ixs = np.argsort(np.abs(transformation))[::-1]\n",
    "    features = [format_num(transformation[i]) + ' ' + latex_labels[i] for i in sorted_ixs if transformation[i] != 0]\n",
    "    if bias != 0:\n",
    "        features = [format_num(bias)] + features\n",
    "\n",
    "    line = ' + '.join(features)\n",
    "    line = line.replace('+ -', '- ')\n",
    "    return line\n",
    "\n",
    "def latex_string():\n",
    "    s = ('\\\\begin{align*}\\n'\n",
    "        + f've&rsion={version}\\\\\\\\'\n",
    "        + 'f_1& \\\\text{ features:} \\\\\\\\ \\n')\n",
    "\n",
    "    for i in range(input_linear.shape[0]):\n",
    "        s += f'    &{i}: {latex_line(i)} \\\\\\\\ \\n'\n",
    "\n",
    "    s += '''\\end{align*}'''\n",
    "    return s\n"
   ]
  },
  {
   "cell_type": "code",
   "execution_count": 28,
   "metadata": {},
   "outputs": [
    {
     "data": {
      "text/markdown": [
       "$$\n",
       "\\begin{align*}\n",
       "ve&rsion=44991\\\\f_1& \\text{ features:} \\\\ \n",
       "    &0: 1.33e-05 \\sin\\Omega_2 - 1.24e-05 \\sin\\Omega_3 \\\\ \n",
       "    &1: -0.82 m_2 - 0.34 a_3 \\\\ \n",
       "    &2: -7.20e-11 m_3 + 5.77e-11 \\sin\\omega_3 \\\\ \n",
       "    &3: 2.61e-06 max_strength_mmr_near - 1.39e-10 e_3 \\\\ \n",
       "    &4: -0.21 m_3 + 0.11 m_1 \\\\ \n",
       "    &5: 1.48e-05 \\cos\\Omega_2 - 1.22e-05 \\cos\\Omega_3 \\\\ \n",
       "    &6: 6.47 a_3 - 0.28 a_1 \\\\ \n",
       "    &7: -1.69e-06 megno + 7.18e-11 e_1 \\\\ \n",
       "    &8: -7.50e-11 i_3 - 1.22e-12 a_1 \\\\ \n",
       "    &9: -8.44e-06 \\cos\\Omega_3 + 8.39e-06 \\cos\\Omega_1 \\\\ \n",
       "\\end{align*}\n",
       "$$"
      ],
      "text/plain": [
       "<IPython.core.display.Markdown object>"
      ]
     },
     "metadata": {},
     "output_type": "display_data"
    }
   ],
   "source": [
    "from IPython.display import display, Markdown\n",
    "display(Markdown('$$\\n' + latex_string() + '\\n$$'))"
   ]
  },
  {
   "cell_type": "code",
   "execution_count": null,
   "metadata": {},
   "outputs": [],
   "source": []
  }
 ],
 "metadata": {
  "kernelspec": {
   "display_name": "bnn_chaos_model",
   "language": "python",
   "name": "python3"
  },
  "language_info": {
   "codemirror_mode": {
    "name": "ipython",
    "version": 3
   },
   "file_extension": ".py",
   "mimetype": "text/x-python",
   "name": "python",
   "nbconvert_exporter": "python",
   "pygments_lexer": "ipython3",
   "version": "3.7.12"
  }
 },
 "nbformat": 4,
 "nbformat_minor": 2
}
