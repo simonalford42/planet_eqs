{
 "cells": [
  {
   "cell_type": "code",
   "execution_count": 2,
   "metadata": {},
   "outputs": [],
   "source": [
    "# import torch\n",
    "import pickle\n",
    "from matplotlib import pyplot as plt\n",
    "import numpy as np\n",
    "import pandas as pd"
   ]
  },
  {
   "cell_type": "code",
   "execution_count": 1,
   "metadata": {},
   "outputs": [
    {
     "ename": "NameError",
     "evalue": "name 'pickle' is not defined",
     "output_type": "error",
     "traceback": [
      "\u001b[0;31m---------------------------------------------------------------------------\u001b[0m",
      "\u001b[0;31mNameError\u001b[0m                                 Traceback (most recent call last)",
      "Cell \u001b[0;32mIn[1], line 5\u001b[0m\n\u001b[1;32m      2\u001b[0m \u001b[38;5;66;03m# version = 22943\u001b[39;00m\n\u001b[1;32m      4\u001b[0m results_path \u001b[38;5;241m=\u001b[39m \u001b[38;5;124mf\u001b[39m\u001b[38;5;124m'\u001b[39m\u001b[38;5;124msr_results/\u001b[39m\u001b[38;5;132;01m{\u001b[39;00mversion\u001b[38;5;132;01m}\u001b[39;00m\u001b[38;5;124m.pkl\u001b[39m\u001b[38;5;124m'\u001b[39m\n\u001b[0;32m----> 5\u001b[0m reg \u001b[38;5;241m=\u001b[39m \u001b[43mpickle\u001b[49m\u001b[38;5;241m.\u001b[39mload(\u001b[38;5;28mopen\u001b[39m(results_path, \u001b[38;5;124m'\u001b[39m\u001b[38;5;124mrb\u001b[39m\u001b[38;5;124m'\u001b[39m))\n\u001b[1;32m      6\u001b[0m \u001b[38;5;66;03m# assert len(reg.equations_) == 2\u001b[39;00m\n\u001b[1;32m      7\u001b[0m \u001b[38;5;66;03m# results = reg.equations_[0]  # equations for predicting the mean\u001b[39;00m\n",
      "\u001b[0;31mNameError\u001b[0m: name 'pickle' is not defined"
     ]
    }
   ],
   "source": [
    "version = 11003\n",
    "# version = 22943\n",
    "\n",
    "results_path = f'sr_results/{version}.pkl'\n",
    "reg = pickle.load(open(results_path, 'rb'))\n",
    "# assert len(reg.equations_) == 2\n",
    "# results = reg.equations_[0]  # equations for predicting the mean"
   ]
  },
  {
   "cell_type": "code",
   "execution_count": 7,
   "metadata": {},
   "outputs": [],
   "source": [
    "results = reg.equations_[0]"
   ]
  },
  {
   "cell_type": "code",
   "execution_count": 8,
   "metadata": {},
   "outputs": [
    {
     "data": {
      "text/html": [
       "<div>\n",
       "<style scoped>\n",
       "    .dataframe tbody tr th:only-of-type {\n",
       "        vertical-align: middle;\n",
       "    }\n",
       "\n",
       "    .dataframe tbody tr th {\n",
       "        vertical-align: top;\n",
       "    }\n",
       "\n",
       "    .dataframe thead th {\n",
       "        text-align: right;\n",
       "    }\n",
       "</style>\n",
       "<table border=\"1\" class=\"dataframe\">\n",
       "  <thead>\n",
       "    <tr style=\"text-align: right;\">\n",
       "      <th></th>\n",
       "      <th>complexity</th>\n",
       "      <th>loss</th>\n",
       "      <th>score</th>\n",
       "      <th>equation</th>\n",
       "      <th>sympy_format</th>\n",
       "      <th>lambda_format</th>\n",
       "    </tr>\n",
       "  </thead>\n",
       "  <tbody>\n",
       "    <tr>\n",
       "      <th>0</th>\n",
       "      <td>1</td>\n",
       "      <td>5.147663</td>\n",
       "      <td>0.000000</td>\n",
       "      <td>6.943598</td>\n",
       "      <td>6.94359800000000</td>\n",
       "      <td>PySRFunction(X=&gt;6.94359800000000)</td>\n",
       "    </tr>\n",
       "    <tr>\n",
       "      <th>1</th>\n",
       "      <td>3</td>\n",
       "      <td>4.255527</td>\n",
       "      <td>0.095162</td>\n",
       "      <td>s17 ^ -0.35427356</td>\n",
       "      <td>s17**(-0.35427356)</td>\n",
       "      <td>PySRFunction(X=&gt;s17**(-0.35427356))</td>\n",
       "    </tr>\n",
       "    <tr>\n",
       "      <th>2</th>\n",
       "      <td>4</td>\n",
       "      <td>4.255432</td>\n",
       "      <td>0.000022</td>\n",
       "      <td>sin(s17) ^ -0.35427356</td>\n",
       "      <td>sin(s17)**(-0.35427356)</td>\n",
       "      <td>PySRFunction(X=&gt;sin(s17)**(-0.35427356))</td>\n",
       "    </tr>\n",
       "    <tr>\n",
       "      <th>3</th>\n",
       "      <td>5</td>\n",
       "      <td>3.567266</td>\n",
       "      <td>0.176397</td>\n",
       "      <td>m26 + (s17 ^ -0.35351956)</td>\n",
       "      <td>m26 + s17**(-0.35351956)</td>\n",
       "      <td>PySRFunction(X=&gt;m26 + s17**(-0.35351956))</td>\n",
       "    </tr>\n",
       "    <tr>\n",
       "      <th>4</th>\n",
       "      <td>6</td>\n",
       "      <td>3.566746</td>\n",
       "      <td>0.000146</td>\n",
       "      <td>(s17 ^ -0.35639733) + sin(m26)</td>\n",
       "      <td>s17**(-0.35639733) + sin(m26)</td>\n",
       "      <td>PySRFunction(X=&gt;s17**(-0.35639733) + sin(m26))</td>\n",
       "    </tr>\n",
       "    <tr>\n",
       "      <th>5</th>\n",
       "      <td>7</td>\n",
       "      <td>3.384386</td>\n",
       "      <td>0.052481</td>\n",
       "      <td>(s17 ^ -0.35382512) + (m26 - m9)</td>\n",
       "      <td>m26 - m9 + s17**(-0.35382512)</td>\n",
       "      <td>PySRFunction(X=&gt;m26 - m9 + s17**(-0.35382512))</td>\n",
       "    </tr>\n",
       "    <tr>\n",
       "      <th>6</th>\n",
       "      <td>8</td>\n",
       "      <td>3.384301</td>\n",
       "      <td>0.000025</td>\n",
       "      <td>(sin(s17) ^ -0.35382512) + (m26 - m9)</td>\n",
       "      <td>m26 - m9 + sin(s17)**(-0.35382512)</td>\n",
       "      <td>PySRFunction(X=&gt;m26 - m9 + sin(s17)**(-0.35382...</td>\n",
       "    </tr>\n",
       "    <tr>\n",
       "      <th>7</th>\n",
       "      <td>9</td>\n",
       "      <td>3.023468</td>\n",
       "      <td>0.112743</td>\n",
       "      <td>m26 + (4.1392016 / ((s17 - s3) ^ 0.056609504))</td>\n",
       "      <td>m26 + 4.1392016/(s17 - s3)**0.056609504</td>\n",
       "      <td>PySRFunction(X=&gt;m26 + 4.1392016/(s17 - s3)**0....</td>\n",
       "    </tr>\n",
       "    <tr>\n",
       "      <th>8</th>\n",
       "      <td>10</td>\n",
       "      <td>2.929280</td>\n",
       "      <td>0.031648</td>\n",
       "      <td>sin(m26) + (4.244596 / ((s17 - s4) ^ 0.0561656...</td>\n",
       "      <td>4.244596/(s17 - s4)**0.056165665 + sin(m26)</td>\n",
       "      <td>PySRFunction(X=&gt;4.244596/(s17 - s4)**0.0561656...</td>\n",
       "    </tr>\n",
       "    <tr>\n",
       "      <th>9</th>\n",
       "      <td>11</td>\n",
       "      <td>2.745916</td>\n",
       "      <td>0.064642</td>\n",
       "      <td>((4.1392016 / ((s17 - s3) ^ 0.056609504)) + m2...</td>\n",
       "      <td>m26 - m9 + 4.1392016/(s17 - s3)**0.056609504</td>\n",
       "      <td>PySRFunction(X=&gt;m26 - m9 + 4.1392016/(s17 - s3...</td>\n",
       "    </tr>\n",
       "    <tr>\n",
       "      <th>10</th>\n",
       "      <td>12</td>\n",
       "      <td>2.741590</td>\n",
       "      <td>0.001577</td>\n",
       "      <td>((4.244596 / ((s17 - sin(s4)) ^ 0.056165665)) ...</td>\n",
       "      <td>m26 - m9 + 4.244596/(s17 - sin(s4))**0.056165665</td>\n",
       "      <td>PySRFunction(X=&gt;m26 - m9 + 4.244596/(s17 - sin...</td>\n",
       "    </tr>\n",
       "    <tr>\n",
       "      <th>11</th>\n",
       "      <td>13</td>\n",
       "      <td>2.616044</td>\n",
       "      <td>0.046875</td>\n",
       "      <td>(m26 + (4.3270173 * ((s17 - s38) ^ -0.05269173...</td>\n",
       "      <td>m26 - 0.67322880737988*m9 + 4.3270173/(s17 - s...</td>\n",
       "      <td>PySRFunction(X=&gt;m26 - 0.67322880737988*m9 + 4....</td>\n",
       "    </tr>\n",
       "    <tr>\n",
       "      <th>12</th>\n",
       "      <td>14</td>\n",
       "      <td>2.612193</td>\n",
       "      <td>0.001473</td>\n",
       "      <td>(4.244596 / ((s17 - sin(s4)) ^ 0.056165665)) +...</td>\n",
       "      <td>m26 - 0.638203920576033*m9 + 4.244596/(s17 - s...</td>\n",
       "      <td>PySRFunction(X=&gt;m26 - 0.638203920576033*m9 + 4...</td>\n",
       "    </tr>\n",
       "    <tr>\n",
       "      <th>13</th>\n",
       "      <td>15</td>\n",
       "      <td>2.486992</td>\n",
       "      <td>0.049116</td>\n",
       "      <td>(4.1391892 / ((s17 - s4) ^ 0.056165665)) + (m2...</td>\n",
       "      <td>m26 - 0.448509374608395*m27 - 0.44850937460839...</td>\n",
       "      <td>PySRFunction(X=&gt;m26 - 0.448509374608395*m27 - ...</td>\n",
       "    </tr>\n",
       "    <tr>\n",
       "      <th>14</th>\n",
       "      <td>16</td>\n",
       "      <td>2.483168</td>\n",
       "      <td>0.001539</td>\n",
       "      <td>(4.0356464 * ((s17 - sin(s4)) ^ -0.05959989)) ...</td>\n",
       "      <td>m26 - 0.471480698334579*m27 - 0.47148069833457...</td>\n",
       "      <td>PySRFunction(X=&gt;m26 - 0.471480698334579*m27 - ...</td>\n",
       "    </tr>\n",
       "    <tr>\n",
       "      <th>15</th>\n",
       "      <td>17</td>\n",
       "      <td>2.448229</td>\n",
       "      <td>0.014170</td>\n",
       "      <td>(4.1391892 / ((s17 - s4) ^ 0.056165665)) + (m2...</td>\n",
       "      <td>-0.448509374608395*m19 + m26 - 0.4485093746083...</td>\n",
       "      <td>PySRFunction(X=&gt;-0.448509374608395*m19 + m26 -...</td>\n",
       "    </tr>\n",
       "    <tr>\n",
       "      <th>16</th>\n",
       "      <td>18</td>\n",
       "      <td>2.414369</td>\n",
       "      <td>0.013927</td>\n",
       "      <td>(4.1391892 / ((s17 - s4) ^ 0.056165665)) + (m2...</td>\n",
       "      <td>m26 - 0.471480698334579*m27 - 0.47148069833457...</td>\n",
       "      <td>PySRFunction(X=&gt;m26 - 0.471480698334579*m27 - ...</td>\n",
       "    </tr>\n",
       "    <tr>\n",
       "      <th>17</th>\n",
       "      <td>19</td>\n",
       "      <td>2.410191</td>\n",
       "      <td>0.001732</td>\n",
       "      <td>(4.1391892 / ((s17 - sin(s4)) ^ 0.056165665)) ...</td>\n",
       "      <td>m26 - 0.471480698334579*m27 - 0.47148069833457...</td>\n",
       "      <td>PySRFunction(X=&gt;m26 - 0.471480698334579*m27 - ...</td>\n",
       "    </tr>\n",
       "    <tr>\n",
       "      <th>18</th>\n",
       "      <td>20</td>\n",
       "      <td>2.397071</td>\n",
       "      <td>0.005459</td>\n",
       "      <td>(4.0356464 * ((s17 - s4) ^ -0.05959989)) + (m2...</td>\n",
       "      <td>m26 - 0.471480698334579*m27 - 0.47148069833457...</td>\n",
       "      <td>PySRFunction(X=&gt;m26 - 0.471480698334579*m27 - ...</td>\n",
       "    </tr>\n",
       "    <tr>\n",
       "      <th>19</th>\n",
       "      <td>21</td>\n",
       "      <td>2.352539</td>\n",
       "      <td>0.018752</td>\n",
       "      <td>((4.244596 + (((s17 - s4) ^ -0.11618661) + m26...</td>\n",
       "      <td>-0.410851407371496*m19 + m26 - 0.4108514073714...</td>\n",
       "      <td>PySRFunction(X=&gt;-0.410851407371496*m19 + m26 -...</td>\n",
       "    </tr>\n",
       "    <tr>\n",
       "      <th>20</th>\n",
       "      <td>22</td>\n",
       "      <td>2.342786</td>\n",
       "      <td>0.004155</td>\n",
       "      <td>((4.3270173 + (((s17 - sin(s4)) ^ -0.11618661)...</td>\n",
       "      <td>-0.410851407371496*m19 + m26 - 0.4108514073714...</td>\n",
       "      <td>PySRFunction(X=&gt;-0.410851407371496*m19 + m26 -...</td>\n",
       "    </tr>\n",
       "    <tr>\n",
       "      <th>21</th>\n",
       "      <td>23</td>\n",
       "      <td>2.316465</td>\n",
       "      <td>0.011298</td>\n",
       "      <td>((4.3270173 + (((s17 - (s4 * 0.9998639)) ^ -0....</td>\n",
       "      <td>-0.433205176801863*m19 + m26 - 0.4332051768018...</td>\n",
       "      <td>PySRFunction(X=&gt;-0.433205176801863*m19 + m26 -...</td>\n",
       "    </tr>\n",
       "    <tr>\n",
       "      <th>22</th>\n",
       "      <td>25</td>\n",
       "      <td>2.313670</td>\n",
       "      <td>0.000604</td>\n",
       "      <td>((4.3270173 + (((s17 - (s4 * 0.9998639)) ^ -0....</td>\n",
       "      <td>-0.40412250867162*m19 + m26 - 0.40412250867162...</td>\n",
       "      <td>PySRFunction(X=&gt;-0.40412250867162*m19 + m26 - ...</td>\n",
       "    </tr>\n",
       "    <tr>\n",
       "      <th>23</th>\n",
       "      <td>26</td>\n",
       "      <td>2.281734</td>\n",
       "      <td>0.013900</td>\n",
       "      <td>((4.244596 + (((s17 - s4) ^ -0.11618661) + m26...</td>\n",
       "      <td>m26 - 0.471480698334579*m27 - 0.47148069833457...</td>\n",
       "      <td>PySRFunction(X=&gt;m26 - 0.471480698334579*m27 - ...</td>\n",
       "    </tr>\n",
       "    <tr>\n",
       "      <th>24</th>\n",
       "      <td>27</td>\n",
       "      <td>2.271432</td>\n",
       "      <td>0.004525</td>\n",
       "      <td>((4.244596 + (((s17 - sin(s4)) ^ -0.11618661) ...</td>\n",
       "      <td>m26 - 0.471480698334579*m27 - 0.47148069833457...</td>\n",
       "      <td>PySRFunction(X=&gt;m26 - 0.471480698334579*m27 - ...</td>\n",
       "    </tr>\n",
       "    <tr>\n",
       "      <th>25</th>\n",
       "      <td>28</td>\n",
       "      <td>2.236156</td>\n",
       "      <td>0.015652</td>\n",
       "      <td>((4.3270173 + (((s17 - (s4 * 0.9998639)) ^ -0....</td>\n",
       "      <td>m26 - 0.471480698334579*m27 - 0.47148069833457...</td>\n",
       "      <td>PySRFunction(X=&gt;m26 - 0.471480698334579*m27 - ...</td>\n",
       "    </tr>\n",
       "    <tr>\n",
       "      <th>26</th>\n",
       "      <td>29</td>\n",
       "      <td>2.236024</td>\n",
       "      <td>0.000059</td>\n",
       "      <td>((4.3270173 + (((sin(s17) - (s4 * 0.9998639)) ...</td>\n",
       "      <td>m26 - 0.471480698334579*m27 - 0.47148069833457...</td>\n",
       "      <td>PySRFunction(X=&gt;m26 - 0.471480698334579*m27 - ...</td>\n",
       "    </tr>\n",
       "    <tr>\n",
       "      <th>27</th>\n",
       "      <td>30</td>\n",
       "      <td>2.223275</td>\n",
       "      <td>0.005718</td>\n",
       "      <td>((4.3270173 + (((s17 - (s4 * 0.9998639)) ^ -0....</td>\n",
       "      <td>m26 - 0.471480698334579*m27 - 0.47148069833457...</td>\n",
       "      <td>PySRFunction(X=&gt;m26 - 0.471480698334579*m27 - ...</td>\n",
       "    </tr>\n",
       "  </tbody>\n",
       "</table>\n",
       "</div>"
      ],
      "text/plain": [
       "    complexity      loss     score  \\\n",
       "0            1  5.147663  0.000000   \n",
       "1            3  4.255527  0.095162   \n",
       "2            4  4.255432  0.000022   \n",
       "3            5  3.567266  0.176397   \n",
       "4            6  3.566746  0.000146   \n",
       "5            7  3.384386  0.052481   \n",
       "6            8  3.384301  0.000025   \n",
       "7            9  3.023468  0.112743   \n",
       "8           10  2.929280  0.031648   \n",
       "9           11  2.745916  0.064642   \n",
       "10          12  2.741590  0.001577   \n",
       "11          13  2.616044  0.046875   \n",
       "12          14  2.612193  0.001473   \n",
       "13          15  2.486992  0.049116   \n",
       "14          16  2.483168  0.001539   \n",
       "15          17  2.448229  0.014170   \n",
       "16          18  2.414369  0.013927   \n",
       "17          19  2.410191  0.001732   \n",
       "18          20  2.397071  0.005459   \n",
       "19          21  2.352539  0.018752   \n",
       "20          22  2.342786  0.004155   \n",
       "21          23  2.316465  0.011298   \n",
       "22          25  2.313670  0.000604   \n",
       "23          26  2.281734  0.013900   \n",
       "24          27  2.271432  0.004525   \n",
       "25          28  2.236156  0.015652   \n",
       "26          29  2.236024  0.000059   \n",
       "27          30  2.223275  0.005718   \n",
       "\n",
       "                                             equation  \\\n",
       "0                                            6.943598   \n",
       "1                                   s17 ^ -0.35427356   \n",
       "2                              sin(s17) ^ -0.35427356   \n",
       "3                           m26 + (s17 ^ -0.35351956)   \n",
       "4                      (s17 ^ -0.35639733) + sin(m26)   \n",
       "5                    (s17 ^ -0.35382512) + (m26 - m9)   \n",
       "6               (sin(s17) ^ -0.35382512) + (m26 - m9)   \n",
       "7      m26 + (4.1392016 / ((s17 - s3) ^ 0.056609504))   \n",
       "8   sin(m26) + (4.244596 / ((s17 - s4) ^ 0.0561656...   \n",
       "9   ((4.1392016 / ((s17 - s3) ^ 0.056609504)) + m2...   \n",
       "10  ((4.244596 / ((s17 - sin(s4)) ^ 0.056165665)) ...   \n",
       "11  (m26 + (4.3270173 * ((s17 - s38) ^ -0.05269173...   \n",
       "12  (4.244596 / ((s17 - sin(s4)) ^ 0.056165665)) +...   \n",
       "13  (4.1391892 / ((s17 - s4) ^ 0.056165665)) + (m2...   \n",
       "14  (4.0356464 * ((s17 - sin(s4)) ^ -0.05959989)) ...   \n",
       "15  (4.1391892 / ((s17 - s4) ^ 0.056165665)) + (m2...   \n",
       "16  (4.1391892 / ((s17 - s4) ^ 0.056165665)) + (m2...   \n",
       "17  (4.1391892 / ((s17 - sin(s4)) ^ 0.056165665)) ...   \n",
       "18  (4.0356464 * ((s17 - s4) ^ -0.05959989)) + (m2...   \n",
       "19  ((4.244596 + (((s17 - s4) ^ -0.11618661) + m26...   \n",
       "20  ((4.3270173 + (((s17 - sin(s4)) ^ -0.11618661)...   \n",
       "21  ((4.3270173 + (((s17 - (s4 * 0.9998639)) ^ -0....   \n",
       "22  ((4.3270173 + (((s17 - (s4 * 0.9998639)) ^ -0....   \n",
       "23  ((4.244596 + (((s17 - s4) ^ -0.11618661) + m26...   \n",
       "24  ((4.244596 + (((s17 - sin(s4)) ^ -0.11618661) ...   \n",
       "25  ((4.3270173 + (((s17 - (s4 * 0.9998639)) ^ -0....   \n",
       "26  ((4.3270173 + (((sin(s17) - (s4 * 0.9998639)) ...   \n",
       "27  ((4.3270173 + (((s17 - (s4 * 0.9998639)) ^ -0....   \n",
       "\n",
       "                                         sympy_format  \\\n",
       "0                                    6.94359800000000   \n",
       "1                                  s17**(-0.35427356)   \n",
       "2                             sin(s17)**(-0.35427356)   \n",
       "3                            m26 + s17**(-0.35351956)   \n",
       "4                       s17**(-0.35639733) + sin(m26)   \n",
       "5                       m26 - m9 + s17**(-0.35382512)   \n",
       "6                  m26 - m9 + sin(s17)**(-0.35382512)   \n",
       "7             m26 + 4.1392016/(s17 - s3)**0.056609504   \n",
       "8         4.244596/(s17 - s4)**0.056165665 + sin(m26)   \n",
       "9        m26 - m9 + 4.1392016/(s17 - s3)**0.056609504   \n",
       "10   m26 - m9 + 4.244596/(s17 - sin(s4))**0.056165665   \n",
       "11  m26 - 0.67322880737988*m9 + 4.3270173/(s17 - s...   \n",
       "12  m26 - 0.638203920576033*m9 + 4.244596/(s17 - s...   \n",
       "13  m26 - 0.448509374608395*m27 - 0.44850937460839...   \n",
       "14  m26 - 0.471480698334579*m27 - 0.47148069833457...   \n",
       "15  -0.448509374608395*m19 + m26 - 0.4485093746083...   \n",
       "16  m26 - 0.471480698334579*m27 - 0.47148069833457...   \n",
       "17  m26 - 0.471480698334579*m27 - 0.47148069833457...   \n",
       "18  m26 - 0.471480698334579*m27 - 0.47148069833457...   \n",
       "19  -0.410851407371496*m19 + m26 - 0.4108514073714...   \n",
       "20  -0.410851407371496*m19 + m26 - 0.4108514073714...   \n",
       "21  -0.433205176801863*m19 + m26 - 0.4332051768018...   \n",
       "22  -0.40412250867162*m19 + m26 - 0.40412250867162...   \n",
       "23  m26 - 0.471480698334579*m27 - 0.47148069833457...   \n",
       "24  m26 - 0.471480698334579*m27 - 0.47148069833457...   \n",
       "25  m26 - 0.471480698334579*m27 - 0.47148069833457...   \n",
       "26  m26 - 0.471480698334579*m27 - 0.47148069833457...   \n",
       "27  m26 - 0.471480698334579*m27 - 0.47148069833457...   \n",
       "\n",
       "                                        lambda_format  \n",
       "0                   PySRFunction(X=>6.94359800000000)  \n",
       "1                 PySRFunction(X=>s17**(-0.35427356))  \n",
       "2            PySRFunction(X=>sin(s17)**(-0.35427356))  \n",
       "3           PySRFunction(X=>m26 + s17**(-0.35351956))  \n",
       "4      PySRFunction(X=>s17**(-0.35639733) + sin(m26))  \n",
       "5      PySRFunction(X=>m26 - m9 + s17**(-0.35382512))  \n",
       "6   PySRFunction(X=>m26 - m9 + sin(s17)**(-0.35382...  \n",
       "7   PySRFunction(X=>m26 + 4.1392016/(s17 - s3)**0....  \n",
       "8   PySRFunction(X=>4.244596/(s17 - s4)**0.0561656...  \n",
       "9   PySRFunction(X=>m26 - m9 + 4.1392016/(s17 - s3...  \n",
       "10  PySRFunction(X=>m26 - m9 + 4.244596/(s17 - sin...  \n",
       "11  PySRFunction(X=>m26 - 0.67322880737988*m9 + 4....  \n",
       "12  PySRFunction(X=>m26 - 0.638203920576033*m9 + 4...  \n",
       "13  PySRFunction(X=>m26 - 0.448509374608395*m27 - ...  \n",
       "14  PySRFunction(X=>m26 - 0.471480698334579*m27 - ...  \n",
       "15  PySRFunction(X=>-0.448509374608395*m19 + m26 -...  \n",
       "16  PySRFunction(X=>m26 - 0.471480698334579*m27 - ...  \n",
       "17  PySRFunction(X=>m26 - 0.471480698334579*m27 - ...  \n",
       "18  PySRFunction(X=>m26 - 0.471480698334579*m27 - ...  \n",
       "19  PySRFunction(X=>-0.410851407371496*m19 + m26 -...  \n",
       "20  PySRFunction(X=>-0.410851407371496*m19 + m26 -...  \n",
       "21  PySRFunction(X=>-0.433205176801863*m19 + m26 -...  \n",
       "22  PySRFunction(X=>-0.40412250867162*m19 + m26 - ...  \n",
       "23  PySRFunction(X=>m26 - 0.471480698334579*m27 - ...  \n",
       "24  PySRFunction(X=>m26 - 0.471480698334579*m27 - ...  \n",
       "25  PySRFunction(X=>m26 - 0.471480698334579*m27 - ...  \n",
       "26  PySRFunction(X=>m26 - 0.471480698334579*m27 - ...  \n",
       "27  PySRFunction(X=>m26 - 0.471480698334579*m27 - ...  "
      ]
     },
     "execution_count": 8,
     "metadata": {},
     "output_type": "execute_result"
    }
   ],
   "source": [
    "results"
   ]
  },
  {
   "cell_type": "code",
   "execution_count": 7,
   "metadata": {},
   "outputs": [],
   "source": [
    "r = results.iloc[-1]"
   ]
  },
  {
   "cell_type": "code",
   "execution_count": 10,
   "metadata": {},
   "outputs": [
    {
     "data": {
      "text/plain": [
       "'((((((s4 * (s6 ^ 0.16980937)) ^ -0.3054036) + (0.4036053 * (m7 - m8))) - m2) / (((sin(1.1425459) ^ m4) ^ -0.20731291) + ((s1 + s4) / 0.46490234))) + 3.4232924)'"
      ]
     },
     "execution_count": 10,
     "metadata": {},
     "output_type": "execute_result"
    }
   ],
   "source": [
    "r.equation"
   ]
  },
  {
   "cell_type": "code",
   "execution_count": 8,
   "metadata": {},
   "outputs": [
    {
     "data": {
      "text/latex": [
       "$\\displaystyle 3.4232924 + \\frac{- m_{2} + 0.4036053 m_{7} - 0.4036053 m_{8} + \\left(s_{4} s_{6}^{0.16980937}\\right)^{-0.3054036}}{2.15098938843801 s_{1} + 2.15098938843801 s_{4} + \\left(0.909693704114083^{m_{4}}\\right)^{-0.20731291}}$"
      ],
      "text/plain": [
       "3.4232924 + (-m2 + 0.4036053*m7 - 0.4036053*m8 + (s4*s6**0.16980937)**(-0.3054036))/(2.15098938843801*s1 + 2.15098938843801*s4 + (0.909693704114083**m4)**(-0.20731291))"
      ]
     },
     "execution_count": 8,
     "metadata": {},
     "output_type": "execute_result"
    }
   ],
   "source": [
    "r.sympy_format"
   ]
  },
  {
   "cell_type": "code",
   "execution_count": 17,
   "metadata": {},
   "outputs": [
    {
     "data": {
      "text/plain": [
       "True"
      ]
     },
     "execution_count": 17,
     "metadata": {},
     "output_type": "execute_result"
    }
   ],
   "source": [
    "type(r) == pd.Series"
   ]
  },
  {
   "cell_type": "code",
   "execution_count": null,
   "metadata": {},
   "outputs": [],
   "source": [
    "def number_of_variables_in_expression(equation: str):\n",
    "    # assumes each variable is m{i} or s{i}\n",
    "    # so we can just count the number of s's and count the number of m's\n",
    "    # checking for a number after so \"sin\" doesn't get counted\n",
    "    count = 0\n",
    "    for i in range(len(equation)-1):\n",
    "        if equation[i] in ['m', 's'] and equation[i+1].isdigit():\n",
    "            count += 1\n",
    "\n",
    "    return count\n"
   ]
  },
  {
   "cell_type": "code",
   "execution_count": 14,
   "metadata": {},
   "outputs": [
    {
     "data": {
      "text/plain": [
       "8"
      ]
     },
     "execution_count": 14,
     "metadata": {},
     "output_type": "execute_result"
    }
   ],
   "source": [
    "number_of_variables_in_expression(r.equation)"
   ]
  },
  {
   "cell_type": "code",
   "execution_count": 18,
   "metadata": {},
   "outputs": [],
   "source": [
    "def overall_complexity(entry: pd.Series, k: int):\n",
    "    complexity = entry['complexity']\n",
    "    num_variables = number_of_variables_in_expression(entry.equation)\n",
    "    return complexity + (3 * k - 2) * num_variables"
   ]
  },
  {
   "cell_type": "code",
   "execution_count": 47,
   "metadata": {},
   "outputs": [],
   "source": [
    "def get_important_complexities(results, loss_gap = 0.25):\n",
    "    complexities = list(results['complexity'])\n",
    "    losses = list(results['loss'])\n",
    "    assert sorted(losses) == losses[::-1]\n",
    "\n",
    "    # important complexities are those that decrease the loss by more than loss_gap since the previous important complexity.\n",
    "    important_complexities = [complexities[0]]\n",
    "    current_loss = losses[0]\n",
    "\n",
    "    for i in range(1, len(complexities)):\n",
    "        if current_loss - losses[i] > loss_gap:\n",
    "            important_complexities.append(complexities[i])\n",
    "            current_loss = losses[i]\n",
    "\n",
    "    # automatically include the highest complexity too\n",
    "    if complexities[-1] != important_complexities[-1]:\n",
    "        important_complexities.append(complexities[-1])\n",
    "\n",
    "    return important_complexities"
   ]
  },
  {
   "cell_type": "code",
   "execution_count": 52,
   "metadata": {},
   "outputs": [],
   "source": [
    "important_complexities = get_important_complexities(results, loss_gap=0.2)"
   ]
  },
  {
   "cell_type": "code",
   "execution_count": 53,
   "metadata": {},
   "outputs": [
    {
     "name": "stdout",
     "output_type": "stream",
     "text": [
      "[1, 3, 5, 7, 9, 11, 14, 20, 29, 30]\n"
     ]
    }
   ],
   "source": [
    "print(important_complexities)"
   ]
  },
  {
   "cell_type": "code",
   "execution_count": 54,
   "metadata": {},
   "outputs": [],
   "source": [
    "important_losses = results['loss'][[list(results['complexity']).index(c) for c in important_complexities]]"
   ]
  },
  {
   "cell_type": "code",
   "execution_count": 55,
   "metadata": {},
   "outputs": [
    {
     "data": {
      "image/png": "[encoded data removed]",
      "text/plain": [
       "<Figure size 640x480 with 1 Axes>"
      ]
     },
     "metadata": {},
     "output_type": "display_data"
    }
   ],
   "source": [
    "# plot the pareto curve for results\n",
    "x = results['complexity']\n",
    "y = results['loss']\n",
    "# plot the pareto frontier\n",
    "plt.scatter(x, y, s=12)\n",
    "plt.xlabel('Equation complexity', fontsize=14)\n",
    "plt.ylabel('PySR loss', fontsize=14)\n",
    "plt.title(f'pareto frontier for {version}', fontsize=14)\n",
    "plt.tick_params(axis='both', which='major', labelsize=10)\n",
    "# plt.ylim(0, max(y)+1)\n",
    "# plt.title(f'pareto frontier for {version}')\n",
    "# for each important complexity and loss, plot a red square\n",
    "plt.scatter(important_complexities, important_losses, color='red', s=12)\n",
    "plt.savefig(f'pareto_{version}.png')\n",
    "plt.show()"
   ]
  },
  {
   "cell_type": "code",
   "execution_count": null,
   "metadata": {},
   "outputs": [],
   "source": [
    "import sr"
   ]
  },
  {
   "cell_type": "code",
   "execution_count": 10,
   "metadata": {},
   "outputs": [
    {
     "ename": "KeyboardInterrupt",
     "evalue": "",
     "output_type": "error",
     "traceback": [
      "\u001b[0;31m---------------------------------------------------------------------------\u001b[0m",
      "\u001b[0;31mKeyboardInterrupt\u001b[0m                         Traceback (most recent call last)",
      "\u001b[0;32m/tmp/ipykernel_3009858/2687669673.py\u001b[0m in \u001b[0;36m<module>\u001b[0;34m\u001b[0m\n\u001b[1;32m      4\u001b[0m     \u001b[0;34m'target'\u001b[0m\u001b[0;34m:\u001b[0m \u001b[0;34m'equation_bounds'\u001b[0m\u001b[0;34m,\u001b[0m\u001b[0;34m\u001b[0m\u001b[0;34m\u001b[0m\u001b[0m\n\u001b[1;32m      5\u001b[0m     \u001b[0;34m'residual'\u001b[0m\u001b[0;34m:\u001b[0m \u001b[0;32mFalse\u001b[0m\u001b[0;34m,\u001b[0m\u001b[0;34m\u001b[0m\u001b[0;34m\u001b[0m\u001b[0m\n\u001b[0;32m----> 6\u001b[0;31m     \u001b[0;34m'sr_residual'\u001b[0m\u001b[0;34m:\u001b[0m \u001b[0;32mFalse\u001b[0m\u001b[0;34m,\u001b[0m\u001b[0;34m\u001b[0m\u001b[0;34m\u001b[0m\u001b[0m\n\u001b[0m\u001b[1;32m      7\u001b[0m })\n",
      "\u001b[0;32m~/bnn_chaos_model/sr.py\u001b[0m in \u001b[0;36mload_inputs_and_targets\u001b[0;34m(config)\u001b[0m\n\u001b[1;32m     80\u001b[0m \u001b[0;32mdef\u001b[0m \u001b[0mload_inputs_and_targets\u001b[0m\u001b[0;34m(\u001b[0m\u001b[0mconfig\u001b[0m\u001b[0;34m)\u001b[0m\u001b[0;34m:\u001b[0m\u001b[0;34m\u001b[0m\u001b[0;34m\u001b[0m\u001b[0m\n\u001b[1;32m     81\u001b[0m     \u001b[0mmodel\u001b[0m \u001b[0;34m=\u001b[0m \u001b[0mspock_reg_model\u001b[0m\u001b[0;34m.\u001b[0m\u001b[0mload\u001b[0m\u001b[0;34m(\u001b[0m\u001b[0mversion\u001b[0m\u001b[0;34m=\u001b[0m\u001b[0mconfig\u001b[0m\u001b[0;34m[\u001b[0m\u001b[0;34m'version'\u001b[0m\u001b[0;34m]\u001b[0m\u001b[0;34m)\u001b[0m\u001b[0;34m\u001b[0m\u001b[0;34m\u001b[0m\u001b[0m\n\u001b[0;32m---> 82\u001b[0;31m     \u001b[0mmodel\u001b[0m\u001b[0;34m.\u001b[0m\u001b[0mmake_dataloaders\u001b[0m\u001b[0;34m(\u001b[0m\u001b[0;34m)\u001b[0m\u001b[0;34m\u001b[0m\u001b[0;34m\u001b[0m\u001b[0m\n\u001b[0m\u001b[1;32m     83\u001b[0m     \u001b[0mmodel\u001b[0m\u001b[0;34m.\u001b[0m\u001b[0meval\u001b[0m\u001b[0;34m(\u001b[0m\u001b[0;34m)\u001b[0m\u001b[0;34m\u001b[0m\u001b[0;34m\u001b[0m\u001b[0m\n\u001b[1;32m     84\u001b[0m \u001b[0;34m\u001b[0m\u001b[0m\n",
      "\u001b[0;32m~/bnn_chaos_model/spock_reg_model.py\u001b[0m in \u001b[0;36mmake_dataloaders\u001b[0;34m(self, train, **extra_kwargs)\u001b[0m\n\u001b[1;32m   1405\u001b[0m             \u001b[0mdataloader\u001b[0m\u001b[0;34m,\u001b[0m \u001b[0mval_dataloader\u001b[0m \u001b[0;34m=\u001b[0m \u001b[0mget_data\u001b[0m\u001b[0;34m(\u001b[0m\u001b[0;34m**\u001b[0m\u001b[0mkwargs\u001b[0m\u001b[0;34m)\u001b[0m\u001b[0;34m\u001b[0m\u001b[0;34m\u001b[0m\u001b[0m\n\u001b[1;32m   1406\u001b[0m         \u001b[0;32melse\u001b[0m\u001b[0;34m:\u001b[0m\u001b[0;34m\u001b[0m\u001b[0;34m\u001b[0m\u001b[0m\n\u001b[0;32m-> 1407\u001b[0;31m             \u001b[0mdataloader\u001b[0m\u001b[0;34m,\u001b[0m \u001b[0mval_dataloader\u001b[0m \u001b[0;34m=\u001b[0m \u001b[0mget_data\u001b[0m\u001b[0;34m(\u001b[0m\u001b[0mssX\u001b[0m\u001b[0;34m=\u001b[0m\u001b[0mself\u001b[0m\u001b[0;34m.\u001b[0m\u001b[0mssX\u001b[0m\u001b[0;34m,\u001b[0m \u001b[0;34m**\u001b[0m\u001b[0mkwargs\u001b[0m\u001b[0;34m)\u001b[0m\u001b[0;34m\u001b[0m\u001b[0;34m\u001b[0m\u001b[0m\n\u001b[0m\u001b[1;32m   1408\u001b[0m \u001b[0;34m\u001b[0m\u001b[0m\n\u001b[1;32m   1409\u001b[0m         \u001b[0mlabels\u001b[0m \u001b[0;34m=\u001b[0m \u001b[0;34m[\u001b[0m\u001b[0;34m'time'\u001b[0m\u001b[0;34m,\u001b[0m \u001b[0;34m'e+_near'\u001b[0m\u001b[0;34m,\u001b[0m \u001b[0;34m'e-_near'\u001b[0m\u001b[0;34m,\u001b[0m \u001b[0;34m'max_strength_mmr_near'\u001b[0m\u001b[0;34m,\u001b[0m \u001b[0;34m'e+_far'\u001b[0m\u001b[0;34m,\u001b[0m \u001b[0;34m'e-_far'\u001b[0m\u001b[0;34m,\u001b[0m \u001b[0;34m'max_strength_mmr_far'\u001b[0m\u001b[0;34m,\u001b[0m \u001b[0;34m'megno'\u001b[0m\u001b[0;34m,\u001b[0m \u001b[0;34m'a1'\u001b[0m\u001b[0;34m,\u001b[0m \u001b[0;34m'e1'\u001b[0m\u001b[0;34m,\u001b[0m \u001b[0;34m'i1'\u001b[0m\u001b[0;34m,\u001b[0m \u001b[0;34m'cos_Omega1'\u001b[0m\u001b[0;34m,\u001b[0m \u001b[0;34m'sin_Omega1'\u001b[0m\u001b[0;34m,\u001b[0m \u001b[0;34m'cos_pomega1'\u001b[0m\u001b[0;34m,\u001b[0m \u001b[0;34m'sin_pomega1'\u001b[0m\u001b[0;34m,\u001b[0m \u001b[0;34m'cos_theta1'\u001b[0m\u001b[0;34m,\u001b[0m \u001b[0;34m'sin_theta1'\u001b[0m\u001b[0;34m,\u001b[0m \u001b[0;34m'a2'\u001b[0m\u001b[0;34m,\u001b[0m \u001b[0;34m'e2'\u001b[0m\u001b[0;34m,\u001b[0m \u001b[0;34m'i2'\u001b[0m\u001b[0;34m,\u001b[0m \u001b[0;34m'cos_Omega2'\u001b[0m\u001b[0;34m,\u001b[0m \u001b[0;34m'sin_Omega2'\u001b[0m\u001b[0;34m,\u001b[0m \u001b[0;34m'cos_pomega2'\u001b[0m\u001b[0;34m,\u001b[0m \u001b[0;34m'sin_pomega2'\u001b[0m\u001b[0;34m,\u001b[0m \u001b[0;34m'cos_theta2'\u001b[0m\u001b[0;34m,\u001b[0m \u001b[0;34m'sin_theta2'\u001b[0m\u001b[0;34m,\u001b[0m \u001b[0;34m'a3'\u001b[0m\u001b[0;34m,\u001b[0m \u001b[0;34m'e3'\u001b[0m\u001b[0;34m,\u001b[0m \u001b[0;34m'i3'\u001b[0m\u001b[0;34m,\u001b[0m \u001b[0;34m'cos_Omega3'\u001b[0m\u001b[0;34m,\u001b[0m \u001b[0;34m'sin_Omega3'\u001b[0m\u001b[0;34m,\u001b[0m \u001b[0;34m'cos_pomega3'\u001b[0m\u001b[0;34m,\u001b[0m \u001b[0;34m'sin_pomega3'\u001b[0m\u001b[0;34m,\u001b[0m \u001b[0;34m'cos_theta3'\u001b[0m\u001b[0;34m,\u001b[0m \u001b[0;34m'sin_theta3'\u001b[0m\u001b[0;34m,\u001b[0m \u001b[0;34m'm1'\u001b[0m\u001b[0;34m,\u001b[0m \u001b[0;34m'm2'\u001b[0m\u001b[0;34m,\u001b[0m \u001b[0;34m'm3'\u001b[0m\u001b[0;34m,\u001b[0m \u001b[0;34m'nan_mmr_near'\u001b[0m\u001b[0;34m,\u001b[0m \u001b[0;34m'nan_mmr_far'\u001b[0m\u001b[0;34m,\u001b[0m \u001b[0;34m'nan_megno'\u001b[0m\u001b[0;34m]\u001b[0m\u001b[0;34m\u001b[0m\u001b[0;34m\u001b[0m\u001b[0m\n",
      "\u001b[0;32m~/bnn_chaos_model/spock_reg_model.py\u001b[0m in \u001b[0;36mget_data\u001b[0;34m(ssX, batch_size, train, **kwargs)\u001b[0m\n\u001b[1;32m    534\u001b[0m             \u001b[0mtrainy\u001b[0m\u001b[0;34m,\u001b[0m \u001b[0mtesty\u001b[0m\u001b[0;34m,\u001b[0m \u001b[0mtrainX\u001b[0m\u001b[0;34m,\u001b[0m \u001b[0mtestX\u001b[0m\u001b[0;34m,\u001b[0m \u001b[0mtrain_random\u001b[0m\u001b[0;34m,\u001b[0m \u001b[0mtest_random\u001b[0m \u001b[0;34m=\u001b[0m \u001b[0mtrain_test_split\u001b[0m\u001b[0;34m(\u001b[0m\u001b[0mremy\u001b[0m\u001b[0;34m,\u001b[0m \u001b[0mremX\u001b[0m\u001b[0;34m,\u001b[0m \u001b[0mrem_random\u001b[0m\u001b[0;34m,\u001b[0m \u001b[0mshuffle\u001b[0m\u001b[0;34m=\u001b[0m\u001b[0;32mTrue\u001b[0m\u001b[0;34m,\u001b[0m \u001b[0mtest_size\u001b[0m\u001b[0;34m=\u001b[0m\u001b[0;36m1.\u001b[0m\u001b[0;34m/\u001b[0m\u001b[0;36m10\u001b[0m\u001b[0;34m,\u001b[0m \u001b[0mrandom_state\u001b[0m\u001b[0;34m=\u001b[0m\u001b[0;36m1\u001b[0m\u001b[0;34m)\u001b[0m\u001b[0;34m\u001b[0m\u001b[0;34m\u001b[0m\u001b[0m\n\u001b[1;32m    535\u001b[0m         \u001b[0;32melse\u001b[0m\u001b[0;34m:\u001b[0m\u001b[0;34m\u001b[0m\u001b[0;34m\u001b[0m\u001b[0m\n\u001b[0;32m--> 536\u001b[0;31m             \u001b[0mremy\u001b[0m\u001b[0;34m,\u001b[0m \u001b[0mfinaly\u001b[0m\u001b[0;34m,\u001b[0m \u001b[0mremX\u001b[0m\u001b[0;34m,\u001b[0m \u001b[0mfinalX\u001b[0m \u001b[0;34m=\u001b[0m \u001b[0mtrain_test_split\u001b[0m\u001b[0;34m(\u001b[0m\u001b[0mfully\u001b[0m\u001b[0;34m,\u001b[0m \u001b[0mfullX\u001b[0m\u001b[0;34m,\u001b[0m \u001b[0mshuffle\u001b[0m\u001b[0;34m=\u001b[0m\u001b[0;32mTrue\u001b[0m\u001b[0;34m,\u001b[0m \u001b[0mtest_size\u001b[0m\u001b[0;34m=\u001b[0m\u001b[0;36m1.\u001b[0m\u001b[0;34m/\u001b[0m\u001b[0;36m10\u001b[0m\u001b[0;34m,\u001b[0m \u001b[0mrandom_state\u001b[0m\u001b[0;34m=\u001b[0m\u001b[0;36m0\u001b[0m\u001b[0;34m)\u001b[0m\u001b[0;34m\u001b[0m\u001b[0;34m\u001b[0m\u001b[0m\n\u001b[0m\u001b[1;32m    537\u001b[0m             \u001b[0mtrainy\u001b[0m\u001b[0;34m,\u001b[0m \u001b[0mtesty\u001b[0m\u001b[0;34m,\u001b[0m \u001b[0mtrainX\u001b[0m\u001b[0;34m,\u001b[0m \u001b[0mtestX\u001b[0m \u001b[0;34m=\u001b[0m \u001b[0mtrain_test_split\u001b[0m\u001b[0;34m(\u001b[0m\u001b[0mremy\u001b[0m\u001b[0;34m,\u001b[0m \u001b[0mremX\u001b[0m\u001b[0;34m,\u001b[0m \u001b[0mshuffle\u001b[0m\u001b[0;34m=\u001b[0m\u001b[0;32mTrue\u001b[0m\u001b[0;34m,\u001b[0m \u001b[0mtest_size\u001b[0m\u001b[0;34m=\u001b[0m\u001b[0;36m1.\u001b[0m\u001b[0;34m/\u001b[0m\u001b[0;36m10\u001b[0m\u001b[0;34m,\u001b[0m \u001b[0mrandom_state\u001b[0m\u001b[0;34m=\u001b[0m\u001b[0;36m1\u001b[0m\u001b[0;34m)\u001b[0m\u001b[0;34m\u001b[0m\u001b[0;34m\u001b[0m\u001b[0m\n\u001b[1;32m    538\u001b[0m     \u001b[0;32melse\u001b[0m\u001b[0;34m:\u001b[0m\u001b[0;34m\u001b[0m\u001b[0;34m\u001b[0m\u001b[0m\n",
      "\u001b[0;32m~/.conda/envs/bnn_chaos_model/lib/python3.7/site-packages/sklearn/model_selection/_split.py\u001b[0m in \u001b[0;36mtrain_test_split\u001b[0;34m(test_size, train_size, random_state, shuffle, stratify, *arrays)\u001b[0m\n\u001b[1;32m   2443\u001b[0m     return list(\n\u001b[1;32m   2444\u001b[0m         chain.from_iterable(\n\u001b[0;32m-> 2445\u001b[0;31m             \u001b[0;34m(\u001b[0m\u001b[0m_safe_indexing\u001b[0m\u001b[0;34m(\u001b[0m\u001b[0ma\u001b[0m\u001b[0;34m,\u001b[0m \u001b[0mtrain\u001b[0m\u001b[0;34m)\u001b[0m\u001b[0;34m,\u001b[0m \u001b[0m_safe_indexing\u001b[0m\u001b[0;34m(\u001b[0m\u001b[0ma\u001b[0m\u001b[0;34m,\u001b[0m \u001b[0mtest\u001b[0m\u001b[0;34m)\u001b[0m\u001b[0;34m)\u001b[0m \u001b[0;32mfor\u001b[0m \u001b[0ma\u001b[0m \u001b[0;32min\u001b[0m \u001b[0marrays\u001b[0m\u001b[0;34m\u001b[0m\u001b[0;34m\u001b[0m\u001b[0m\n\u001b[0m\u001b[1;32m   2446\u001b[0m         )\n\u001b[1;32m   2447\u001b[0m     )\n",
      "\u001b[0;32m~/.conda/envs/bnn_chaos_model/lib/python3.7/site-packages/sklearn/model_selection/_split.py\u001b[0m in \u001b[0;36m<genexpr>\u001b[0;34m(.0)\u001b[0m\n\u001b[1;32m   2443\u001b[0m     return list(\n\u001b[1;32m   2444\u001b[0m         chain.from_iterable(\n\u001b[0;32m-> 2445\u001b[0;31m             \u001b[0;34m(\u001b[0m\u001b[0m_safe_indexing\u001b[0m\u001b[0;34m(\u001b[0m\u001b[0ma\u001b[0m\u001b[0;34m,\u001b[0m \u001b[0mtrain\u001b[0m\u001b[0;34m)\u001b[0m\u001b[0;34m,\u001b[0m \u001b[0m_safe_indexing\u001b[0m\u001b[0;34m(\u001b[0m\u001b[0ma\u001b[0m\u001b[0;34m,\u001b[0m \u001b[0mtest\u001b[0m\u001b[0;34m)\u001b[0m\u001b[0;34m)\u001b[0m \u001b[0;32mfor\u001b[0m \u001b[0ma\u001b[0m \u001b[0;32min\u001b[0m \u001b[0marrays\u001b[0m\u001b[0;34m\u001b[0m\u001b[0;34m\u001b[0m\u001b[0m\n\u001b[0m\u001b[1;32m   2446\u001b[0m         )\n\u001b[1;32m   2447\u001b[0m     )\n",
      "\u001b[0;32m~/.conda/envs/bnn_chaos_model/lib/python3.7/site-packages/sklearn/utils/__init__.py\u001b[0m in \u001b[0;36m_safe_indexing\u001b[0;34m(X, indices, axis)\u001b[0m\n\u001b[1;32m    376\u001b[0m         \u001b[0;32mreturn\u001b[0m \u001b[0m_pandas_indexing\u001b[0m\u001b[0;34m(\u001b[0m\u001b[0mX\u001b[0m\u001b[0;34m,\u001b[0m \u001b[0mindices\u001b[0m\u001b[0;34m,\u001b[0m \u001b[0mindices_dtype\u001b[0m\u001b[0;34m,\u001b[0m \u001b[0maxis\u001b[0m\u001b[0;34m=\u001b[0m\u001b[0maxis\u001b[0m\u001b[0;34m)\u001b[0m\u001b[0;34m\u001b[0m\u001b[0;34m\u001b[0m\u001b[0m\n\u001b[1;32m    377\u001b[0m     \u001b[0;32melif\u001b[0m \u001b[0mhasattr\u001b[0m\u001b[0;34m(\u001b[0m\u001b[0mX\u001b[0m\u001b[0;34m,\u001b[0m \u001b[0;34m\"shape\"\u001b[0m\u001b[0;34m)\u001b[0m\u001b[0;34m:\u001b[0m\u001b[0;34m\u001b[0m\u001b[0;34m\u001b[0m\u001b[0m\n\u001b[0;32m--> 378\u001b[0;31m         \u001b[0;32mreturn\u001b[0m \u001b[0m_array_indexing\u001b[0m\u001b[0;34m(\u001b[0m\u001b[0mX\u001b[0m\u001b[0;34m,\u001b[0m \u001b[0mindices\u001b[0m\u001b[0;34m,\u001b[0m \u001b[0mindices_dtype\u001b[0m\u001b[0;34m,\u001b[0m \u001b[0maxis\u001b[0m\u001b[0;34m=\u001b[0m\u001b[0maxis\u001b[0m\u001b[0;34m)\u001b[0m\u001b[0;34m\u001b[0m\u001b[0;34m\u001b[0m\u001b[0m\n\u001b[0m\u001b[1;32m    379\u001b[0m     \u001b[0;32melse\u001b[0m\u001b[0;34m:\u001b[0m\u001b[0;34m\u001b[0m\u001b[0;34m\u001b[0m\u001b[0m\n\u001b[1;32m    380\u001b[0m         \u001b[0;32mreturn\u001b[0m \u001b[0m_list_indexing\u001b[0m\u001b[0;34m(\u001b[0m\u001b[0mX\u001b[0m\u001b[0;34m,\u001b[0m \u001b[0mindices\u001b[0m\u001b[0;34m,\u001b[0m \u001b[0mindices_dtype\u001b[0m\u001b[0;34m)\u001b[0m\u001b[0;34m\u001b[0m\u001b[0;34m\u001b[0m\u001b[0m\n",
      "\u001b[0;32m~/.conda/envs/bnn_chaos_model/lib/python3.7/site-packages/sklearn/utils/__init__.py\u001b[0m in \u001b[0;36m_array_indexing\u001b[0;34m(array, key, key_dtype, axis)\u001b[0m\n\u001b[1;32m    200\u001b[0m     \u001b[0;32mif\u001b[0m \u001b[0misinstance\u001b[0m\u001b[0;34m(\u001b[0m\u001b[0mkey\u001b[0m\u001b[0;34m,\u001b[0m \u001b[0mtuple\u001b[0m\u001b[0;34m)\u001b[0m\u001b[0;34m:\u001b[0m\u001b[0;34m\u001b[0m\u001b[0;34m\u001b[0m\u001b[0m\n\u001b[1;32m    201\u001b[0m         \u001b[0mkey\u001b[0m \u001b[0;34m=\u001b[0m \u001b[0mlist\u001b[0m\u001b[0;34m(\u001b[0m\u001b[0mkey\u001b[0m\u001b[0;34m)\u001b[0m\u001b[0;34m\u001b[0m\u001b[0;34m\u001b[0m\u001b[0m\n\u001b[0;32m--> 202\u001b[0;31m     \u001b[0;32mreturn\u001b[0m \u001b[0marray\u001b[0m\u001b[0;34m[\u001b[0m\u001b[0mkey\u001b[0m\u001b[0;34m]\u001b[0m \u001b[0;32mif\u001b[0m \u001b[0maxis\u001b[0m \u001b[0;34m==\u001b[0m \u001b[0;36m0\u001b[0m \u001b[0;32melse\u001b[0m \u001b[0marray\u001b[0m\u001b[0;34m[\u001b[0m\u001b[0;34m:\u001b[0m\u001b[0;34m,\u001b[0m \u001b[0mkey\u001b[0m\u001b[0;34m]\u001b[0m\u001b[0;34m\u001b[0m\u001b[0;34m\u001b[0m\u001b[0m\n\u001b[0m\u001b[1;32m    203\u001b[0m \u001b[0;34m\u001b[0m\u001b[0m\n\u001b[1;32m    204\u001b[0m \u001b[0;34m\u001b[0m\u001b[0m\n",
      "\u001b[0;31mKeyboardInterrupt\u001b[0m: "
     ]
    }
   ],
   "source": [
    "X, y, _ = sr.load_inputs_and_targets({\n",
    "    'version': 24880,\n",
    "    'n': 1000,\n",
    "    'target': 'equation_bounds',\n",
    "    'residual': False,\n",
    "    'sr_residual': False,\n",
    "    'previous_sr_path': 'sr_results/11003.pkl',\n",
    "})"
   ]
  },
  {
   "cell_type": "code",
   "execution_count": 19,
   "metadata": {},
   "outputs": [
    {
     "name": "stdout",
     "output_type": "stream",
     "text": [
      "31\n"
     ]
    }
   ],
   "source": [
    "labels = ['time', 'e+_near', 'e-_near', 'max_strength_mmr_near', 'e+_far', 'e-_far', 'max_strength_mmr_far', 'megno', 'a1', 'e1', 'i1', 'cos_Omega1', 'sin_Omega1', 'cos_pomega1', 'sin_pomega1', 'cos_theta1', 'sin_theta1', 'a2', 'e2', 'i2', 'cos_Omega2', 'sin_Omega2', 'cos_pomega2', 'sin_pomega2', 'cos_theta2', 'sin_theta2', 'a3', 'e3', 'i3', 'cos_Omega3', 'sin_Omega3', 'cos_pomega3', 'sin_pomega3', 'cos_theta3', 'sin_theta3', 'm1', 'm2', 'm3', 'nan_mmr_near', 'nan_mmr_far', 'nan_megno']\n",
    "\n",
    "# not all of these labels are actually used. for training, these inputs are zeroed out, but still passed in as zeroes.\n",
    "# ideally, the linear layer ignores them, which does happen if i do l1 regularization to it\n",
    "skipped = ['nan_mmr_near', 'nan_mmr_far', 'nan_megno', 'e+_near', 'e-_near', 'max_strength_mmr_near', 'e+_far', 'e-_far', 'max_strength_mmr_far', 'megno']\n",
    "\n",
    "print(len(labels) - len(skipped))"
   ]
  },
  {
   "cell_type": "code",
   "execution_count": 20,
   "metadata": {},
   "outputs": [
    {
     "name": "stdout",
     "output_type": "stream",
     "text": [
      "[35, 36, 37]\n"
     ]
    }
   ],
   "source": [
    "mass_indices = [labels.index(f'm{i}') for i in range(1, 4)]\n",
    "print(mass_indices)"
   ]
  },
  {
   "cell_type": "code",
   "execution_count": 21,
   "metadata": {},
   "outputs": [
    {
     "data": {
      "text/html": [
       "<div>\n",
       "<style scoped>\n",
       "    .dataframe tbody tr th:only-of-type {\n",
       "        vertical-align: middle;\n",
       "    }\n",
       "\n",
       "    .dataframe tbody tr th {\n",
       "        vertical-align: top;\n",
       "    }\n",
       "\n",
       "    .dataframe thead th {\n",
       "        text-align: right;\n",
       "    }\n",
       "</style>\n",
       "<table border=\"1\" class=\"dataframe\">\n",
       "  <thead>\n",
       "    <tr style=\"text-align: right;\">\n",
       "      <th></th>\n",
       "      <th>complexity</th>\n",
       "      <th>loss</th>\n",
       "      <th>score</th>\n",
       "      <th>equation</th>\n",
       "    </tr>\n",
       "  </thead>\n",
       "  <tbody>\n",
       "    <tr>\n",
       "      <th>0</th>\n",
       "      <td>1</td>\n",
       "      <td>0.249973</td>\n",
       "      <td>0.000000</td>\n",
       "      <td>0.49458945</td>\n",
       "    </tr>\n",
       "    <tr>\n",
       "      <th>1</th>\n",
       "      <td>3</td>\n",
       "      <td>0.249541</td>\n",
       "      <td>0.000865</td>\n",
       "      <td>(0.50638455 - s9)</td>\n",
       "    </tr>\n",
       "    <tr>\n",
       "      <th>2</th>\n",
       "      <td>5</td>\n",
       "      <td>0.248170</td>\n",
       "      <td>0.002754</td>\n",
       "      <td>(0.4517435 * (s6 ^ -0.04497116))</td>\n",
       "    </tr>\n",
       "    <tr>\n",
       "      <th>3</th>\n",
       "      <td>6</td>\n",
       "      <td>0.247992</td>\n",
       "      <td>0.000718</td>\n",
       "      <td>sin(0.4517435 * (s6 ^ -0.064327404))</td>\n",
       "    </tr>\n",
       "    <tr>\n",
       "      <th>4</th>\n",
       "      <td>7</td>\n",
       "      <td>0.247491</td>\n",
       "      <td>0.002024</td>\n",
       "      <td>((0.4517435 * (s6 ^ -0.064327404)) - s9)</td>\n",
       "    </tr>\n",
       "    <tr>\n",
       "      <th>5</th>\n",
       "      <td>8</td>\n",
       "      <td>0.247283</td>\n",
       "      <td>0.000839</td>\n",
       "      <td>(sin(0.4517435) * ((s6 * s0) ^ -0.04497116))</td>\n",
       "    </tr>\n",
       "    <tr>\n",
       "      <th>6</th>\n",
       "      <td>9</td>\n",
       "      <td>0.246992</td>\n",
       "      <td>0.001177</td>\n",
       "      <td>(1.1967744 / ((s0 + 0.939787) + (1.1967744 ^ m...</td>\n",
       "    </tr>\n",
       "    <tr>\n",
       "      <th>7</th>\n",
       "      <td>11</td>\n",
       "      <td>0.246882</td>\n",
       "      <td>0.000223</td>\n",
       "      <td>((0.48467433 / (((0.4968045 ^ m2) ^ 0.48467433...</td>\n",
       "    </tr>\n",
       "    <tr>\n",
       "      <th>8</th>\n",
       "      <td>12</td>\n",
       "      <td>0.246551</td>\n",
       "      <td>0.001341</td>\n",
       "      <td>(sin(0.49300572) + (((-1.0869684 + s0) + m2) *...</td>\n",
       "    </tr>\n",
       "    <tr>\n",
       "      <th>9</th>\n",
       "      <td>13</td>\n",
       "      <td>0.246159</td>\n",
       "      <td>0.001593</td>\n",
       "      <td>(sin(0.8733668) / ((sin(0.9549377) * (s0 ^ 0.4...</td>\n",
       "    </tr>\n",
       "    <tr>\n",
       "      <th>10</th>\n",
       "      <td>20</td>\n",
       "      <td>0.246113</td>\n",
       "      <td>0.000026</td>\n",
       "      <td>(1.1967744 / ((-0.27763575 * -1.2597001) + (((...</td>\n",
       "    </tr>\n",
       "    <tr>\n",
       "      <th>11</th>\n",
       "      <td>21</td>\n",
       "      <td>0.246112</td>\n",
       "      <td>0.000005</td>\n",
       "      <td>(1.1967744 / ((-0.27763575 * -1.2597001) + (((...</td>\n",
       "    </tr>\n",
       "  </tbody>\n",
       "</table>\n",
       "</div>"
      ],
      "text/plain": [
       "    complexity      loss     score  \\\n",
       "0            1  0.249973  0.000000   \n",
       "1            3  0.249541  0.000865   \n",
       "2            5  0.248170  0.002754   \n",
       "3            6  0.247992  0.000718   \n",
       "4            7  0.247491  0.002024   \n",
       "5            8  0.247283  0.000839   \n",
       "6            9  0.246992  0.001177   \n",
       "7           11  0.246882  0.000223   \n",
       "8           12  0.246551  0.001341   \n",
       "9           13  0.246159  0.001593   \n",
       "10          20  0.246113  0.000026   \n",
       "11          21  0.246112  0.000005   \n",
       "\n",
       "                                             equation  \n",
       "0                                          0.49458945  \n",
       "1                                   (0.50638455 - s9)  \n",
       "2                    (0.4517435 * (s6 ^ -0.04497116))  \n",
       "3                sin(0.4517435 * (s6 ^ -0.064327404))  \n",
       "4            ((0.4517435 * (s6 ^ -0.064327404)) - s9)  \n",
       "5        (sin(0.4517435) * ((s6 * s0) ^ -0.04497116))  \n",
       "6   (1.1967744 / ((s0 + 0.939787) + (1.1967744 ^ m...  \n",
       "7   ((0.48467433 / (((0.4968045 ^ m2) ^ 0.48467433...  \n",
       "8   (sin(0.49300572) + (((-1.0869684 + s0) + m2) *...  \n",
       "9   (sin(0.8733668) / ((sin(0.9549377) * (s0 ^ 0.4...  \n",
       "10  (1.1967744 / ((-0.27763575 * -1.2597001) + (((...  \n",
       "11  (1.1967744 / ((-0.27763575 * -1.2597001) + (((...  "
      ]
     },
     "execution_count": 21,
     "metadata": {},
     "output_type": "execute_result"
    }
   ],
   "source": [
    "# dont print columns 'sympy_format' and 'lambda_format'\n",
    "results.drop(columns=['sympy_format', 'lambda_format'])"
   ]
  },
  {
   "cell_type": "code",
   "execution_count": 22,
   "metadata": {},
   "outputs": [
    {
     "name": "stdout",
     "output_type": "stream",
     "text": [
      "0 0.49458945\n",
      "1 (0.50638455 - s9)\n",
      "2 (0.4517435 * (s6 ^ -0.04497116))\n",
      "3 sin(0.4517435 * (s6 ^ -0.064327404))\n",
      "4 ((0.4517435 * (s6 ^ -0.064327404)) - s9)\n",
      "5 (sin(0.4517435) * ((s6 * s0) ^ -0.04497116))\n",
      "6 (1.1967744 / ((s0 + 0.939787) + (1.1967744 ^ m2)))\n",
      "7 ((0.48467433 / (((0.4968045 ^ m2) ^ 0.48467433) ^ -0.26801974)) - s9)\n",
      "8 (sin(0.49300572) + (((-1.0869684 + s0) + m2) * (0.26427105 * -0.19304992)))\n",
      "9 (sin(0.8733668) / ((sin(0.9549377) * (s0 ^ 0.42185172)) + (1.1967744 ^ m2)))\n",
      "10 (1.1967744 / ((-0.27763575 * -1.2597001) + ((((sin(0.5592639) - (-0.094792366 * m2)) - -0.19037914) + s0) + (1.1967744 ^ m2))))\n",
      "11 (1.1967744 / ((-0.27763575 * -1.2597001) + ((((sin(0.5592639) - (sin(-0.094792366) * m2)) - -0.19037914) + s0) + (1.1967744 ^ m2))))\n"
     ]
    }
   ],
   "source": [
    "for i in range(len(results)):\n",
    "    print(i, results['equation'][i])"
   ]
  },
  {
   "cell_type": "code",
   "execution_count": 23,
   "metadata": {},
   "outputs": [
    {
     "name": "stdout",
     "output_type": "stream",
     "text": [
      "\\begin{table}[h]\n",
      "\\begin{center}\n",
      "\\begin{tabular}{@{}ccc@{}}\n",
      "\\toprule\n",
      "Equation & Complexity & Loss \\\\\n",
      "\\midrule\n",
      "$y = 0.49$ & $1$ & $0.25$ \\\\\n",
      "$y = 0.51 - \\sigma_{9}$ & $3$ & $0.25$ \\\\\n",
      "$y = \\frac{0.45}{\\sigma_{6}^{0.045}}$ & $5$ & $0.25$ \\\\\n",
      "$y = \\sin{\\left(\\frac{0.45}{\\sigma_{6}^{0.064}} \\right)}$ & $6$ & $0.25$ \\\\\n",
      "$y = \\frac{0.45}{\\sigma_{6}^{0.064}} - \\sigma_{9}$ & $7$ & $0.25$ \\\\\n",
      "$y = \\frac{0.44}{\\left(\\sigma_{0} \\sigma_{6}\\right)^{0.045}}$ & $8$ & $0.25$ \\\\\n",
      "$y = \\frac{1.2}{1.2^{\\mu_{2}} + \\sigma_{0} + 0.94}$ & $9$ & $0.25$ \\\\\n",
      "$y = - \\sigma_{9} + 0.48 \\left(0.50^{\\mu_{2}}\\right)^{0.13}$ & $11$ & $0.25$ \\\\\n",
      "$y = - 0.051 \\mu_{2} - 0.051 \\sigma_{0} + 0.53$ & $12$ & $0.25$ \\\\\n",
      "$y = \\frac{0.77}{1.2^{\\mu_{2}} + 0.82 \\sigma_{0}^{0.42}}$ & $13$ & $0.25$ \\\\\n",
      "\\begin{minipage}{0.8\\linewidth} \\vspace{-1em} \\begin{dmath*} y = \\frac{1.2}{1.2^{\\mu_{2}} + 0.095 \\mu_{2} + \\sigma_{0} + 1.1} \\end{dmath*} \\end{minipage} & $20$ & $0.25$ \\\\\n",
      "\\begin{minipage}{0.8\\linewidth} \\vspace{-1em} \\begin{dmath*} y = \\frac{1.2}{1.2^{\\mu_{2}} + 0.095 \\mu_{2} + \\sigma_{0} + 1.1} \\end{dmath*} \\end{minipage} & $21$ & $0.25$ \\\\\n",
      "\\bottomrule\n",
      "\\end{tabular}\n",
      "\\end{center}\n",
      "\\end{table}\n"
     ]
    }
   ],
   "source": [
    "# s = reg.latex_table(precision=2, indices=[[1, 3, 5, 7, 9, 11, 13, 14, 18, 20, 27, 29], [ 1, 3, 5, 7, 9, 11, 13, 14, 18, 20, 27, 29]], columns=['equation', 'complexity', 'loss'])\n",
    "s = reg.latex_table(precision=2, columns=['equation', 'complexity', 'loss'])\n",
    "\n",
    "# replace m_ with \\\\mu_ and s_ with \\\\sigma_\n",
    "s = s.replace('m_', '\\\\mu_')\n",
    "s = s.replace('s_', '\\\\sigma_')\n",
    "\n",
    "# remove the first 5 lines which are package imports\n",
    "s = '\\n'.join(s.split('\\n')[5:])\n",
    "print(s)"
   ]
  },
  {
   "cell_type": "code",
   "execution_count": null,
   "metadata": {},
   "outputs": [],
   "source": []
  },
  {
   "cell_type": "code",
   "execution_count": null,
   "metadata": {},
   "outputs": [],
   "source": []
  }
 ],
 "metadata": {
  "kernelspec": {
   "display_name": "base",
   "language": "python",
   "name": "python3"
  },
  "language_info": {
   "codemirror_mode": {
    "name": "ipython",
    "version": 3
   },
   "file_extension": ".py",
   "mimetype": "text/x-python",
   "name": "python",
   "nbconvert_exporter": "python",
   "pygments_lexer": "ipython3",
   "version": "3.10.8"
  }
 },
 "nbformat": 4,
 "nbformat_minor": 2
}
