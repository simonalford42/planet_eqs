{
 "cells": [
  {
   "cell_type": "code",
   "execution_count": 1,
   "metadata": {},
   "outputs": [
    {
     "name": "stderr",
     "output_type": "stream",
     "text": [
      "/Users/simon/mambaforge/lib/python3.10/site-packages/juliacall/__init__.py:60: UserWarning: torch was imported before juliacall. This may cause a segfault. To avoid this, import juliacall before importing torch. For updates, see https://github.com/pytorch/pytorch/issues/78829.\n",
      "  warnings.warn(\n"
     ]
    },
    {
     "name": "stdout",
     "output_type": "stream",
     "text": [
      "Detected Jupyter notebook. Loading juliacall extension. Set `PYSR_AUTOLOAD_EXTENSIONS=no` to disable.\n"
     ]
    }
   ],
   "source": [
    "import torch\n",
    "import pickle\n",
    "from matplotlib import pyplot as plt\n",
    "import numpy as np\n",
    "import pysr\n",
    "import pickle"
   ]
  },
  {
   "cell_type": "code",
   "execution_count": 5,
   "metadata": {},
   "outputs": [],
   "source": [
    "# version = 87804\n",
    "# version = 72872\n",
    "# version = 80525\n",
    "# version = 15579\n",
    "# version = 33060\n",
    "version = 11003\n",
    "results_path = f'sr_results/{version}.pkl'\n",
    "reg = pickle.load(open(results_path, 'rb'))\n",
    "assert len(reg.equations_) == 2\n",
    "results = reg.equations_[0]  # equations for predicting the mean"
   ]
  },
  {
   "cell_type": "code",
   "execution_count": 6,
   "metadata": {},
   "outputs": [
    {
     "name": "stdout",
     "output_type": "stream",
     "text": [
      "[1, 3, 4, 5, 7, 9, 11, 13, 14, 15, 16, 17, 18, 19, 20, 22, 23, 24, 25, 26, 27, 29, 30]\n"
     ]
    }
   ],
   "source": [
    "# print the complexities for the mean\n",
    "print(list(results['complexity']))"
   ]
  },
  {
   "cell_type": "code",
   "execution_count": 7,
   "metadata": {},
   "outputs": [
    {
     "data": {
      "image/png": "[encoded data removed]",
      "text/plain": [
       "<Figure size 640x480 with 1 Axes>"
      ]
     },
     "metadata": {},
     "output_type": "display_data"
    }
   ],
   "source": [
    "# plot the pareto curve for results\n",
    "x = results['complexity']\n",
    "y = results['loss']\n",
    "# plot the pareto frontier\n",
    "plt.scatter(x, y, s=100)\n",
    "plt.xlabel('Equation complexity', fontsize=24)\n",
    "plt.ylabel('PySR loss', fontsize=24)\n",
    "plt.tick_params(axis='both', which='major', labelsize=20)\n",
    "# plt.ylim(0, max(y)+1)\n",
    "# plt.title(f'pareto frontier for {version}')\n",
    "plt.savefig(f'pareto_{version}.png')\n",
    "plt.show()\n",
    "\n"
   ]
  },
  {
   "cell_type": "code",
   "execution_count": null,
   "metadata": {},
   "outputs": [],
   "source": []
  },
  {
   "cell_type": "code",
   "execution_count": 8,
   "metadata": {},
   "outputs": [
    {
     "name": "stdout",
     "output_type": "stream",
     "text": [
      "    complexity      loss     score  \\\n",
      "0            1  5.653270  0.000000   \n",
      "1            3  4.978444  0.063558   \n",
      "2            4  4.918939  0.012024   \n",
      "3            5  4.030765  0.199137   \n",
      "4            7  3.305422  0.099196   \n",
      "5            9  3.068312  0.037218   \n",
      "6           11  2.696698  0.064550   \n",
      "7           13  2.646566  0.009383   \n",
      "8           14  2.478105  0.065769   \n",
      "9           15  2.464568  0.005478   \n",
      "10          16  2.448900  0.006378   \n",
      "11          17  2.405428  0.017911   \n",
      "12          18  2.297585  0.045869   \n",
      "13          19  2.297566  0.000008   \n",
      "14          20  2.237755  0.026377   \n",
      "15          22  2.189967  0.010793   \n",
      "16          23  2.180057  0.004535   \n",
      "17          24  2.165426  0.006734   \n",
      "18          25  2.153981  0.005300   \n",
      "19          26  2.146375  0.003537   \n",
      "20          27  2.082803  0.030066   \n",
      "21          29  2.037085  0.011097   \n",
      "22          30  2.036510  0.000282   \n",
      "\n",
      "                                             equation  \\\n",
      "0                                           7.0051637   \n",
      "1                                     (6.990491 - m2)   \n",
      "2                               (7.1660094 - sin(m2))   \n",
      "3                    ((s4 ^ -0.15489304) * 3.6422653)   \n",
      "4             (((s4 ^ -0.15921338) * 3.5656016) - m2)   \n",
      "5      ((((s4 * s1) ^ -0.15921338) + 3.5656016) - m2)   \n",
      "6   ((((s4 ^ -0.30986544) - m2) * (0.14308752 ^ s1...   \n",
      "7   (((((s4 ^ -0.31699488) - s6) - m2) * (0.160041...   \n",
      "8   ((((s4 ^ -0.32957777) - (sin(m2) - m7)) * (0.0...   \n",
      "9   ((((s4 ^ -0.32764328) - ((m2 - m7) / 1.4952106...   \n",
      "10  ((((s4 ^ -0.32957777) - (sin(m2) - m7)) * ((0....   \n",
      "11  ((((s4 ^ -0.32764328) - ((m2 - (m7 - s6)) / 1....   \n",
      "12  ((((((s4 * (s6 ^ 0.21691035)) ^ -0.3054036) + ...   \n",
      "13  ((((((s4 * (s6 ^ 0.21691035)) ^ -0.3054036) + ...   \n",
      "14  ((((((s4 * (s6 ^ 0.22899987)) ^ -0.3054036) + ...   \n",
      "15  (((((((s4 + s2) * (s6 ^ 0.35097006)) ^ -0.3096...   \n",
      "16  (((((((s4 + s2) * sin(s6 ^ 0.35097006)) ^ -0.3...   \n",
      "17  (((((((s4 + s2) * (s6 ^ 0.35097006)) ^ -0.3056...   \n",
      "18  (((((((s4 + s2) * sin(s6 ^ 0.35097006)) ^ -0.3...   \n",
      "19  (((((((s4 + s2) * (s6 ^ 0.35633504)) ^ -0.3054...   \n",
      "20  ((((((s4 * (s6 ^ 0.14587918)) ^ -0.3054036) + ...   \n",
      "21  ((((((s4 * (s6 ^ 0.16980937)) ^ -0.3054036) + ...   \n",
      "22  ((((((s4 * (s6 ^ 0.16980937)) ^ -0.3054036) + ...   \n",
      "\n",
      "                                         sympy_format  \\\n",
      "0                                    7.00516370000000   \n",
      "1                                       6.990491 - m2   \n",
      "2                                 7.1660094 - sin(m2)   \n",
      "3                            3.6422653/s4**0.15489304   \n",
      "4                      -m2 + 3.5656016/s4**0.15921338   \n",
      "5            -m2 + (s1*s4)**(-0.15921338) + 3.5656016   \n",
      "6   0.14308752**s1*(-m2 + s4**(-0.30986544)) + 3.6...   \n",
      "7   0.16004194**s1*(-m2 + s4**(-0.31699488) - s6) ...   \n",
      "8   0.058552526**s1*(m7 + s4**(-0.32957777) - sin(...   \n",
      "9   0.08607817**s1*(-0.668802107208175*m2 + 0.6688...   \n",
      "10  (0.058552526**s1 - s2)*(m7 + s4**(-0.32957777)...   \n",
      "11  0.0841594**s1*(-0.668802107208175*m2 + 0.66880...   \n",
      "12  0.058552526**s1*(m7 + (s4*s6**0.21691035)**(-0...   \n",
      "13  0.0585190748379342**s1*(m7 + (s4*s6**0.2169103...   \n",
      "14  0.058552526**s1*(m7 - s8 + (s4*s6**0.22899987)...   \n",
      "15  0.06687981**s1*(m7 - s8 + (s6**0.35097006*(s2 ...   \n",
      "16  0.058552526**s1*(m7 - s8 + ((s2 + s4)*sin(s6**...   \n",
      "17  0.08607817**s1*(0.81584936*m7 - 0.81584936*s8 ...   \n",
      "18  (0.058552526**s1 - s2)*(m7 - s8 + ((s2 + s4)*s...   \n",
      "19  0.0841594**s1*((s6**0.35633504*(s2 + s4))**(-0...   \n",
      "20  3.2222686 + (-m2 + 0.35986993*m7 - 0.35986993*...   \n",
      "21  3.4232924 + (-m2 + 0.4036053*m7 - 0.4036053*m8...   \n",
      "22  3.4232924 + (-m2 + 0.4036053*m7 - 0.4036053*m8...   \n",
      "\n",
      "                                        lambda_format  \n",
      "0                   PySRFunction(X=>7.00516370000000)  \n",
      "1                      PySRFunction(X=>6.990491 - m2)  \n",
      "2                PySRFunction(X=>7.1660094 - sin(m2))  \n",
      "3           PySRFunction(X=>3.6422653/s4**0.15489304)  \n",
      "4     PySRFunction(X=>-m2 + 3.5656016/s4**0.15921338)  \n",
      "5   PySRFunction(X=>-m2 + (s1*s4)**(-0.15921338) +...  \n",
      "6   PySRFunction(X=>0.14308752**s1*(-m2 + s4**(-0....  \n",
      "7   PySRFunction(X=>0.16004194**s1*(-m2 + s4**(-0....  \n",
      "8   PySRFunction(X=>0.058552526**s1*(m7 + s4**(-0....  \n",
      "9   PySRFunction(X=>0.08607817**s1*(-0.66880210720...  \n",
      "10  PySRFunction(X=>(0.058552526**s1 - s2)*(m7 + s...  \n",
      "11  PySRFunction(X=>0.0841594**s1*(-0.668802107208...  \n",
      "12  PySRFunction(X=>0.058552526**s1*(m7 + (s4*s6**...  \n",
      "13  PySRFunction(X=>0.0585190748379342**s1*(m7 + (...  \n",
      "14  PySRFunction(X=>0.058552526**s1*(m7 - s8 + (s4...  \n",
      "15  PySRFunction(X=>0.06687981**s1*(m7 - s8 + (s6*...  \n",
      "16  PySRFunction(X=>0.058552526**s1*(m7 - s8 + ((s...  \n",
      "17  PySRFunction(X=>0.08607817**s1*(0.81584936*m7 ...  \n",
      "18  PySRFunction(X=>(0.058552526**s1 - s2)*(m7 - s...  \n",
      "19  PySRFunction(X=>0.0841594**s1*((s6**0.35633504...  \n",
      "20  PySRFunction(X=>3.2222686 + (-m2 + 0.35986993*...  \n",
      "21  PySRFunction(X=>3.4232924 + (-m2 + 0.4036053*m...  \n",
      "22  PySRFunction(X=>3.4232924 + (-m2 + 0.4036053*m...  \n"
     ]
    }
   ],
   "source": [
    "print(results)\n",
    "# complexity 3, 5, 7, 9, 11, 14"
   ]
  },
  {
   "cell_type": "code",
   "execution_count": 9,
   "metadata": {},
   "outputs": [
    {
     "name": "stdout",
     "output_type": "stream",
     "text": [
      "31\n"
     ]
    }
   ],
   "source": [
    "labels = ['time', 'e+_near', 'e-_near', 'max_strength_mmr_near', 'e+_far', 'e-_far', 'max_strength_mmr_far', 'megno', 'a1', 'e1', 'i1', 'cos_Omega1', 'sin_Omega1', 'cos_pomega1', 'sin_pomega1', 'cos_theta1', 'sin_theta1', 'a2', 'e2', 'i2', 'cos_Omega2', 'sin_Omega2', 'cos_pomega2', 'sin_pomega2', 'cos_theta2', 'sin_theta2', 'a3', 'e3', 'i3', 'cos_Omega3', 'sin_Omega3', 'cos_pomega3', 'sin_pomega3', 'cos_theta3', 'sin_theta3', 'm1', 'm2', 'm3', 'nan_mmr_near', 'nan_mmr_far', 'nan_megno']\n",
    "\n",
    "# not all of these labels are actually used. for training, these inputs are zeroed out, but still passed in as zeroes.\n",
    "# ideally, the linear layer ignores them, which does happen if i do l1 regularization to it\n",
    "skipped = ['nan_mmr_near', 'nan_mmr_far', 'nan_megno', 'e+_near', 'e-_near', 'max_strength_mmr_near', 'e+_far', 'e-_far', 'max_strength_mmr_far', 'megno']\n",
    "\n",
    "print(len(labels) - len(skipped))"
   ]
  },
  {
   "cell_type": "code",
   "execution_count": 10,
   "metadata": {},
   "outputs": [],
   "source": [
    "# better_names = ['m_' + labels[i] for i in range(len(labels))] + ['s_' + labels[i] for i in range(len(labels))]"
   ]
  },
  {
   "cell_type": "code",
   "execution_count": 11,
   "metadata": {},
   "outputs": [],
   "source": [
    "# for each equation in reg.equations_[0]['equation'], find and replace 'm{i}' with 'm_{labels[i]', and 's{i}' with 's_{labels[i]}'\n",
    "# for eq_ix in range(len(results['equation'])):\n",
    "#     for i in range(len(labels)):\n",
    "#         results.at[eq_ix, 'equation'] = reg.equations_[0]['equation'][eq_ix].replace('m{}'.format(i), 'm_{}'.format(labels[i]))\n",
    "#         results.at[eq_ix, 'equation'] = reg.equations_[0]['equation'][eq_ix].replace('s{}'.format(i), 's_{}'.format(labels[i]))"
   ]
  },
  {
   "cell_type": "code",
   "execution_count": 12,
   "metadata": {},
   "outputs": [
    {
     "data": {
      "text/html": [
       "<div>\n",
       "<style scoped>\n",
       "    .dataframe tbody tr th:only-of-type {\n",
       "        vertical-align: middle;\n",
       "    }\n",
       "\n",
       "    .dataframe tbody tr th {\n",
       "        vertical-align: top;\n",
       "    }\n",
       "\n",
       "    .dataframe thead th {\n",
       "        text-align: right;\n",
       "    }\n",
       "</style>\n",
       "<table border=\"1\" class=\"dataframe\">\n",
       "  <thead>\n",
       "    <tr style=\"text-align: right;\">\n",
       "      <th></th>\n",
       "      <th>complexity</th>\n",
       "      <th>loss</th>\n",
       "      <th>score</th>\n",
       "      <th>equation</th>\n",
       "    </tr>\n",
       "  </thead>\n",
       "  <tbody>\n",
       "    <tr>\n",
       "      <th>0</th>\n",
       "      <td>1</td>\n",
       "      <td>5.653270</td>\n",
       "      <td>0.000000</td>\n",
       "      <td>7.0051637</td>\n",
       "    </tr>\n",
       "    <tr>\n",
       "      <th>1</th>\n",
       "      <td>3</td>\n",
       "      <td>4.978444</td>\n",
       "      <td>0.063558</td>\n",
       "      <td>(6.990491 - m2)</td>\n",
       "    </tr>\n",
       "    <tr>\n",
       "      <th>2</th>\n",
       "      <td>4</td>\n",
       "      <td>4.918939</td>\n",
       "      <td>0.012024</td>\n",
       "      <td>(7.1660094 - sin(m2))</td>\n",
       "    </tr>\n",
       "    <tr>\n",
       "      <th>3</th>\n",
       "      <td>5</td>\n",
       "      <td>4.030765</td>\n",
       "      <td>0.199137</td>\n",
       "      <td>((s4 ^ -0.15489304) * 3.6422653)</td>\n",
       "    </tr>\n",
       "    <tr>\n",
       "      <th>4</th>\n",
       "      <td>7</td>\n",
       "      <td>3.305422</td>\n",
       "      <td>0.099196</td>\n",
       "      <td>(((s4 ^ -0.15921338) * 3.5656016) - m2)</td>\n",
       "    </tr>\n",
       "    <tr>\n",
       "      <th>5</th>\n",
       "      <td>9</td>\n",
       "      <td>3.068312</td>\n",
       "      <td>0.037218</td>\n",
       "      <td>((((s4 * s1) ^ -0.15921338) + 3.5656016) - m2)</td>\n",
       "    </tr>\n",
       "    <tr>\n",
       "      <th>6</th>\n",
       "      <td>11</td>\n",
       "      <td>2.696698</td>\n",
       "      <td>0.064550</td>\n",
       "      <td>((((s4 ^ -0.30986544) - m2) * (0.14308752 ^ s1...</td>\n",
       "    </tr>\n",
       "    <tr>\n",
       "      <th>7</th>\n",
       "      <td>13</td>\n",
       "      <td>2.646566</td>\n",
       "      <td>0.009383</td>\n",
       "      <td>(((((s4 ^ -0.31699488) - s6) - m2) * (0.160041...</td>\n",
       "    </tr>\n",
       "    <tr>\n",
       "      <th>8</th>\n",
       "      <td>14</td>\n",
       "      <td>2.478105</td>\n",
       "      <td>0.065769</td>\n",
       "      <td>((((s4 ^ -0.32957777) - (sin(m2) - m7)) * (0.0...</td>\n",
       "    </tr>\n",
       "    <tr>\n",
       "      <th>9</th>\n",
       "      <td>15</td>\n",
       "      <td>2.464568</td>\n",
       "      <td>0.005478</td>\n",
       "      <td>((((s4 ^ -0.32764328) - ((m2 - m7) / 1.4952106...</td>\n",
       "    </tr>\n",
       "    <tr>\n",
       "      <th>10</th>\n",
       "      <td>16</td>\n",
       "      <td>2.448900</td>\n",
       "      <td>0.006378</td>\n",
       "      <td>((((s4 ^ -0.32957777) - (sin(m2) - m7)) * ((0....</td>\n",
       "    </tr>\n",
       "    <tr>\n",
       "      <th>11</th>\n",
       "      <td>17</td>\n",
       "      <td>2.405428</td>\n",
       "      <td>0.017911</td>\n",
       "      <td>((((s4 ^ -0.32764328) - ((m2 - (m7 - s6)) / 1....</td>\n",
       "    </tr>\n",
       "    <tr>\n",
       "      <th>12</th>\n",
       "      <td>18</td>\n",
       "      <td>2.297585</td>\n",
       "      <td>0.045869</td>\n",
       "      <td>((((((s4 * (s6 ^ 0.21691035)) ^ -0.3054036) + ...</td>\n",
       "    </tr>\n",
       "    <tr>\n",
       "      <th>13</th>\n",
       "      <td>19</td>\n",
       "      <td>2.297566</td>\n",
       "      <td>0.000008</td>\n",
       "      <td>((((((s4 * (s6 ^ 0.21691035)) ^ -0.3054036) + ...</td>\n",
       "    </tr>\n",
       "    <tr>\n",
       "      <th>14</th>\n",
       "      <td>20</td>\n",
       "      <td>2.237755</td>\n",
       "      <td>0.026377</td>\n",
       "      <td>((((((s4 * (s6 ^ 0.22899987)) ^ -0.3054036) + ...</td>\n",
       "    </tr>\n",
       "    <tr>\n",
       "      <th>15</th>\n",
       "      <td>22</td>\n",
       "      <td>2.189967</td>\n",
       "      <td>0.010793</td>\n",
       "      <td>(((((((s4 + s2) * (s6 ^ 0.35097006)) ^ -0.3096...</td>\n",
       "    </tr>\n",
       "    <tr>\n",
       "      <th>16</th>\n",
       "      <td>23</td>\n",
       "      <td>2.180057</td>\n",
       "      <td>0.004535</td>\n",
       "      <td>(((((((s4 + s2) * sin(s6 ^ 0.35097006)) ^ -0.3...</td>\n",
       "    </tr>\n",
       "    <tr>\n",
       "      <th>17</th>\n",
       "      <td>24</td>\n",
       "      <td>2.165426</td>\n",
       "      <td>0.006734</td>\n",
       "      <td>(((((((s4 + s2) * (s6 ^ 0.35097006)) ^ -0.3056...</td>\n",
       "    </tr>\n",
       "    <tr>\n",
       "      <th>18</th>\n",
       "      <td>25</td>\n",
       "      <td>2.153981</td>\n",
       "      <td>0.005300</td>\n",
       "      <td>(((((((s4 + s2) * sin(s6 ^ 0.35097006)) ^ -0.3...</td>\n",
       "    </tr>\n",
       "    <tr>\n",
       "      <th>19</th>\n",
       "      <td>26</td>\n",
       "      <td>2.146375</td>\n",
       "      <td>0.003537</td>\n",
       "      <td>(((((((s4 + s2) * (s6 ^ 0.35633504)) ^ -0.3054...</td>\n",
       "    </tr>\n",
       "    <tr>\n",
       "      <th>20</th>\n",
       "      <td>27</td>\n",
       "      <td>2.082803</td>\n",
       "      <td>0.030066</td>\n",
       "      <td>((((((s4 * (s6 ^ 0.14587918)) ^ -0.3054036) + ...</td>\n",
       "    </tr>\n",
       "    <tr>\n",
       "      <th>21</th>\n",
       "      <td>29</td>\n",
       "      <td>2.037085</td>\n",
       "      <td>0.011097</td>\n",
       "      <td>((((((s4 * (s6 ^ 0.16980937)) ^ -0.3054036) + ...</td>\n",
       "    </tr>\n",
       "    <tr>\n",
       "      <th>22</th>\n",
       "      <td>30</td>\n",
       "      <td>2.036510</td>\n",
       "      <td>0.000282</td>\n",
       "      <td>((((((s4 * (s6 ^ 0.16980937)) ^ -0.3054036) + ...</td>\n",
       "    </tr>\n",
       "  </tbody>\n",
       "</table>\n",
       "</div>"
      ],
      "text/plain": [
       "    complexity      loss     score  \\\n",
       "0            1  5.653270  0.000000   \n",
       "1            3  4.978444  0.063558   \n",
       "2            4  4.918939  0.012024   \n",
       "3            5  4.030765  0.199137   \n",
       "4            7  3.305422  0.099196   \n",
       "5            9  3.068312  0.037218   \n",
       "6           11  2.696698  0.064550   \n",
       "7           13  2.646566  0.009383   \n",
       "8           14  2.478105  0.065769   \n",
       "9           15  2.464568  0.005478   \n",
       "10          16  2.448900  0.006378   \n",
       "11          17  2.405428  0.017911   \n",
       "12          18  2.297585  0.045869   \n",
       "13          19  2.297566  0.000008   \n",
       "14          20  2.237755  0.026377   \n",
       "15          22  2.189967  0.010793   \n",
       "16          23  2.180057  0.004535   \n",
       "17          24  2.165426  0.006734   \n",
       "18          25  2.153981  0.005300   \n",
       "19          26  2.146375  0.003537   \n",
       "20          27  2.082803  0.030066   \n",
       "21          29  2.037085  0.011097   \n",
       "22          30  2.036510  0.000282   \n",
       "\n",
       "                                             equation  \n",
       "0                                           7.0051637  \n",
       "1                                     (6.990491 - m2)  \n",
       "2                               (7.1660094 - sin(m2))  \n",
       "3                    ((s4 ^ -0.15489304) * 3.6422653)  \n",
       "4             (((s4 ^ -0.15921338) * 3.5656016) - m2)  \n",
       "5      ((((s4 * s1) ^ -0.15921338) + 3.5656016) - m2)  \n",
       "6   ((((s4 ^ -0.30986544) - m2) * (0.14308752 ^ s1...  \n",
       "7   (((((s4 ^ -0.31699488) - s6) - m2) * (0.160041...  \n",
       "8   ((((s4 ^ -0.32957777) - (sin(m2) - m7)) * (0.0...  \n",
       "9   ((((s4 ^ -0.32764328) - ((m2 - m7) / 1.4952106...  \n",
       "10  ((((s4 ^ -0.32957777) - (sin(m2) - m7)) * ((0....  \n",
       "11  ((((s4 ^ -0.32764328) - ((m2 - (m7 - s6)) / 1....  \n",
       "12  ((((((s4 * (s6 ^ 0.21691035)) ^ -0.3054036) + ...  \n",
       "13  ((((((s4 * (s6 ^ 0.21691035)) ^ -0.3054036) + ...  \n",
       "14  ((((((s4 * (s6 ^ 0.22899987)) ^ -0.3054036) + ...  \n",
       "15  (((((((s4 + s2) * (s6 ^ 0.35097006)) ^ -0.3096...  \n",
       "16  (((((((s4 + s2) * sin(s6 ^ 0.35097006)) ^ -0.3...  \n",
       "17  (((((((s4 + s2) * (s6 ^ 0.35097006)) ^ -0.3056...  \n",
       "18  (((((((s4 + s2) * sin(s6 ^ 0.35097006)) ^ -0.3...  \n",
       "19  (((((((s4 + s2) * (s6 ^ 0.35633504)) ^ -0.3054...  \n",
       "20  ((((((s4 * (s6 ^ 0.14587918)) ^ -0.3054036) + ...  \n",
       "21  ((((((s4 * (s6 ^ 0.16980937)) ^ -0.3054036) + ...  \n",
       "22  ((((((s4 * (s6 ^ 0.16980937)) ^ -0.3054036) + ...  "
      ]
     },
     "execution_count": 12,
     "metadata": {},
     "output_type": "execute_result"
    }
   ],
   "source": [
    "# dont print columns 'sympy_format' and 'lambda_format'\n",
    "results.drop(columns=['sympy_format', 'lambda_format'])"
   ]
  },
  {
   "cell_type": "code",
   "execution_count": 13,
   "metadata": {},
   "outputs": [
    {
     "name": "stdout",
     "output_type": "stream",
     "text": [
      "0 7.0051637\n",
      "1 (6.990491 - m2)\n",
      "2 (7.1660094 - sin(m2))\n",
      "3 ((s4 ^ -0.15489304) * 3.6422653)\n",
      "4 (((s4 ^ -0.15921338) * 3.5656016) - m2)\n",
      "5 ((((s4 * s1) ^ -0.15921338) + 3.5656016) - m2)\n",
      "6 ((((s4 ^ -0.30986544) - m2) * (0.14308752 ^ s1)) + 3.6591659)\n",
      "7 (((((s4 ^ -0.31699488) - s6) - m2) * (0.16004194 ^ s1)) + 3.6591659)\n",
      "8 ((((s4 ^ -0.32957777) - (sin(m2) - m7)) * (0.058552526 ^ s1)) + 3.6591659)\n",
      "9 ((((s4 ^ -0.32764328) - ((m2 - m7) / 1.4952106)) * (0.08607817 ^ s1)) + 3.5478935)\n",
      "10 ((((s4 ^ -0.32957777) - (sin(m2) - m7)) * ((0.058552526 ^ s1) - s2)) + 3.6591659)\n",
      "11 ((((s4 ^ -0.32764328) - ((m2 - (m7 - s6)) / 1.4952106)) * (0.0841594 ^ s1)) + 3.6591659)\n",
      "12 ((((((s4 * (s6 ^ 0.21691035)) ^ -0.3054036) + m7) - sin(m2)) * (0.058552526 ^ s1)) + 3.5478935)\n",
      "13 ((((((s4 * (s6 ^ 0.21691035)) ^ -0.3054036) + m7) - sin(m2)) * (sin(0.058552526) ^ s1)) + 3.5478935)\n",
      "14 ((((((s4 * (s6 ^ 0.22899987)) ^ -0.3054036) + (m7 - s8)) - sin(m2)) * (0.058552526 ^ s1)) + 3.6591659)\n",
      "15 (((((((s4 + s2) * (s6 ^ 0.35097006)) ^ -0.30961734) + (m7 - s8)) - sin(m2)) * (0.06687981 ^ s1)) + 3.6591659)\n",
      "16 (((((((s4 + s2) * sin(s6 ^ 0.35097006)) ^ -0.30961734) + (m7 - s8)) - sin(m2)) * (0.058552526 ^ s1)) + 3.6591659)\n",
      "17 (((((((s4 + s2) * (s6 ^ 0.35097006)) ^ -0.30567822) + ((m7 - s8) * 0.81584936)) - sin(m2)) * (0.08607817 ^ s1)) + 3.6591659)\n",
      "18 (((((((s4 + s2) * sin(s6 ^ 0.35097006)) ^ -0.30961734) + (m7 - s8)) - sin(m2)) * ((0.058552526 ^ s1) - s2)) + 3.6591659)\n",
      "19 (((((((s4 + s2) * (s6 ^ 0.35633504)) ^ -0.3054036) + ((m7 - s8) / (1.2004135 ^ m1))) - sin(m2)) * (0.0841594 ^ s1)) + 3.6591659)\n",
      "20 ((((((s4 * (s6 ^ 0.14587918)) ^ -0.3054036) + (0.35986993 * (m7 - m8))) - m2) / (((1.1425459 ^ m4) ^ 0.19561313) + (s1 + s4))) + 3.2222686)\n",
      "21 ((((((s4 * (s6 ^ 0.16980937)) ^ -0.3054036) + (0.4036053 * (m7 - m8))) - m2) / (((1.1425459 ^ m4) ^ 0.19219232) + ((s1 + s4) / 0.46490234))) + 3.4232924)\n",
      "22 ((((((s4 * (s6 ^ 0.16980937)) ^ -0.3054036) + (0.4036053 * (m7 - m8))) - m2) / (((sin(1.1425459) ^ m4) ^ -0.20731291) + ((s1 + s4) / 0.46490234))) + 3.4232924)\n"
     ]
    }
   ],
   "source": [
    "for i in range(len(results)):\n",
    "    print(i, results['equation'][i])"
   ]
  },
  {
   "cell_type": "code",
   "execution_count": 18,
   "metadata": {},
   "outputs": [
    {
     "ename": "AttributeError",
     "evalue": "'DataFrame' object has no attribute 'latex'",
     "output_type": "error",
     "traceback": [
      "\u001b[0;31m---------------------------------------------------------------------------\u001b[0m",
      "\u001b[0;31mAttributeError\u001b[0m                            Traceback (most recent call last)",
      "Cell \u001b[0;32mIn[18], line 1\u001b[0m\n\u001b[0;32m----> 1\u001b[0m \u001b[43mresults\u001b[49m\u001b[38;5;241;43m.\u001b[39;49m\u001b[43mlatex\u001b[49m()\n",
      "File \u001b[0;32m~/mambaforge/lib/python3.10/site-packages/pandas/core/generic.py:5902\u001b[0m, in \u001b[0;36mNDFrame.__getattr__\u001b[0;34m(self, name)\u001b[0m\n\u001b[1;32m   5895\u001b[0m \u001b[38;5;28;01mif\u001b[39;00m (\n\u001b[1;32m   5896\u001b[0m     name \u001b[38;5;129;01mnot\u001b[39;00m \u001b[38;5;129;01min\u001b[39;00m \u001b[38;5;28mself\u001b[39m\u001b[38;5;241m.\u001b[39m_internal_names_set\n\u001b[1;32m   5897\u001b[0m     \u001b[38;5;129;01mand\u001b[39;00m name \u001b[38;5;129;01mnot\u001b[39;00m \u001b[38;5;129;01min\u001b[39;00m \u001b[38;5;28mself\u001b[39m\u001b[38;5;241m.\u001b[39m_metadata\n\u001b[1;32m   5898\u001b[0m     \u001b[38;5;129;01mand\u001b[39;00m name \u001b[38;5;129;01mnot\u001b[39;00m \u001b[38;5;129;01min\u001b[39;00m \u001b[38;5;28mself\u001b[39m\u001b[38;5;241m.\u001b[39m_accessors\n\u001b[1;32m   5899\u001b[0m     \u001b[38;5;129;01mand\u001b[39;00m \u001b[38;5;28mself\u001b[39m\u001b[38;5;241m.\u001b[39m_info_axis\u001b[38;5;241m.\u001b[39m_can_hold_identifiers_and_holds_name(name)\n\u001b[1;32m   5900\u001b[0m ):\n\u001b[1;32m   5901\u001b[0m     \u001b[38;5;28;01mreturn\u001b[39;00m \u001b[38;5;28mself\u001b[39m[name]\n\u001b[0;32m-> 5902\u001b[0m \u001b[38;5;28;01mreturn\u001b[39;00m \u001b[38;5;28;43mobject\u001b[39;49m\u001b[38;5;241;43m.\u001b[39;49m\u001b[38;5;21;43m__getattribute__\u001b[39;49m\u001b[43m(\u001b[49m\u001b[38;5;28;43mself\u001b[39;49m\u001b[43m,\u001b[49m\u001b[43m \u001b[49m\u001b[43mname\u001b[49m\u001b[43m)\u001b[49m\n",
      "\u001b[0;31mAttributeError\u001b[0m: 'DataFrame' object has no attribute 'latex'"
     ]
    }
   ],
   "source": []
  },
  {
   "cell_type": "code",
   "execution_count": 29,
   "metadata": {},
   "outputs": [
    {
     "ename": "SyntaxError",
     "evalue": "closing parenthesis ')' does not match opening parenthesis '[' (1264618757.py, line 1)",
     "output_type": "error",
     "traceback": [
      "\u001b[0;36m  Cell \u001b[0;32mIn[29], line 1\u001b[0;36m\u001b[0m\n\u001b[0;31m    print(reg.latex_table(precision=2, indices=[[1, 3, 5, 7, 9, 11, 13, 14, 18, 20, 27, 29], [ 1, 3, 5, 7, 9, 11, 13, 14, 18, 20, 27, 29], columns=['equation', 'complexity', 'loss']))\u001b[0m\n\u001b[0m                                                                                                                                                                                     ^\u001b[0m\n\u001b[0;31mSyntaxError\u001b[0m\u001b[0;31m:\u001b[0m closing parenthesis ')' does not match opening parenthesis '['\n"
     ]
    }
   ],
   "source": [
    "print(reg.latex_table(precision=2, indices=[[1, 3, 5, 7, 9, 11, 13, 14, 18, 20, 27, 29], [ 1, 3, 5, 7, 9, 11, 13, 14, 18, 20, 27, 29], columns=['equation', 'complexity', 'loss']))"
   ]
  },
  {
   "cell_type": "code",
   "execution_count": 23,
   "metadata": {},
   "outputs": [
    {
     "data": {
      "text/plain": [
       "array(['m0', 'm1', 'm2', 'm3', 'm4', 'm5', 'm6', 'm7', 'm8', 'm9', 's0',\n",
       "       's1', 's2', 's3', 's4', 's5', 's6', 's7', 's8', 's9'], dtype=object)"
      ]
     },
     "execution_count": 23,
     "metadata": {},
     "output_type": "execute_result"
    }
   ],
   "source": [
    "def fix_feature_name(s):\n",
    "    # replace m with \\mu and s with \\sigma"
   ]
  },
  {
   "cell_type": "code",
   "execution_count": null,
   "metadata": {},
   "outputs": [],
   "source": []
  }
 ],
 "metadata": {
  "kernelspec": {
   "display_name": "base",
   "language": "python",
   "name": "python3"
  },
  "language_info": {
   "codemirror_mode": {
    "name": "ipython",
    "version": 3
   },
   "file_extension": ".py",
   "mimetype": "text/x-python",
   "name": "python",
   "nbconvert_exporter": "python",
   "pygments_lexer": "ipython3",
   "version": "3.10.8"
  }
 },
 "nbformat": 4,
 "nbformat_minor": 2
}
