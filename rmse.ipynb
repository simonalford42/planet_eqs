{
 "cells": [
  {
   "cell_type": "code",
   "execution_count": null,
   "id": "d48911ff",
   "metadata": {},
   "outputs": [],
   "source": [
    "import pickle\n",
    "def load_pickle(filename):\n",
    "    with open(filename, 'rb') as f:\n",
    "        data = pickle.load(f)\n",
    "    return data"
   ]
  },
  {
   "cell_type": "code",
   "execution_count": 2,
   "id": "3baa9534",
   "metadata": {},
   "outputs": [
    {
     "data": {
      "text/plain": [
       "{'val': 1.1084707631448325,\n",
       " 'test': 1.1241460314063996,\n",
       " 'random': 1.2611143950047545}"
      ]
     },
     "execution_count": 2,
     "metadata": {},
     "output_type": "execute_result"
    }
   ],
   "source": [
    "load_pickle('pickles/nn_results_all_24880.pkl')"
   ]
  },
  {
   "cell_type": "code",
   "execution_count": null,
   "id": "02b878fe",
   "metadata": {},
   "outputs": [],
   "source": [
    "files_str = '''\n",
    "petit_results_all.pkl\n",
    "\n",
    "nn_results_all_10970.pkl\n",
    "nn_results_all_12318.pkl\n",
    "nn_results_all_24880.pkl\n",
    "nn_results_all_4590.pkl\n",
    "nn_results_all_86952.pkl\n",
    "\n",
    "pysr_results_all_28114_23758.pkl\n",
    "pysr_results_all_28114_9054.pkl\n",
    "\n",
    "pure_sr_results_all_72420.pkl\n",
    "pure_sr_results_all_83941.pkl\n",
    "\n",
    "pysr_results_all_4590_40403.pkl\n",
    "pysr_results_all_86952_55106.pkl\n",
    "pysr_results_all_4590_65599.pkl\n",
    "pysr_results_all_86952_66953.pkl\n",
    "\n",
    "pysr_results_all_12318_22271.pkl\n",
    "pysr_results_all_12318_86055.pkl\n",
    "pysr_results_all_10970_4929.pkl\n",
    "pysr_results_all_10970_39675.pkl\n",
    "\n",
    "pysr_results_all_24880_11003.pkl\n",
    "pysr_results_all_24880_79364.pkl\n",
    "pysr_results_all_24880_93102.pkl\n",
    "'''"
   ]
  },
  {
   "cell_type": "code",
   "execution_count": 4,
   "id": "e9b9259f",
   "metadata": {},
   "outputs": [],
   "source": [
    "def best_result(all_results):\n",
    "    # find complexity that gives best val loss\n",
    "    # then give the test loss for that complexity\n",
    "    # return (complexity, val loss, test loss)\n",
    "    complexity, val_loss = min(all_results['val'].items(), key=lambda e: e[1])\n",
    "    test_loss = all_results['test'][complexity]\n",
    "    random_loss = all_results['random'][complexity]\n",
    "    print(f'c{complexity}, val: {val_loss:.2f}, test: {test_loss:.2f}, random: {random_loss:.2f}')\n",
    "    return complexity, val_loss, test_loss, random_loss"
   ]
  },
  {
   "cell_type": "code",
   "execution_count": 5,
   "id": "23d013f6",
   "metadata": {},
   "outputs": [],
   "source": [
    "def print_nn(nn_result):\n",
    "    print(f'val: {nn_result[\"val\"]:.2f}, test: {nn_result[\"test\"]:.2f}, random: {nn_result[\"random\"]:.2f}')"
   ]
  },
  {
   "cell_type": "code",
   "execution_count": 6,
   "id": "421397cc",
   "metadata": {},
   "outputs": [
    {
     "name": "stdout",
     "output_type": "stream",
     "text": [
      "NN 10970: val: 1.02, test: 1.04, random: 1.16\n",
      "NN 12318: val: 0.93, test: 0.96, random: 1.06\n",
      "NN 24880: val: 1.11, test: 1.12, random: 1.26\n",
      "NN 4590: val: 0.99, test: 1.02, random: 1.12\n",
      "NN 86952: val: 1.07, test: 1.08, random: 1.18\n"
     ]
    }
   ],
   "source": [
    "for version in 10970, 12318, 24880, 4590, 86952:\n",
    "    nn_result = load_pickle(f'pickles/nn_results_all_{version}.pkl')\n",
    "    print(f'NN {version}: ', end='')\n",
    "    print_nn(nn_result)"
   ]
  },
  {
   "cell_type": "code",
   "execution_count": 12,
   "id": "ea77ec5e",
   "metadata": {},
   "outputs": [
    {
     "name": "stdout",
     "output_type": "stream",
     "text": [
      "val: 3.14, test: 3.15, random: 3.01\n"
     ]
    }
   ],
   "source": [
    "petit = load_pickle('pickles/petit_results_all.pkl')\n",
    "print_nn(petit)"
   ]
  },
  {
   "cell_type": "code",
   "execution_count": 12,
   "id": "80a0e414",
   "metadata": {},
   "outputs": [
    {
     "name": "stdout",
     "output_type": "stream",
     "text": [
      "pure_sr_results_all_72420.pkl\n",
      "c50, val: 1.37, test: 1.37, random: 1.40\n",
      "pure_sr_results_all_83941.pkl\n",
      "c40, val: 1.36, test: 1.36, random: 1.40\n",
      "pysr_results_all_4590_40403.pkl\n",
      "c19, val: 1.20, test: 1.19, random: 1.22\n",
      "pysr_results_all_86952_55106.pkl\n",
      "Error processing pysr_results_all_86952_55106.pkl: Unknown format code 'f' for object of type 'str'\n",
      "pysr_results_all_4590_65599.pkl\n",
      "c27, val: 1.19, test: 1.19, random: 1.24\n",
      "pysr_results_all_86952_66953.pkl\n",
      "c27, val: 1.21, test: 1.20, random: 1.26\n",
      "pysr_results_all_12318_22271.pkl\n",
      "c29, val: 1.18, test: 1.18, random: 1.26\n",
      "pysr_results_all_12318_86055.pkl\n",
      "c27, val: 1.18, test: 1.19, random: 1.29\n",
      "pysr_results_all_10970_4929.pkl\n",
      "Error processing pysr_results_all_10970_4929.pkl: [Errno 2] No such file or directory: 'pickles/pysr_results_all_10970_4929.pkl'\n",
      "pysr_results_all_10970_39675.pkl\n",
      "c27, val: 1.17, test: 1.17, random: 1.25\n",
      "pysr_results_all_24880_11003.pkl\n",
      "c26, val: 1.34, test: 1.34, random: 1.42\n",
      "pysr_results_all_24880_79364.pkl\n",
      "c25, val: 1.19, test: 1.19, random: 1.29\n",
      "pysr_results_all_24880_93102.pkl\n",
      "c29, val: 1.15, test: 1.15, random: 1.23\n"
     ]
    }
   ],
   "source": [
    "for filename in files_str.split():\n",
    "    if not filename: continue\n",
    "    if 'pysr' not in filename and 'pure_sr' not in filename: continue\n",
    "    try:\n",
    "        print(filename)\n",
    "        data = load_pickle('pickles/' + filename)\n",
    "        best_result(data)\n",
    "    except Exception as e:\n",
    "        print(f'Error processing {filename}: {e}')"
   ]
  },
  {
   "cell_type": "code",
   "execution_count": null,
   "id": "902af996",
   "metadata": {},
   "outputs": [],
   "source": []
  },
  {
   "cell_type": "code",
   "execution_count": 2,
   "id": "6864f442",
   "metadata": {},
   "outputs": [
    {
     "ename": "FileNotFoundError",
     "evalue": "[Errno 2] No such file or directory: 'pickles/pysr_results_all_28114_23758.pkl'",
     "output_type": "error",
     "traceback": [
      "\u001b[0;31m---------------------------------------------------------------------------\u001b[0m",
      "\u001b[0;31mFileNotFoundError\u001b[0m                         Traceback (most recent call last)",
      "\u001b[0;32m/tmp/ipykernel_952405/2953712777.py\u001b[0m in \u001b[0;36m<module>\u001b[0;34m\u001b[0m\n\u001b[1;32m      2\u001b[0m \u001b[0mnn22\u001b[0m \u001b[0;34m=\u001b[0m \u001b[0mload_pickle\u001b[0m\u001b[0;34m(\u001b[0m\u001b[0;34m'pickles/nn_results_all_4590.pkl'\u001b[0m\u001b[0;34m)\u001b[0m\u001b[0;34m\u001b[0m\u001b[0;34m\u001b[0m\u001b[0m\n\u001b[1;32m      3\u001b[0m \u001b[0;34m\u001b[0m\u001b[0m\n\u001b[0;32m----> 4\u001b[0;31m \u001b[0mpysr\u001b[0m \u001b[0;34m=\u001b[0m \u001b[0mload_pickle\u001b[0m\u001b[0;34m(\u001b[0m\u001b[0;34m'pickles/pysr_results_all_28114_23758.pkl'\u001b[0m\u001b[0;34m)\u001b[0m\u001b[0;34m\u001b[0m\u001b[0;34m\u001b[0m\u001b[0m\n\u001b[0m\u001b[1;32m      5\u001b[0m \u001b[0;31m# pure_sr = load_pickle('pickles/pure_sr_results_all_73375.pkl')\u001b[0m\u001b[0;34m\u001b[0m\u001b[0;34m\u001b[0m\u001b[0;34m\u001b[0m\u001b[0m\n\u001b[1;32m      6\u001b[0m \u001b[0;31m# petit = load_pickle('pickles/petit_results_all.pkl')\u001b[0m\u001b[0;34m\u001b[0m\u001b[0;34m\u001b[0m\u001b[0;34m\u001b[0m\u001b[0m\n",
      "\u001b[0;32m/tmp/ipykernel_952405/1563652830.py\u001b[0m in \u001b[0;36mload_pickle\u001b[0;34m(filename)\u001b[0m\n\u001b[1;32m      1\u001b[0m \u001b[0;32mimport\u001b[0m \u001b[0mpickle\u001b[0m\u001b[0;34m\u001b[0m\u001b[0;34m\u001b[0m\u001b[0m\n\u001b[1;32m      2\u001b[0m \u001b[0;32mdef\u001b[0m \u001b[0mload_pickle\u001b[0m\u001b[0;34m(\u001b[0m\u001b[0mfilename\u001b[0m\u001b[0;34m)\u001b[0m\u001b[0;34m:\u001b[0m\u001b[0;34m\u001b[0m\u001b[0;34m\u001b[0m\u001b[0m\n\u001b[0;32m----> 3\u001b[0;31m     \u001b[0;32mwith\u001b[0m \u001b[0mopen\u001b[0m\u001b[0;34m(\u001b[0m\u001b[0mfilename\u001b[0m\u001b[0;34m,\u001b[0m \u001b[0;34m'rb'\u001b[0m\u001b[0;34m)\u001b[0m \u001b[0;32mas\u001b[0m \u001b[0mf\u001b[0m\u001b[0;34m:\u001b[0m\u001b[0;34m\u001b[0m\u001b[0;34m\u001b[0m\u001b[0m\n\u001b[0m\u001b[1;32m      4\u001b[0m         \u001b[0mdata\u001b[0m \u001b[0;34m=\u001b[0m \u001b[0mpickle\u001b[0m\u001b[0;34m.\u001b[0m\u001b[0mload\u001b[0m\u001b[0;34m(\u001b[0m\u001b[0mf\u001b[0m\u001b[0;34m)\u001b[0m\u001b[0;34m\u001b[0m\u001b[0;34m\u001b[0m\u001b[0m\n\u001b[1;32m      5\u001b[0m     \u001b[0;32mreturn\u001b[0m \u001b[0mdata\u001b[0m\u001b[0;34m\u001b[0m\u001b[0;34m\u001b[0m\u001b[0m\n",
      "\u001b[0;31mFileNotFoundError\u001b[0m: [Errno 2] No such file or directory: 'pickles/pysr_results_all_28114_23758.pkl'"
     ]
    }
   ],
   "source": [
    "nn = load_pickle('pickles/nn_results_all_24880.pkl')\n",
    "nn22 = load_pickle('pickles/nn_results_all_4590.pkl')\n",
    "\n",
    "pysr = load_pickle('pickles/pysr_results_all_28114_23758.pkl')\n",
    "# pure_sr = load_pickle('pickles/pure_sr_results_all_73375.pkl')\n",
    "# petit = load_pickle('pickles/petit_results_all.pkl')\n",
    "# f1_id = load_pickle('pickles/f1_identity_results_all_28114_9054.pkl')\n",
    "\n"
   ]
  },
  {
   "cell_type": "code",
   "execution_count": null,
   "id": "eaf112da",
   "metadata": {},
   "outputs": [],
   "source": []
  },
  {
   "cell_type": "code",
   "execution_count": 7,
   "id": "c25439d2",
   "metadata": {},
   "outputs": [
    {
     "data": {
      "text/plain": [
       "{'val': 0.993252280489274,\n",
       " 'test': 1.018670899298331,\n",
       " 'random': 1.1233681923997563}"
      ]
     },
     "execution_count": 7,
     "metadata": {},
     "output_type": "execute_result"
    }
   ],
   "source": [
    "nn22"
   ]
  },
  {
   "cell_type": "code",
   "execution_count": 5,
   "id": "29c1d6ad",
   "metadata": {},
   "outputs": [
    {
     "data": {
      "text/plain": [
       "{'val': {1: 1.5045778038467699,\n",
       "  3: 1.4880879594534022,\n",
       "  5: 1.3115002593877538,\n",
       "  7: 1.2889187356947824,\n",
       "  9: 1.2716280479533368,\n",
       "  11: 1.248740038063553,\n",
       "  13: 1.252989864911177,\n",
       "  15: 1.24154003231479,\n",
       "  17: 1.2826293405671856,\n",
       "  19: 1.2765312293715545,\n",
       "  21: 1.1994930289170476,\n",
       "  23: 1.1974640972672541,\n",
       "  25: 1.1885096123017391,\n",
       "  27: 1.202038013831452,\n",
       "  29: 1.1921972431869643},\n",
       " 'test': {1: 1.5094327769466012,\n",
       "  3: 1.4924814623730989,\n",
       "  5: 1.304921431898503,\n",
       "  7: 1.287867923128059,\n",
       "  9: 1.279893436093819,\n",
       "  11: 1.2485809854831926,\n",
       "  13: 1.2621784612790539,\n",
       "  15: 1.2456426491566064,\n",
       "  17: 1.2789267434055258,\n",
       "  19: 1.2733056403855225,\n",
       "  21: 1.2053636308525706,\n",
       "  23: 1.2030278946963284,\n",
       "  25: 1.1938374212719502,\n",
       "  27: 1.2057178351224775,\n",
       "  29: 1.1993770929728778},\n",
       " 'random': {1: 1.4841314015526337,\n",
       "  3: 1.4616022076778517,\n",
       "  5: 1.2847698523595985,\n",
       "  7: 1.284003160766918,\n",
       "  9: 1.4018132473477907,\n",
       "  11: 1.3780991134461331,\n",
       "  13: 1.3963161980791852,\n",
       "  15: 1.457761688818834,\n",
       "  17: 1.4735322567839622,\n",
       "  19: 1.4668198747520609,\n",
       "  21: 1.2926209780153968,\n",
       "  23: 1.2890065961333104,\n",
       "  25: 1.2855907042087165,\n",
       "  27: 1.316635202482571,\n",
       "  29: 1.3014967957910406}}"
      ]
     },
     "execution_count": 5,
     "metadata": {},
     "output_type": "execute_result"
    }
   ],
   "source": [
    "pysr"
   ]
  },
  {
   "cell_type": "code",
   "execution_count": 4,
   "id": "e21449aa",
   "metadata": {},
   "outputs": [],
   "source": [
    "pure = load_pickle('pickles/pure_sr_results_all_83941.pkl')"
   ]
  },
  {
   "cell_type": "code",
   "execution_count": 5,
   "id": "c1e7a022",
   "metadata": {},
   "outputs": [
    {
     "data": {
      "text/plain": [
       "{'train': {1: \"Namespace(dataset='train', eval_type='pure_sr', pysr_model_selection=1, pysr_version=83941, version=None)\",\n",
       "  3: \"Namespace(dataset='train', eval_type='pure_sr', pysr_model_selection=3, pysr_version=83941, version=None)\",\n",
       "  4: \"Namespace(dataset='train', eval_type='pure_sr', pysr_model_selection=4, pysr_version=83941, version=None)\",\n",
       "  5: \"Namespace(dataset='train', eval_type='pure_sr', pysr_model_selection=5, pysr_version=83941, version=None)\",\n",
       "  7: \"Namespace(dataset='train', eval_type='pure_sr', pysr_model_selection=7, pysr_version=83941, version=None)\",\n",
       "  9: \"Namespace(dataset='train', eval_type='pure_sr', pysr_model_selection=9, pysr_version=83941, version=None)\",\n",
       "  12: \"Namespace(dataset='train', eval_type='pure_sr', pysr_model_selection=12, pysr_version=83941, version=None)\",\n",
       "  27: \"Namespace(dataset='train', eval_type='pure_sr', pysr_model_selection=27, pysr_version=83941, version=None)\",\n",
       "  37: \"Namespace(dataset='train', eval_type='pure_sr', pysr_model_selection=37, pysr_version=83941, version=None)\",\n",
       "  40: \"Namespace(dataset='train', eval_type='pure_sr', pysr_model_selection=40, pysr_version=83941, version=None)\",\n",
       "  48: \"Namespace(dataset='train', eval_type='pure_sr', pysr_model_selection=48, pysr_version=83941, version=None)\"},\n",
       " 'val': {1: \"Namespace(dataset='val', eval_type='pure_sr', pysr_model_selection=1, pysr_version=83941, version=None)\",\n",
       "  3: \"Namespace(dataset='val', eval_type='pure_sr', pysr_model_selection=3, pysr_version=83941, version=None)\",\n",
       "  4: \"Namespace(dataset='val', eval_type='pure_sr', pysr_model_selection=4, pysr_version=83941, version=None)\",\n",
       "  5: \"Namespace(dataset='val', eval_type='pure_sr', pysr_model_selection=5, pysr_version=83941, version=None)\",\n",
       "  7: \"Namespace(dataset='val', eval_type='pure_sr', pysr_model_selection=7, pysr_version=83941, version=None)\",\n",
       "  9: \"Namespace(dataset='val', eval_type='pure_sr', pysr_model_selection=9, pysr_version=83941, version=None)\",\n",
       "  12: \"Namespace(dataset='val', eval_type='pure_sr', pysr_model_selection=12, pysr_version=83941, version=None)\",\n",
       "  27: \"Namespace(dataset='val', eval_type='pure_sr', pysr_model_selection=27, pysr_version=83941, version=None)\",\n",
       "  37: \"Namespace(dataset='val', eval_type='pure_sr', pysr_model_selection=37, pysr_version=83941, version=None)\",\n",
       "  40: \"Namespace(dataset='val', eval_type='pure_sr', pysr_model_selection=40, pysr_version=83941, version=None)\",\n",
       "  48: \"Namespace(dataset='val', eval_type='pure_sr', pysr_model_selection=48, pysr_version=83941, version=None)\"},\n",
       " 'test': {1: \"Namespace(dataset='test', eval_type='pure_sr', pysr_model_selection=1, pysr_version=83941, version=None)\",\n",
       "  3: \"Namespace(dataset='test', eval_type='pure_sr', pysr_model_selection=3, pysr_version=83941, version=None)\",\n",
       "  4: \"Namespace(dataset='test', eval_type='pure_sr', pysr_model_selection=4, pysr_version=83941, version=None)\",\n",
       "  5: \"Namespace(dataset='test', eval_type='pure_sr', pysr_model_selection=5, pysr_version=83941, version=None)\",\n",
       "  7: \"Namespace(dataset='test', eval_type='pure_sr', pysr_model_selection=7, pysr_version=83941, version=None)\",\n",
       "  9: \"Namespace(dataset='test', eval_type='pure_sr', pysr_model_selection=9, pysr_version=83941, version=None)\",\n",
       "  12: \"Namespace(dataset='test', eval_type='pure_sr', pysr_model_selection=12, pysr_version=83941, version=None)\",\n",
       "  27: \"Namespace(dataset='test', eval_type='pure_sr', pysr_model_selection=27, pysr_version=83941, version=None)\",\n",
       "  37: \"Namespace(dataset='test', eval_type='pure_sr', pysr_model_selection=37, pysr_version=83941, version=None)\",\n",
       "  40: \"Namespace(dataset='test', eval_type='pure_sr', pysr_model_selection=40, pysr_version=83941, version=None)\",\n",
       "  48: \"Namespace(dataset='test', eval_type='pure_sr', pysr_model_selection=48, pysr_version=83941, version=None)\"},\n",
       " 'random': {1: \"Namespace(dataset='random', eval_type='pure_sr', pysr_model_selection=1, pysr_version=83941, version=None)\",\n",
       "  3: \"Namespace(dataset='random', eval_type='pure_sr', pysr_model_selection=3, pysr_version=83941, version=None)\",\n",
       "  4: \"Namespace(dataset='random', eval_type='pure_sr', pysr_model_selection=4, pysr_version=83941, version=None)\",\n",
       "  5: \"Namespace(dataset='random', eval_type='pure_sr', pysr_model_selection=5, pysr_version=83941, version=None)\",\n",
       "  7: \"Namespace(dataset='random', eval_type='pure_sr', pysr_model_selection=7, pysr_version=83941, version=None)\",\n",
       "  9: \"Namespace(dataset='random', eval_type='pure_sr', pysr_model_selection=9, pysr_version=83941, version=None)\",\n",
       "  12: \"Namespace(dataset='random', eval_type='pure_sr', pysr_model_selection=12, pysr_version=83941, version=None)\",\n",
       "  27: \"Namespace(dataset='random', eval_type='pure_sr', pysr_model_selection=27, pysr_version=83941, version=None)\",\n",
       "  37: \"Namespace(dataset='random', eval_type='pure_sr', pysr_model_selection=37, pysr_version=83941, version=None)\",\n",
       "  40: \"Namespace(dataset='random', eval_type='pure_sr', pysr_model_selection=40, pysr_version=83941, version=None)\",\n",
       "  48: \"Namespace(dataset='random', eval_type='pure_sr', pysr_model_selection=48, pysr_version=83941, version=None)\"}}"
      ]
     },
     "execution_count": 5,
     "metadata": {},
     "output_type": "execute_result"
    }
   ],
   "source": [
    "pure"
   ]
  },
  {
   "cell_type": "code",
   "execution_count": 1,
   "id": "592824cf",
   "metadata": {},
   "outputs": [],
   "source": [
    "from calc_rmse import get_dataloader"
   ]
  },
  {
   "cell_type": "code",
   "execution_count": 2,
   "id": "780c02bb",
   "metadata": {},
   "outputs": [
    {
     "name": "stdout",
     "output_type": "stream",
     "text": [
      "17082\n",
      "17082\n"
     ]
    }
   ],
   "source": [
    "for split in ['random']:\n",
    "    for petit in [True, False]:\n",
    "        dl = get_dataloader(split, petit)\n",
    "        print(len(dl.dataset))"
   ]
  },
  {
   "cell_type": "code",
   "execution_count": 9,
   "id": "e5525753",
   "metadata": {},
   "outputs": [],
   "source": [
    "dl = get_dataloader('random', petit=False)\n",
    "# print(len(dl.dataset))\n",
    "# print(len(dl.dataset.tensors[0]))\n"
   ]
  },
  {
   "cell_type": "code",
   "execution_count": 11,
   "id": "95573160",
   "metadata": {},
   "outputs": [
    {
     "name": "stdout",
     "output_type": "stream",
     "text": [
      "17082\n",
      "17082\n"
     ]
    }
   ],
   "source": [
    "dl = get_dataloader('random', petit=True)\n",
    "print(len(dl.dataset))\n",
    "print(len(dl.dataset.tensors[0]))"
   ]
  },
  {
   "cell_type": "code",
   "execution_count": null,
   "id": "736a22c4",
   "metadata": {},
   "outputs": [],
   "source": []
  }
 ],
 "metadata": {
  "kernelspec": {
   "display_name": "Python 3",
   "language": "python",
   "name": "python3"
  },
  "language_info": {
   "codemirror_mode": {
    "name": "ipython",
    "version": 3
   },
   "file_extension": ".py",
   "mimetype": "text/x-python",
   "name": "python",
   "nbconvert_exporter": "python",
   "pygments_lexer": "ipython3",
   "version": "3.7.12"
  }
 },
 "nbformat": 4,
 "nbformat_minor": 5
}
