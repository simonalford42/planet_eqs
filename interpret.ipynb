{
 "cells": [
  {
   "cell_type": "code",
   "execution_count": 2,
   "metadata": {},
   "outputs": [],
   "source": [
    "%load_ext autoreload\n",
    "%autoreload 2\n",
    "# use bnn_new_pysr environment for this notebook"
   ]
  },
  {
   "cell_type": "code",
   "execution_count": 3,
   "metadata": {},
   "outputs": [],
   "source": [
    "import os\n",
    "os.environ['PYSR_AUTOLOAD_EXTENSIONS'] = 'no'\n",
    "from matplotlib import pyplot as plt\n",
    "from utils import load_pickle\n",
    "import pandas as pd\n",
    "pd.set_option('display.max_colwidth', None)\n",
    "%matplotlib inline\n",
    "plt.rcParams[\"font.family\"] = \"serif\""
   ]
  },
  {
   "cell_type": "code",
   "execution_count": 37,
   "metadata": {},
   "outputs": [],
   "source": [
    "from interpret import *"
   ]
  },
  {
   "cell_type": "code",
   "execution_count": 5,
   "metadata": {},
   "outputs": [],
   "source": [
    "version = 24880\n",
    "pysr_version = 11003\n",
    "# pysr_version = 93102\n",
    "\n",
    "feature_nn = get_feature_nn(version)\n",
    "results = get_pysr_results(pysr_version, version=version, include_ssx=False, feature_nn=feature_nn)\n",
    "important_complexities = None"
   ]
  },
  {
   "cell_type": "code",
   "execution_count": null,
   "metadata": {},
   "outputs": [],
   "source": [
    "# latex_strs = f2_latex_strings(results)"
   ]
  },
  {
   "cell_type": "code",
   "execution_count": null,
   "metadata": {},
   "outputs": [],
   "source": [
    "# font_family = 'serif'\n",
    "# # format = 'svg'\n",
    "# format='png'\n",
    "# for c, s in latex_strs.items():\n",
    "#     s = f'${s}$'\n",
    "#     # color (153, 0, 0)\n",
    "#     color = (153/255, 0/255, 0/255)\n",
    "#     save_latex(s, f'graphics/f2_latex/{version}_{pysr_version}_{c}_{font_family}_red.{format}', format=format, color=color)"
   ]
  },
  {
   "cell_type": "code",
   "execution_count": 8,
   "metadata": {},
   "outputs": [],
   "source": [
    "# f2_str = f2_latex_str(results, mapping_dict=None)"
   ]
  },
  {
   "cell_type": "code",
   "execution_count": 38,
   "metadata": {},
   "outputs": [
    {
     "name": "stdout",
     "output_type": "stream",
     "text": [
      "\\begin{align*}\n",
      "    &0^*: 14.0  e_1 - 35.0  e_2 + 0.911 \\\\ \n",
      "    &1: 210  a_1 + 85400  m_1 - 211 \\\\ \n",
      "    &2: 27000  m_1 - 4.02  a_3 + 6.01 \\\\ \n",
      "    &3^*: 0.764  \\sin\\Omega_3 - 1.10  \\sin\\Omega_2 + 0.00289 \\\\ \n",
      "    &4: 14.0  a_3 - 27.5  a_2 + 12.5 \\\\ \n",
      "    &5^*: 29.1  e_3 + 1.47  e_1 - 1.34 \\\\ \n",
      "    &6: 13.1  i_3 + 37.5  i_2 - 1.38 \\\\ \n",
      "    &7: 58400  m_2 - 4.92  e_3 - 0.725 \\\\ \n",
      "    &8: 21.1  e_1 - 4.48  e_3 - 0.948 \\\\ \n",
      "    &9^*: 0.957  e_1 + 64600  m_3 - 0.839 \\\\ \n",
      "\\end{align*}\n"
     ]
    }
   ],
   "source": [
    "# f1_str = f1_latex_string2(feature_nn, include_ssx=True, include_ssx_bias=True, pysr_results=results, important_complexities=important_complexities)\n",
    "f1_str = f1_latex_string(feature_nn, include_ssx=True, include_ssx_bias=True, pysr_results=results)\n",
    "print(f1_str)\n",
    "# f1_str_nomap = f1_latex_string(feature_nn, include_ssx=True, include_ssx_bias=True)"
   ]
  },
  {
   "cell_type": "code",
   "execution_count": 10,
   "metadata": {},
   "outputs": [],
   "source": [
    "# f1_strs = f1_latex_strings(feature_nn, include_ssx=True, include_ssx_bias=True, pysr_results=results, important_complexities=None)"
   ]
  },
  {
   "cell_type": "code",
   "execution_count": 11,
   "metadata": {},
   "outputs": [],
   "source": [
    "# save_latex(\"Learned features:\", f'graphics/f1_latex/features.svg')"
   ]
  },
  {
   "cell_type": "code",
   "execution_count": 12,
   "metadata": {},
   "outputs": [],
   "source": [
    "# for i, f1_str in enumerate(f1_strs):\n",
    "#     f1_str = f'${f1_str}$'\n",
    "#     print(f1_str)\n",
    "#     save_latex(f1_str, f'graphics/f1_latex/new_{i}.svg')"
   ]
  },
  {
   "cell_type": "code",
   "execution_count": 13,
   "metadata": {},
   "outputs": [],
   "source": [
    "# nn_version = 4590\n",
    "nn_version = 12318\n",
    "\n",
    "nn_results = load_pickle(f'pickles/nn_results_all_{nn_version}.pkl')\n",
    "petit_results = load_pickle('pickles/petit_results_all.pkl')\n",
    "pure_sr_results = load_pickle('pickles/pure_sr_results_all_83941.pkl')\n",
    "direct_sr_results = load_pickle('pickles/pysr_results_all_28114_9054.pkl')\n",
    "pysr_results = load_pickle(f'pickles/pysr_results_all_{version}_{pysr_version}.pkl')\n",
    "\n",
    "# pure_sr_rmse = min(pure_sr_results.values())"
   ]
  },
  {
   "cell_type": "code",
   "execution_count": 14,
   "metadata": {},
   "outputs": [],
   "source": [
    "pysr_c, _ = min(pysr_results['val'].items(), key=lambda e: e[1])\n",
    "pure_c, _ = min(pure_sr_results['val'].items(), key=lambda e: e[1])\n",
    "direct_c, _ = min(direct_sr_results['val'].items(), key=lambda e: e[1])"
   ]
  },
  {
   "cell_type": "code",
   "execution_count": 15,
   "metadata": {},
   "outputs": [
    {
     "name": "stdout",
     "output_type": "stream",
     "text": [
      "29\n"
     ]
    }
   ],
   "source": [
    "print(pysr_c)"
   ]
  },
  {
   "cell_type": "code",
   "execution_count": 16,
   "metadata": {},
   "outputs": [
    {
     "name": "stdout",
     "output_type": "stream",
     "text": [
      "NN: resonant: 0.961, random 1.059\n",
      "Ours: resonant: 1.150, random 1.231\n",
      "Petit: resonant: 3.151, random 3.008\n",
      "Direct SR: resonant: 1.250, random 1.329\n",
      "Pure SR: resonant: 1.360, random 1.397\n"
     ]
    }
   ],
   "source": [
    "# table for paper\n",
    "print(f'NN: resonant: {nn_results[\"test\"]:.3f}, random {nn_results[\"random\"]:.3f}')\n",
    "print(f'Ours: resonant: {pysr_results[\"test\"][pysr_c]:.3f}, random {pysr_results[\"random\"][pysr_c]:.3f}')\n",
    "print(f'Petit: resonant: {petit_results[\"test\"]:.3f}, random {petit_results[\"random\"]:.3f}')\n",
    "print(f'Direct SR: resonant: {direct_sr_results[\"test\"][direct_c]:.3f}, random {direct_sr_results[\"random\"][direct_c]:.3f}')\n",
    "print(f'Pure SR: resonant: {pure_sr_results[\"test\"][pure_c]:.3f}, random {pure_sr_results[\"random\"][pure_c]:.3f}')"
   ]
  },
  {
   "cell_type": "code",
   "execution_count": 21,
   "metadata": {},
   "outputs": [],
   "source": [
    "# period_ratio_rmse = pickle.load(open('pickles/period_ratio_rmse.pkl', 'rb'))\n",
    "\n",
    "# def plot_period_ratio_rmse():\n",
    "#     plt.figure(figsize=(6, 4))  # Width = 10 inches, Height = 6 inches\n",
    "#     ax = plt.gca()\n",
    "#     eqs = [int(s[2:]) for s in period_ratio_rmse.keys() if s[0:2] == 'eq']\n",
    "#     rmses = [period_ratio_rmse[f'eq{eq}'] for eq in eqs]\n",
    "#     ax.plot(eqs, rmses, 'o', label='Equations')\n",
    "#     ax.set_xlabel('Complexity')\n",
    "#     ax.set_ylabel('Period ratio sweep RMSE')\n",
    "#     # add horizontal line at period_ratio_rmse['nn']\n",
    "#     ax.axhline(period_ratio_rmse['nn'], color='r', linestyle='--', label='NN')\n",
    "#     ax.legend()\n",
    "#     # add minor x axis tick marks at integers\n",
    "#     ax.xaxis.set_minor_locator(ticker.MultipleLocator(1))\n",
    "#     return plt\n",
    "\n",
    "# def period_bar_chart():\n",
    "#     nn_rmse = period_ratio_rmse['nn']\n",
    "#     eq_rmse = period_ratio_rmse['eq26']\n",
    "\n",
    "#     plt.figure(figsize=(4, 3))  # Width = 10 inches, Height = 6 inches\n",
    "#     plt.bar(['NN', 'Equations'], [nn_rmse, eq_rmse], color=['blue', 'green'])\n",
    "#     # add value label above each bar\n",
    "#     for i, v in enumerate([nn_rmse, eq_rmse]):\n",
    "#         plt.text(i, v + 0.05, str(round(v, 2)), ha='center', va='bottom')\n",
    "#     plt.ylabel('RMSE')\n",
    "#     plt.ylim(0, 2.2)\n",
    "#     # make y axis ticks just integers\n",
    "#     plt.gca().yaxis.set_major_locator(ticker.MaxNLocator(integer=True))\n",
    "#     return plt\n",
    "\n",
    "# plt = plot_period_ratio_rmse()\n",
    "# plt.savefig('graphics/period_ratio_rmse.png', dpi=400)\n",
    "# plot = period_bar_chart()\n",
    "# plot.savefig('graphics/period_bar_chart.png')\n",
    "# plot.show()"
   ]
  },
  {
   "cell_type": "code",
   "execution_count": 5,
   "metadata": {},
   "outputs": [],
   "source": [
    "important_complexities = results['complexity'].tolist()\n",
    "important_complexities, _ = paretoize(important_complexities, results['rmse'].tolist(), replace=False)"
   ]
  },
  {
   "cell_type": "code",
   "execution_count": 10,
   "metadata": {},
   "outputs": [],
   "source": [
    "def make_pareto_plot_small(results, important_complexities=None, rmse=True, plot_unimportant=False):\n",
    "    plt.rcParams[\"font.family\"] = \"serif\"\n",
    "    w, h = 8, 4.8\n",
    "    s = 1/2\n",
    "    w, h = w * s, h * s\n",
    "    plt.figure(figsize=(w, h))  # Width = 10 inches, Height = 6 inches\n",
    "    ax = plt.gca()\n",
    "\n",
    "    if plot_unimportant:\n",
    "        ax.scatter(results['complexity'], results['rmse' if rmse else 'loss'], s=12)\n",
    "\n",
    "    if important_complexities:\n",
    "        important_ixs = get_important_ixs(results, important_complexities)\n",
    "        important_ys = [results['rmse' if rmse else 'loss'][i] for i in important_ixs]\n",
    "        ax.scatter(important_complexities, important_ys, color='red' if plot_unimportant else None, s=22)\n",
    "        ax.plot(important_complexities, important_ys, color='red' if plot_unimportant else None, label='Ours')\n",
    "\n",
    "    ax.spines['top'].set_visible(False)\n",
    "    ax.spines['right'].set_visible(False)\n",
    "\n",
    "    ax.tick_params(axis='both', which='major', labelsize=10)\n",
    "    # add minor tick marks\n",
    "    ax.xaxis.set_minor_locator(ticker.MultipleLocator(1))\n",
    "    # Make minor ticks point outward\n",
    "    ax.tick_params(axis=\"x\", which=\"minor\", direction=\"out\")\n",
    "\n",
    "    # no axis numbering\n",
    "    ax.set_xticks([])\n",
    "    ax.set_yticks([])\n",
    "\n",
    "    # plt.ylim(1.0, 1.6)\n",
    "    return plt\n"
   ]
  },
  {
   "cell_type": "code",
   "execution_count": null,
   "metadata": {},
   "outputs": [],
   "source": [
    "# making the pareto plot\n",
    "def make_pareto_plot(results, important_complexities=None, rmse=True, plot_unimportant=False):\n",
    "    plt.rcParams[\"font.family\"] = \"serif\"\n",
    "    plt.figure(figsize=(8, 4.8))  # Width = 10 inches, Height = 6 inches\n",
    "    ax = plt.gca()\n",
    "    # ax = brokenaxes(ylims=((1.0, 1.7), (3.2, 3.4)), hspace=0.45)\n",
    "\n",
    "    if plot_unimportant:\n",
    "        ax.scatter(results['complexity'], results['rmse' if rmse else 'loss'], s=12)\n",
    "\n",
    "    ax.set_xlabel('Equation complexity', fontsize=12, labelpad=10)\n",
    "\n",
    "    ax.set_ylabel('RMSE' if rmse else 'Loss', fontsize=12, labelpad=10)\n",
    "\n",
    "    if important_complexities:\n",
    "        important_ixs = get_important_ixs(results, important_complexities)\n",
    "        important_ys = [results['rmse' if rmse else 'loss'][i] for i in important_ixs]\n",
    "        ax.scatter(important_complexities, important_ys, color='red' if plot_unimportant else None, s=22)\n",
    "        ax.plot(important_complexities, important_ys, color='red' if plot_unimportant else None, label='Ours')\n",
    "\n",
    "    # # add horizontal lines for nn and petit values\n",
    "    # ax.axhline(y=nn_rmse, color='orange', label='NN')\n",
    "    # ax.axhline(y=petit_rmse, color='purple', label='Petit+ 2020')\n",
    "    # ax.legend()\n",
    "\n",
    "    ax.spines['top'].set_visible(False)\n",
    "    ax.spines['right'].set_visible(False)\n",
    "\n",
    "    ax.tick_params(axis='both', which='major', labelsize=10)\n",
    "    # add minor tick marks\n",
    "    ax.xaxis.set_minor_locator(ticker.MultipleLocator(1))\n",
    "    # Make minor ticks point outward\n",
    "    ax.tick_params(axis=\"x\", which=\"minor\", direction=\"out\")\n",
    "\n",
    "    # plt.ylim(1.0, 1.6)\n",
    "    return plt\n"
   ]
  },
  {
   "cell_type": "code",
   "execution_count": 11,
   "metadata": {},
   "outputs": [],
   "source": [
    "plot = make_pareto_plot_small(results, important_complexities=important_complexities, rmse=True, plot_unimportant=False)\n",
    "plot.savefig(f'graphics/pareto_plot_{version}_{pysr_version}_small.png', dpi=400, bbox_inches='tight')"
   ]
  },
  {
   "cell_type": "code",
   "execution_count": null,
   "metadata": {},
   "outputs": [],
   "source": [
    "# plot = make_pareto_plot(results, important_complexities=important_complexities, rmse=True, plot_unimportant=False)\n",
    "# plot.savefig('graphics/pareto_fig1_new.svg')\n",
    "# plot.savefig('graphics/pareto_fig1.png', dpi=400)\n",
    "# plot.show()"
   ]
  },
  {
   "cell_type": "code",
   "execution_count": 25,
   "metadata": {},
   "outputs": [],
   "source": [
    "def make_pareto_plot2(results, important_complexities=None, rmse=True, plot_unimportant=False):\n",
    "    plt.rcParams[\"font.family\"] = \"serif\"\n",
    "    plt.figure(figsize=(3, 2.25))\n",
    "    ax = plt.gca()\n",
    "\n",
    "    if plot_unimportant:\n",
    "        ax.scatter(results['complexity'], results['rmse' if rmse else 'loss'], s=12)\n",
    "\n",
    "    ax.set_xlabel('Equation complexity')\n",
    "    ax.set_ylabel('RMSE' if rmse else 'Loss')\n",
    "\n",
    "    if important_complexities:\n",
    "        important_ixs = get_important_ixs(results, important_complexities)\n",
    "        important_ys = [results['rmse' if rmse else 'loss'][i] for i in important_ixs]\n",
    "        ax.scatter(important_complexities, important_ys, color='red' if plot_unimportant else None, s=22)\n",
    "        ax.plot(important_complexities, important_ys, color='red' if plot_unimportant else None,\n",
    "                label='Distilled Equations')\n",
    "\n",
    "    # Horizontal lines\n",
    "    ax.axhline(y=nn_rmse, color='orange', label='Neural Network')\n",
    "    ax.axhline(y=petit_rmse, color='purple', label='Petit+20')\n",
    "    ax.axhline(y=pure_sr_rmse, color='green', label='Pure SR')\n",
    "\n",
    "    # Move legend above lines (ok if it occludes them)\n",
    "    ax.legend(loc='upper right', bbox_to_anchor=(1, 1.1), framealpha=1)\n",
    "\n",
    "    ax.spines['top'].set_visible(False)\n",
    "    ax.spines['right'].set_visible(False)\n",
    "    ax.tick_params(axis='both', which='major', labelsize=10)\n",
    "    ax.xaxis.set_minor_locator(ticker.MultipleLocator(1))\n",
    "    ax.tick_params(axis=\"x\", which=\"minor\", direction=\"out\")\n",
    "\n",
    "    return plt\n"
   ]
  },
  {
   "cell_type": "code",
   "execution_count": 26,
   "metadata": {},
   "outputs": [],
   "source": [
    "# plot = make_pareto_plot2(results, important_complexities=important_complexities, rmse=True, plot_unimportant=False)\n",
    "# plot.savefig('graphics/small_pareto_plot_new.svg', bbox_inches='tight', format='svg')\n",
    "# plot.savefig('graphics/small_pareto_plot_new.png', bbox_inches='tight', format='png')\n",
    "# plot.show()"
   ]
  },
  {
   "cell_type": "code",
   "execution_count": 27,
   "metadata": {},
   "outputs": [],
   "source": [
    "# results = pickle.load(open('pickles/nn_and_petit_results_test.pkl', 'rb'))\n",
    "# nn_rmse = results['rmse']\n",
    "# petit_rmse = results['petit_rmse']\n",
    "\n",
    "# def bar_chart():\n",
    "#     rmse_values = get_k_rmse_values()[2]\n",
    "#     eq_rmse = min(rmse_values.values())\n",
    "#     # nn_rmse and petit_rmse already calculated above\n",
    "\n",
    "#     plt.figure(figsize=(4, 3))  # Width = 10 inches, Height = 6 inches\n",
    "#     plt.bar(['NN', 'Equations', 'Petit+ 2020'], [nn_rmse, eq_rmse, petit_rmse], color=['blue', 'green', 'red'])\n",
    "#     # add value label above each bar\n",
    "#     for i, v in enumerate([nn_rmse, eq_rmse, petit_rmse]):\n",
    "#         plt.text(i, v + 0.05, str(round(v, 2)), ha='center', va='bottom')\n",
    "#     plt.ylabel('RMSE')\n",
    "#     plt.ylim(0, 4)\n",
    "#     # make y axis ticks just integers\n",
    "#     plt.gca().yaxis.set_major_locator(ticker.MaxNLocator(integer=True))\n",
    "#     plt.savefig('graphics/bar_chart.png')\n",
    "#     plt.show()\n",
    "\n",
    "# # bar_chart()"
   ]
  }
 ],
 "metadata": {
  "kernelspec": {
   "display_name": "Python 3",
   "language": "python",
   "name": "python3"
  },
  "language_info": {
   "codemirror_mode": {
    "name": "ipython",
    "version": 3
   },
   "file_extension": ".py",
   "mimetype": "text/x-python",
   "name": "python",
   "nbconvert_exporter": "python",
   "pygments_lexer": "ipython3",
   "version": "3.7.12"
  }
 },
 "nbformat": 4,
 "nbformat_minor": 2
}
