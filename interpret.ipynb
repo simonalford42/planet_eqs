{
 "cells": [
  {
   "cell_type": "code",
   "execution_count": 2,
   "metadata": {},
   "outputs": [
    {
     "name": "stdout",
     "output_type": "stream",
     "text": [
      "The autoreload extension is already loaded. To reload it, use:\n",
      "  %reload_ext autoreload\n"
     ]
    }
   ],
   "source": [
    "%load_ext autoreload\n",
    "%autoreload 2\n",
    "# use bnn_new_pysr environment for this notebook"
   ]
  },
  {
   "cell_type": "code",
   "execution_count": 3,
   "metadata": {},
   "outputs": [],
   "source": [
    "import os\n",
    "os.environ['PYSR_AUTOLOAD_EXTENSIONS'] = 'no'\n",
    "from IPython.display import display, Markdown\n",
    "from matplotlib import pyplot as plt\n",
    "import matplotlib.ticker as ticker\n",
    "from brokenaxes import brokenaxes\n",
    "import pandas as pd\n",
    "import pickle\n",
    "pd.set_option('display.max_colwidth', None)\n",
    "%matplotlib inline\n",
    "plt.rcParams[\"font.family\"] = \"serif\""
   ]
  },
  {
   "cell_type": "code",
   "execution_count": 4,
   "metadata": {},
   "outputs": [
    {
     "name": "stderr",
     "output_type": "stream",
     "text": [
      "/home/sca63/.conda/envs/bnn_new_pysr/lib/python3.7/site-packages/juliacall/__init__.py:61: UserWarning: torch was imported before juliacall. This may cause a segfault. To avoid this, import juliacall before importing torch. For updates, see https://github.com/pytorch/pytorch/issues/78829.\n",
      "  \"torch was imported before juliacall. This may cause a segfault. \"\n"
     ]
    }
   ],
   "source": [
    "from interpret import *"
   ]
  },
  {
   "cell_type": "code",
   "execution_count": 5,
   "metadata": {},
   "outputs": [],
   "source": [
    "feature_nn = get_feature_nn(24880)\n",
    "important_complexities = [1, 3, 4, 7, 11, 13, 14, 16, 20, 22, 24, 26]"
   ]
  },
  {
   "cell_type": "code",
   "execution_count": 6,
   "metadata": {},
   "outputs": [],
   "source": [
    "# pysr_version = 11003\n",
    "pysr_version = 58106\n",
    "results = get_pysr_results(pysr_version, include_ssx=False, feature_nn=feature_nn)"
   ]
  },
  {
   "cell_type": "code",
   "execution_count": 7,
   "metadata": {},
   "outputs": [],
   "source": [
    "latex_strs = f2_latex_strings(results)"
   ]
  },
  {
   "cell_type": "code",
   "execution_count": 8,
   "metadata": {},
   "outputs": [
    {
     "data": {
      "text/plain": [
       "{1: '\\\\log_{10} T_{\\\\mathrm{inst}} = 7.0',\n",
       " 3: '\\\\log_{10} T_{\\\\mathrm{inst}} = 7.0 - \\\\mu_{2}',\n",
       " 5: '\\\\log_{10} T_{\\\\mathrm{inst}} = \\\\frac{3.6}{\\\\sigma_{4}^{0.16}}',\n",
       " 7: '\\\\log_{10} T_{\\\\mathrm{inst}} = - \\\\mu_{2} + \\\\frac{3.6}{\\\\sigma_{4}^{0.16}}',\n",
       " 9: '\\\\log_{10} T_{\\\\mathrm{inst}} = - \\\\mu_{2} + \\\\left(\\\\sigma_{1} \\\\sigma_{4}\\\\right)^{-0.16} + 3.4',\n",
       " 11: '\\\\log_{10} T_{\\\\mathrm{inst}} = - \\\\mu_{2} + 2.9 + \\\\frac{1.6}{\\\\sigma_{1} + \\\\sigma_{4}^{0.25}}',\n",
       " 13: '\\\\log_{10} T_{\\\\mathrm{inst}} = \\\\frac{1.5 - 0.35 \\\\mu_{2}}{\\\\sigma_{1} + \\\\sigma_{4}^{0.25}} + 3.4',\n",
       " 15: '\\\\log_{10} T_{\\\\mathrm{inst}} = 3.1 + \\\\frac{- 0.22 \\\\mu_{2} + 0.22 \\\\mu_{7} + 1.5}{\\\\sigma_{1} + \\\\sigma_{4}^{0.26}}',\n",
       " 17: '\\\\log_{10} T_{\\\\mathrm{inst}} = - \\\\sigma_{6} + 3.1 + \\\\frac{- 0.22 \\\\mu_{2} + 0.22 \\\\mu_{7} + 1.6}{\\\\sigma_{1} + \\\\sigma_{4}^{0.26}}',\n",
       " 19: '\\\\log_{10} T_{\\\\mathrm{inst}} = - \\\\sigma_{6}^{0.57} + 3.4 + \\\\frac{- 0.23 \\\\mu_{2} + 0.23 \\\\mu_{7} + 1.6}{\\\\sigma_{1} + \\\\sigma_{4}^{0.25}}',\n",
       " 21: '\\\\log_{10} T_{\\\\mathrm{inst}} = 3.4 + \\\\frac{- 0.26 \\\\mu_{2} - 0.12 \\\\mu_{6} + 0.26 \\\\mu_{7} - 0.12 \\\\mu_{8} + 1.4}{\\\\sigma_{1} + \\\\sigma_{4}^{0.26}}',\n",
       " 23: '\\\\log_{10} T_{\\\\mathrm{inst}} = 3.4 + \\\\frac{- 0.26 \\\\mu_{2} - 0.12 \\\\mu_{6} + 0.26 \\\\mu_{7} - 0.12 \\\\mu_{8} + 1.5}{\\\\sigma_{1} + \\\\sigma_{4}^{0.26} + \\\\sigma_{4}}',\n",
       " 25: '\\\\log_{10} T_{\\\\mathrm{inst}} = \\\\frac{- 0.26 \\\\mu_{2} - 0.12 \\\\mu_{6} + 0.26 \\\\mu_{7} + 1.5}{0.028 \\\\mu_{8} + \\\\sigma_{1} + \\\\sigma_{4}^{0.26} + \\\\sigma_{4}} + 3.4',\n",
       " 27: '\\\\log_{10} T_{\\\\mathrm{inst}} = \\\\frac{- 0.26 \\\\mu_{2} - 0.12 \\\\mu_{6} + 0.26 \\\\mu_{7} + 1.5}{0.032 \\\\mu_{8} + \\\\sigma_{1} + \\\\sigma_{4}^{0.26} + \\\\sigma_{4} + 0.032 \\\\sigma_{6}} + 3.4',\n",
       " 29: '\\\\log_{10} T_{\\\\mathrm{inst}} = 3.5 + \\\\frac{- 0.25 \\\\mu_{2} - 0.12 \\\\mu_{6} + 0.25 \\\\mu_{7} - 0.12 \\\\sigma_{3} - \\\\sigma_{4}^{0.65} + 1.5}{0.032 \\\\mu_{8} + \\\\sigma_{1} + \\\\sigma_{4}^{0.26}}'}"
      ]
     },
     "execution_count": 8,
     "metadata": {},
     "output_type": "execute_result"
    }
   ],
   "source": [
    "latex_strs"
   ]
  },
  {
   "cell_type": "code",
   "execution_count": 8,
   "metadata": {},
   "outputs": [],
   "source": [
    "latex_strs[7] = '\\\\log_{10} T_{\\\\mathrm{inst}} = \\\\frac{3.6}{\\\\sigma_{4}^{0.16}} - \\\\mu_{2}'"
   ]
  },
  {
   "cell_type": "code",
   "execution_count": 9,
   "metadata": {},
   "outputs": [],
   "source": [
    "font_family = 'serif'\n",
    "format = 'svg'\n",
    "for c, s in latex_strs.items():\n",
    "    s = f'${s}$'\n",
    "    save_latex(s, f'graphics/f2_latex/{c}_{font_family}.{format}', format=format)"
   ]
  },
  {
   "cell_type": "code",
   "execution_count": 9,
   "metadata": {},
   "outputs": [
    {
     "name": "stdout",
     "output_type": "stream",
     "text": [
      "\\begin{table}[h]\n",
      "\\begin{center}\n",
      "\\begin{tabular}{@{}ccc@{}}\n",
      "\\toprule\n",
      "Equation & Complexity & RMSE \\\\\n",
      "\\midrule\n",
      "$\\log_{10} T_{\\text{inst}} = 7.0$ & $1$ & $1.64$ \\\\\n",
      "$\\log_{10} T_{\\text{inst}} = 7.0 - \\mu_{2}$ & $3$ & $1.62$ \\\\\n",
      "$\\log_{10} T_{\\text{inst}} = \\frac{3.6}{\\sigma_{4}^{0.16}}$ & $5$ & $1.61$ \\\\\n",
      "$\\log_{10} T_{\\text{inst}} = - \\mu_{2} + \\frac{3.6}{\\sigma_{4}^{0.16}}$ & $7$ & $1.51$ \\\\\n",
      "$\\log_{10} T_{\\text{inst}} = - \\mu_{2} + \\left(\\sigma_{1} \\sigma_{4}\\right)^{-0.16} + 3.4$ & $9$ & $1.55$ \\\\\n",
      "$\\log_{10} T_{\\text{inst}} = - \\mu_{2} + 2.9 + \\frac{1.6}{\\sigma_{1} + \\sigma_{4}^{0.25}}$ & $11$ & $1.46$ \\\\\n",
      "\\begin{minipage}{0.8\\linewidth} \\vspace{-1em} \\begin{dmath*} \\log_{10} T_{\\text{inst}} = \\frac{1.5 - 0.35 \\mu_{2}}{\\sigma_{1} + \\sigma_{4}^{0.25}} + 3.4 \\end{dmath*} \\end{minipage} & $13$ & $1.45$ \\\\\n",
      "\\begin{minipage}{0.8\\linewidth} \\vspace{-1em} \\begin{dmath*} \\log_{10} T_{\\text{inst}} = 3.1 + \\frac{- 0.22 \\mu_{2} + 0.22 \\mu_{7} + 1.5}{\\sigma_{1} + \\sigma_{4}^{0.26}} \\end{dmath*} \\end{minipage} & $15$ & $1.45$ \\\\\n",
      "\\begin{minipage}{0.8\\linewidth} \\vspace{-1em} \\begin{dmath*} \\log_{10} T_{\\text{inst}} = - \\sigma_{6} + 3.1 + \\frac{- 0.22 \\mu_{2} + 0.22 \\mu_{7} + 1.6}{\\sigma_{1} + \\sigma_{4}^{0.26}} \\end{dmath*} \\end{minipage} & $17$ & $1.44$ \\\\\n",
      "\\begin{minipage}{0.8\\linewidth} \\vspace{-1em} \\begin{dmath*} \\log_{10} T_{\\text{inst}} = - \\sigma_{6}^{0.57} + 3.4 + \\frac{- 0.23 \\mu_{2} + 0.23 \\mu_{7} + 1.6}{\\sigma_{1} + \\sigma_{4}^{0.25}} \\end{dmath*} \\end{minipage} & $19$ & $1.43$ \\\\\n",
      "\\begin{minipage}{0.8\\linewidth} \\vspace{-1em} \\begin{dmath*} \\log_{10} T_{\\text{inst}} = 3.4 + \\frac{- 0.26 \\mu_{2} - 0.12 \\mu_{6} + 0.26 \\mu_{7} - 0.12 \\mu_{8} + 1.4}{\\sigma_{1} + \\sigma_{4}^{0.26}} \\end{dmath*} \\end{minipage} & $21$ & $nan$ \\\\\n",
      "\\begin{minipage}{0.8\\linewidth} \\vspace{-1em} \\begin{dmath*} \\log_{10} T_{\\text{inst}} = 3.4 + \\frac{- 0.26 \\mu_{2} - 0.12 \\mu_{6} + 0.26 \\mu_{7} - 0.12 \\mu_{8} + 1.5}{\\sigma_{1} + \\sigma_{4}^{0.26} + \\sigma_{4}} \\end{dmath*} \\end{minipage} & $23$ & $1.40$ \\\\\n",
      "\\begin{minipage}{0.8\\linewidth} \\vspace{-1em} \\begin{dmath*} \\log_{10} T_{\\text{inst}} = \\frac{- 0.26 \\mu_{2} - 0.12 \\mu_{6} + 0.26 \\mu_{7} + 1.5}{0.028 \\mu_{8} + \\sigma_{1} + \\sigma_{4}^{0.26} + \\sigma_{4}} + 3.4 \\end{dmath*} \\end{minipage} & $25$ & $1.39$ \\\\\n",
      "\\begin{minipage}{0.8\\linewidth} \\vspace{-1em} \\begin{dmath*} \\log_{10} T_{\\text{inst}} = \\frac{- 0.26 \\mu_{2} - 0.12 \\mu_{6} + 0.26 \\mu_{7} + 1.5}{0.032 \\mu_{8} + \\sigma_{1} + \\sigma_{4}^{0.26} + \\sigma_{4} + 0.032 \\sigma_{6}} + 3.4 \\end{dmath*} \\end{minipage} & $27$ & $1.40$ \\\\\n",
      "\\begin{minipage}{0.8\\linewidth} \\vspace{-1em} \\begin{dmath*} \\log_{10} T_{\\text{inst}} = 3.5 + \\frac{- 0.25 \\mu_{2} - 0.12 \\mu_{6} + 0.25 \\mu_{7} - 0.12 \\sigma_{3} - \\sigma_{4}^{0.65} + 1.5}{0.032 \\mu_{8} + \\sigma_{1} + \\sigma_{4}^{0.26}} \\end{dmath*} \\end{minipage} & $29$ & $1.41$ \\\\\n",
      "\\bottomrule\n",
      "\\end{tabular}\n",
      "\\end{center}\n",
      "\\end{table}\n"
     ]
    }
   ],
   "source": [
    "f2_str = f2_latex_str(results, mapping_dict=None)\n",
    "print(f2_str)"
   ]
  },
  {
   "cell_type": "code",
   "execution_count": 9,
   "metadata": {},
   "outputs": [],
   "source": [
    "# f1_str = f1_latex_string2(feature_nn, include_ssx=True, include_ssx_bias=True, pysr_results=results, important_complexities=important_complexities)\n",
    "# f1_str = f1_latex_string2(feature_nn, include_ssx=True, include_ssx_bias=True, pysr_results=results, important_complexities=important_complexities)\n",
    "# f1_str_nomap = f1_latex_string(feature_nn, include_ssx=True, include_ssx_bias=True)"
   ]
  },
  {
   "cell_type": "code",
   "execution_count": 10,
   "metadata": {},
   "outputs": [],
   "source": [
    "f1_strs = f1_latex_strings(feature_nn, include_ssx=True, include_ssx_bias=True, pysr_results=results, important_complexities=important_complexities)"
   ]
  },
  {
   "cell_type": "code",
   "execution_count": 11,
   "metadata": {},
   "outputs": [
    {
     "name": "stdout",
     "output_type": "stream",
     "text": [
      "\\mu_{1} = { \\rm \\mathbb{E}} \\left [210  a_1 + 85400  m_1 - 211 \\right ]\n",
      "\\mu_{2} = { \\rm \\mathbb{E}} \\left [27000  m_1 - 4.02  a_3 + 6.01 \\right ]\n",
      "\\mu_{7} = { \\rm \\mathbb{E}} \\left [58400  m_2 - 4.92  e_3 - 0.725 \\right ]\n",
      "\\sigma_{1} = {\\rm Std}\\left(210  a_1 + 85400  m_1\\right)\n",
      "\\sigma_{2} = {\\rm Std}\\left(27000  m_1 - 4.02  a_3\\right)\n",
      "\\sigma_{4} = {\\rm Std}\\left(14.0  a_3 - 27.5  a_2\\right)\n",
      "\\sigma_{6} = {\\rm Std}\\left(13.1  i_3 + 37.5  i_2\\right)\n",
      "\\sigma_{8} = {\\rm Std}\\left(21.1  e_1 - 4.48  e_3\\right)\n"
     ]
    }
   ],
   "source": [
    "print('\\n'.join(f1_strs))"
   ]
  },
  {
   "cell_type": "code",
   "execution_count": 12,
   "metadata": {},
   "outputs": [],
   "source": [
    "save_latex(\"Learned features:\", f'graphics/f1_latex/features.svg')"
   ]
  },
  {
   "cell_type": "code",
   "execution_count": 13,
   "metadata": {},
   "outputs": [],
   "source": [
    "for i, f1_str in enumerate(f1_strs):\n",
    "    f1_str = f'${f1_str}$'\n",
    "    save_latex(f1_str, f'graphics/f1_latex/{i}.svg')"
   ]
  },
  {
   "cell_type": "code",
   "execution_count": 14,
   "metadata": {},
   "outputs": [],
   "source": [
    "# print(f1_str)\n",
    "# display(Markdown('$$\\n' + f1_str + '\\n$$'))\n",
    "# display(Markdown('$$\\n' + f1_str_nomap + '\\n$$'))"
   ]
  },
  {
   "cell_type": "code",
   "execution_count": 22,
   "metadata": {},
   "outputs": [],
   "source": [
    "nn_petit_results = pickle.load(open('pickles/nn_and_petit_results_test.pkl', 'rb'))\n",
    "nn_rmse = nn_petit_results['rmse']\n",
    "petit_rmse = nn_petit_results['petit_rmse']"
   ]
  },
  {
   "cell_type": "code",
   "execution_count": 23,
   "metadata": {},
   "outputs": [],
   "source": [
    "period_ratio_rmse = pickle.load(open('pickles/period_ratio_rmse.pkl', 'rb'))\n",
    "\n",
    "def plot_period_ratio_rmse():\n",
    "    plt.figure(figsize=(6, 4))  # Width = 10 inches, Height = 6 inches\n",
    "    ax = plt.gca()\n",
    "    eqs = [int(s[2:]) for s in period_ratio_rmse.keys() if s[0:2] == 'eq']\n",
    "    rmses = [period_ratio_rmse[f'eq{eq}'] for eq in eqs]\n",
    "    ax.plot(eqs, rmses, 'o', label='Equations')\n",
    "    ax.set_xlabel('Complexity')\n",
    "    ax.set_ylabel('Period ratio sweep RMSE')\n",
    "    # add horizontal line at period_ratio_rmse['nn']\n",
    "    ax.axhline(period_ratio_rmse['nn'], color='r', linestyle='--', label='NN')\n",
    "    ax.legend()\n",
    "    # add minor x axis tick marks at integers\n",
    "    ax.xaxis.set_minor_locator(ticker.MultipleLocator(1))\n",
    "    return plt\n",
    "\n",
    "def period_bar_chart():\n",
    "    nn_rmse = period_ratio_rmse['nn']\n",
    "    eq_rmse = period_ratio_rmse['eq26']\n",
    "\n",
    "    plt.figure(figsize=(4, 3))  # Width = 10 inches, Height = 6 inches\n",
    "    plt.bar(['NN', 'Equations'], [nn_rmse, eq_rmse], color=['blue', 'green'])\n",
    "    # add value label above each bar\n",
    "    for i, v in enumerate([nn_rmse, eq_rmse]):\n",
    "        plt.text(i, v + 0.05, str(round(v, 2)), ha='center', va='bottom')\n",
    "    plt.ylabel('RMSE')\n",
    "    plt.ylim(0, 2.2)\n",
    "    # make y axis ticks just integers\n",
    "    plt.gca().yaxis.set_major_locator(ticker.MaxNLocator(integer=True))\n",
    "    return plt\n",
    "\n",
    "# plt = plot_period_ratio_rmse()\n",
    "# plt.savefig('graphics/period_ratio_rmse.png', dpi=400)\n",
    "# plot = period_bar_chart()\n",
    "# plot.savefig('graphics/period_bar_chart.png')\n",
    "# plot.show()"
   ]
  },
  {
   "cell_type": "code",
   "execution_count": 34,
   "metadata": {},
   "outputs": [],
   "source": [
    "# making the pareto plot\n",
    "def make_pareto_plot(results, important_complexities=None, rmse=True, plot_unimportant=False):\n",
    "    plt.rcParams[\"font.family\"] = \"serif\"\n",
    "    plt.figure(figsize=(8, 4.8))  # Width = 10 inches, Height = 6 inches\n",
    "    ax = plt.gca()\n",
    "    # ax = brokenaxes(ylims=((1.0, 1.7), (3.2, 3.4)), hspace=0.45)\n",
    "\n",
    "    if rmse:\n",
    "        rmse_vals = get_k_rmse_values()[2]\n",
    "        results['rmse'] = [rmse_vals[c] for c in results['complexity']]\n",
    "\n",
    "    if plot_unimportant:\n",
    "        ax.scatter(results['complexity'], results['rmse' if rmse else 'loss'], s=12)\n",
    "\n",
    "    ax.set_xlabel('Equation complexity', fontsize=12, labelpad=10)\n",
    "\n",
    "    ax.set_ylabel('RMSE' if rmse else 'Loss', fontsize=12, labelpad=10)\n",
    "\n",
    "    if important_complexities:\n",
    "        important_ixs = get_important_ixs(results, important_complexities)\n",
    "        important_ys = [results['rmse' if rmse else 'loss'][i] for i in important_ixs]\n",
    "        ax.scatter(important_complexities, important_ys, color='red' if plot_unimportant else None, s=22)\n",
    "        ax.plot(important_complexities, important_ys, color='red' if plot_unimportant else None, label='Ours')\n",
    "\n",
    "    # # add horizontal lines for nn and petit values\n",
    "    # ax.axhline(y=nn_rmse, color='orange', label='NN')\n",
    "    # ax.axhline(y=petit_rmse, color='purple', label='Petit+ 2020')\n",
    "    # ax.legend()\n",
    "\n",
    "    ax.spines['top'].set_visible(False)\n",
    "    ax.spines['right'].set_visible(False)\n",
    "\n",
    "    ax.tick_params(axis='both', which='major', labelsize=10)\n",
    "    # add minor tick marks\n",
    "    ax.xaxis.set_minor_locator(ticker.MultipleLocator(1))\n",
    "    # Make minor ticks point outward\n",
    "    ax.tick_params(axis=\"x\", which=\"minor\", direction=\"out\")\n",
    "\n",
    "    plt.ylim(1.25, 1.75)  # Set ymin to 3 and ymax to 7\n",
    "    return plt\n"
   ]
  },
  {
   "cell_type": "code",
   "execution_count": null,
   "metadata": {},
   "outputs": [],
   "source": [
    "def make_pareto_plot2(results, important_complexities=None, rmse=True, plot_unimportant=False):\n",
    "    plt.rcParams[\"font.family\"] = \"serif\"\n",
    "    plt.figure(figsize=(3, 2.25))\n",
    "    ax = plt.gca()\n",
    "\n",
    "    if rmse:\n",
    "        rmse_vals = get_k_rmse_values()[2]\n",
    "        results['rmse'] = [rmse_vals[c] for c in results['complexity']]\n",
    "\n",
    "    if plot_unimportant:\n",
    "        ax.scatter(results['complexity'], results['rmse' if rmse else 'loss'], s=12)\n",
    "\n",
    "    ax.set_xlabel('Equation complexity')\n",
    "    ax.set_ylabel('RMSE' if rmse else 'Loss')\n",
    "\n",
    "    if important_complexities:\n",
    "        important_ixs = get_important_ixs(results, important_complexities)\n",
    "        important_ys = [results['rmse' if rmse else 'loss'][i] for i in important_ixs]\n",
    "        ax.scatter(important_complexities, important_ys, color='red' if plot_unimportant else None, s=22)\n",
    "        ax.plot(important_complexities, important_ys, color='red' if plot_unimportant else None,\n",
    "                label='Distilled Equations')\n",
    "\n",
    "    # Horizontal lines\n",
    "    ax.axhline(y=nn_rmse, color='orange', label='Neural Network')\n",
    "    ax.axhline(y=petit_rmse, color='purple', label='Petit+20')\n",
    "    ax.axhline(y=2.75, color='green', label='Pure SR')\n",
    "\n",
    "    # Move legend above lines (ok if it occludes them)\n",
    "    ax.legend(loc='upper right', bbox_to_anchor=(1, 1.1), framealpha=1)\n",
    "\n",
    "    ax.spines['top'].set_visible(False)\n",
    "    ax.spines['right'].set_visible(False)\n",
    "    ax.tick_params(axis='both', which='major', labelsize=10)\n",
    "    ax.xaxis.set_minor_locator(ticker.MultipleLocator(1))\n",
    "    ax.tick_params(axis=\"x\", which=\"minor\", direction=\"out\")\n",
    "\n",
    "    return plt\n"
   ]
  },
  {
   "cell_type": "code",
   "execution_count": 30,
   "metadata": {},
   "outputs": [],
   "source": [
    "plot = make_pareto_plot2(results, important_complexities, rmse=True, plot_unimportant=False)\n",
    "plot.savefig('graphics/small_pareto_plot.svg', bbox_inches='tight', format='svg')\n",
    "plot.show()"
   ]
  },
  {
   "cell_type": "code",
   "execution_count": 35,
   "metadata": {},
   "outputs": [],
   "source": [
    "plot = make_pareto_plot(results, important_complexities, rmse=True, plot_unimportant=False)\n",
    "plot.savefig('graphics/pareto_fig1.svg')\n",
    "# plot.savefig('graphics/pareto_fig1.png', dpi=400)\n",
    "# plot.show()\n"
   ]
  },
  {
   "cell_type": "code",
   "execution_count": 20,
   "metadata": {},
   "outputs": [],
   "source": [
    "results = pickle.load(open('pickles/nn_and_petit_results_test.pkl', 'rb'))\n",
    "nn_rmse = results['rmse']\n",
    "petit_rmse = results['petit_rmse']\n",
    "\n",
    "def bar_chart():\n",
    "    rmse_values = get_k_rmse_values()[2]\n",
    "    eq_rmse = min(rmse_values.values())\n",
    "    # nn_rmse and petit_rmse already calculated above\n",
    "\n",
    "    plt.figure(figsize=(4, 3))  # Width = 10 inches, Height = 6 inches\n",
    "    plt.bar(['NN', 'Equations', 'Petit+ 2020'], [nn_rmse, eq_rmse, petit_rmse], color=['blue', 'green', 'red'])\n",
    "    # add value label above each bar\n",
    "    for i, v in enumerate([nn_rmse, eq_rmse, petit_rmse]):\n",
    "        plt.text(i, v + 0.05, str(round(v, 2)), ha='center', va='bottom')\n",
    "    plt.ylabel('RMSE')\n",
    "    plt.ylim(0, 4)\n",
    "    # make y axis ticks just integers\n",
    "    plt.gca().yaxis.set_major_locator(ticker.MaxNLocator(integer=True))\n",
    "    plt.savefig('graphics/bar_chart.png')\n",
    "    plt.show()\n",
    "\n",
    "bar_chart()"
   ]
  },
  {
   "cell_type": "code",
   "execution_count": null,
   "metadata": {},
   "outputs": [],
   "source": []
  }
 ],
 "metadata": {
  "kernelspec": {
   "display_name": "Python 3",
   "language": "python",
   "name": "python3"
  },
  "language_info": {
   "codemirror_mode": {
    "name": "ipython",
    "version": 3
   },
   "file_extension": ".py",
   "mimetype": "text/x-python",
   "name": "python",
   "nbconvert_exporter": "python",
   "pygments_lexer": "ipython3",
   "version": "3.7.12"
  }
 },
 "nbformat": 4,
 "nbformat_minor": 2
}
