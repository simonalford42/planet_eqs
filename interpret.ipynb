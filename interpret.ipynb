{
 "cells": [
  {
   "cell_type": "code",
   "execution_count": 1,
   "metadata": {},
   "outputs": [
    {
     "name": "stderr",
     "output_type": "stream",
     "text": [
      "/home/sca63/.conda/envs/bnn_chaos_model/lib/python3.7/site-packages/juliacall/__init__.py:61: UserWarning: torch was imported before juliacall. This may cause a segfault. To avoid this, import juliacall before importing torch. For updates, see https://github.com/pytorch/pytorch/issues/78829.\n",
      "  \"torch was imported before juliacall. This may cause a segfault. \"\n"
     ]
    },
    {
     "name": "stdout",
     "output_type": "stream",
     "text": [
      "Detected Jupyter notebook. Loading juliacall extension. Set `PYSR_AUTOLOAD_EXTENSIONS=no` to disable.\n"
     ]
    }
   ],
   "source": [
    "from interpret import *\n",
    "from IPython.display import display, Markdown\n",
    "import matplotlib.ticker as ticker\n",
    "from matplotlib import pyplot as plt\n",
    "import pandas as pd\n",
    "pd.set_option('display.max_colwidth', None)\n",
    "%matplotlib inline"
   ]
  },
  {
   "cell_type": "code",
   "execution_count": 2,
   "metadata": {},
   "outputs": [],
   "source": [
    "feature_nn = get_feature_nn(24880)\n",
    "important_complexities = [1, 3, 4, 7, 11, 14, 22, 26]"
   ]
  },
  {
   "cell_type": "code",
   "execution_count": 3,
   "metadata": {},
   "outputs": [],
   "source": [
    "results = get_pysr_results(pysr_version=11003, include_ssx=True, feature_nn=feature_nn)"
   ]
  },
  {
   "cell_type": "code",
   "execution_count": 4,
   "metadata": {},
   "outputs": [
    {
     "data": {
      "text/html": [
       "<div>\n",
       "<style scoped>\n",
       "    .dataframe tbody tr th:only-of-type {\n",
       "        vertical-align: middle;\n",
       "    }\n",
       "\n",
       "    .dataframe tbody tr th {\n",
       "        vertical-align: top;\n",
       "    }\n",
       "\n",
       "    .dataframe thead th {\n",
       "        text-align: right;\n",
       "    }\n",
       "</style>\n",
       "<table border=\"1\" class=\"dataframe\">\n",
       "  <thead>\n",
       "    <tr style=\"text-align: right;\">\n",
       "      <th></th>\n",
       "      <th>complexity</th>\n",
       "      <th>loss</th>\n",
       "      <th>score</th>\n",
       "      <th>equation</th>\n",
       "      <th>sympy_format</th>\n",
       "    </tr>\n",
       "  </thead>\n",
       "  <tbody>\n",
       "    <tr>\n",
       "      <th>0</th>\n",
       "      <td>1</td>\n",
       "      <td>5.653270</td>\n",
       "      <td>0.000000</td>\n",
       "      <td>7.0051637</td>\n",
       "      <td>7.00516370000000</td>\n",
       "    </tr>\n",
       "    <tr>\n",
       "      <th>1</th>\n",
       "      <td>3</td>\n",
       "      <td>4.978444</td>\n",
       "      <td>0.063558</td>\n",
       "      <td>(6.990491 - m2)</td>\n",
       "      <td>0.98404180377183 - m2</td>\n",
       "    </tr>\n",
       "    <tr>\n",
       "      <th>2</th>\n",
       "      <td>4</td>\n",
       "      <td>4.918939</td>\n",
       "      <td>0.012024</td>\n",
       "      <td>(7.1660094 - sin(m2))</td>\n",
       "      <td>7.1660094 - sin(m2 + 6.00644919622817)</td>\n",
       "    </tr>\n",
       "    <tr>\n",
       "      <th>3</th>\n",
       "      <td>5</td>\n",
       "      <td>4.030765</td>\n",
       "      <td>0.199137</td>\n",
       "      <td>((s4 ^ -0.15489304) * 3.6422653)</td>\n",
       "      <td>3.6422653/s4**0.15489304</td>\n",
       "    </tr>\n",
       "    <tr>\n",
       "      <th>4</th>\n",
       "      <td>7</td>\n",
       "      <td>3.305422</td>\n",
       "      <td>0.099196</td>\n",
       "      <td>(((s4 ^ -0.15921338) * 3.5656016) - m2)</td>\n",
       "      <td>-m2 + 3.5656016/s4**0.15921338 - 6.00644919622817</td>\n",
       "    </tr>\n",
       "  </tbody>\n",
       "</table>\n",
       "</div>"
      ],
      "text/plain": [
       "   complexity      loss     score                                 equation  \\\n",
       "0           1  5.653270  0.000000                                7.0051637   \n",
       "1           3  4.978444  0.063558                          (6.990491 - m2)   \n",
       "2           4  4.918939  0.012024                    (7.1660094 - sin(m2))   \n",
       "3           5  4.030765  0.199137         ((s4 ^ -0.15489304) * 3.6422653)   \n",
       "4           7  3.305422  0.099196  (((s4 ^ -0.15921338) * 3.5656016) - m2)   \n",
       "\n",
       "                                        sympy_format  \n",
       "0                                   7.00516370000000  \n",
       "1                              0.98404180377183 - m2  \n",
       "2             7.1660094 - sin(m2 + 6.00644919622817)  \n",
       "3                           3.6422653/s4**0.15489304  \n",
       "4  -m2 + 3.5656016/s4**0.15921338 - 6.00644919622817  "
      ]
     },
     "execution_count": 4,
     "metadata": {},
     "output_type": "execute_result"
    }
   ],
   "source": [
    "results[:5]"
   ]
  },
  {
   "cell_type": "code",
   "execution_count": 5,
   "metadata": {},
   "outputs": [
    {
     "name": "stdout",
     "output_type": "stream",
     "text": [
      "{2: 0, 4: 1, 1: 2, 7: 3, 6: 4, 8: 5}\n"
     ]
    }
   ],
   "source": [
    "mapping_dict = get_mapping_dict(results, important_complexities)\n",
    "print(mapping_dict)"
   ]
  },
  {
   "cell_type": "code",
   "execution_count": 6,
   "metadata": {},
   "outputs": [
    {
     "name": "stdout",
     "output_type": "stream",
     "text": [
      "\\begin{table}[h]\n",
      "\\begin{center}\n",
      "\\begin{tabular}{@{}ccc@{}}\n",
      "\\toprule\n",
      "Equation & Complexity & Loss \\\\\n",
      "\\midrule\n",
      "$y = 7.0$ & $1$ & $5.7$ \\\\\n",
      "$y = 0.98 - \\mu_{0}$ & $3$ & $5.0$ \\\\\n",
      "$y = 7.2 - \\sin{\\left(\\mu_{0} + 6.0 \\right)}$ & $4$ & $4.9$ \\\\\n",
      "$y = - \\mu_{0} + \\frac{3.6}{\\sigma_{1}^{0.16}} - 6.0$ & $7$ & $3.3$ \\\\\n",
      "\\begin{minipage}{0.8\\linewidth} \\vspace{-1em} \\begin{dmath*} y = 0.14^{\\sigma_{2}} \\left(- \\mu_{0} + \\sigma_{1}^{-0.31} - 6.0\\right) + 3.7 \\end{dmath*} \\end{minipage} & $11$ & $2.7$ \\\\\n",
      "\\begin{minipage}{0.8\\linewidth} \\vspace{-1em} \\begin{dmath*} y = 0.059^{\\sigma_{2}} \\left(\\mu_{3} + \\sigma_{1}^{-0.33} - \\sin{\\left(\\mu_{0} + 6.0 \\right)} - 0.72\\right) + 3.7 \\end{dmath*} \\end{minipage} & $14$ & $2.5$ \\\\\n",
      "\\begin{minipage}{0.8\\linewidth} \\vspace{-1em} \\begin{dmath*} y = 0.067^{\\sigma_{2}} \\left(\\mu_{3} - \\sigma_{5} + \\left(\\sigma_{4}^{0.35} \\left(\\sigma_{0} + \\sigma_{1}\\right)\\right)^{-0.31} - \\sin{\\left(\\mu_{0} + 6.0 \\right)} - 0.72\\right) + 3.7 \\end{dmath*} \\end{minipage} & $22$ & $2.2$ \\\\\n",
      "\\begin{minipage}{0.8\\linewidth} \\vspace{-1em} \\begin{dmath*} y = 0.084^{\\sigma_{2}} \\cdot \\left(1.2^{2.1 \\cdot 10^{2} - \\mu_{2}} \\left(\\mu_{3} - \\sigma_{5} - 0.72\\right) + \\left(\\sigma_{4}^{0.36} \\left(\\sigma_{0} + \\sigma_{1}\\right)\\right)^{-0.31} - \\sin{\\left(\\mu_{0} + 6.0 \\right)}\\right) + 3.7 \\end{dmath*} \\end{minipage} & $26$ & $2.1$ \\\\\n",
      "\\bottomrule\n",
      "\\end{tabular}\n",
      "\\end{center}\n",
      "\\end{table}\n"
     ]
    }
   ],
   "source": [
    "f2_str = f2_latex_str(results, important_complexities=important_complexities, mapping_dict=mapping_dict)\n",
    "print(f2_str)"
   ]
  },
  {
   "cell_type": "code",
   "execution_count": 7,
   "metadata": {},
   "outputs": [],
   "source": [
    "f1_str = f1_latex_string(feature_nn, include_ssx=True, include_ssx_bias=True, mapping_dict=mapping_dict)\n",
    "f1_str_nomap = f1_latex_string(feature_nn, include_ssx=True, include_ssx_bias=True)"
   ]
  },
  {
   "cell_type": "code",
   "execution_count": 8,
   "metadata": {},
   "outputs": [
    {
     "data": {
      "text/markdown": [
       "$$\n",
       "\\begin{align*}\n",
       "f_1& \\text{ features:} \\\\ \n",
       "    &0: 27000  m_1 - 4.02  a_3 + 6.01 \\\\ \n",
       "    &1: 14.0  a_3 - 27.5  a_2 + 12.5 \\\\ \n",
       "    &2: 210  a_1 + 85400  m_1 - 211 \\\\ \n",
       "    &3: 58400  m_2 - 4.92  e_3 - 0.725 \\\\ \n",
       "    &4: 13.1  i_3 + 37.5  i_2 - 1.38 \\\\ \n",
       "    &5: 21.1  e_1 - 4.48  e_3 - 0.948 \\\\ \n",
       "\\end{align*}\n",
       "$$"
      ],
      "text/plain": [
       "<IPython.core.display.Markdown object>"
      ]
     },
     "metadata": {},
     "output_type": "display_data"
    }
   ],
   "source": [
    "# print(f1_str)\n",
    "display(Markdown('$$\\n' + f1_str + '\\n$$'))\n",
    "# display(Markdown('$$\\n' + f1_str_nomap + '\\n$$'))"
   ]
  },
  {
   "cell_type": "code",
   "execution_count": 11,
   "metadata": {},
   "outputs": [],
   "source": [
    "# making the pareto plot\n",
    "def make_pareto_plot(results, important_complexities=None, rmse=True, plot_unimportant=False):\n",
    "    plt.figure(figsize=(10, 6))  # Width = 10 inches, Height = 6 inches\n",
    "    ax = plt.gca()\n",
    "\n",
    "    if rmse:\n",
    "        rmse_vals = get_rmse_values()\n",
    "        results['rmse'] = [rmse_vals[c] for c in results['complexity']]\n",
    "\n",
    "    if plot_unimportant:\n",
    "        plt.scatter(results['complexity'], results['rmse' if rmse else 'loss'], s=12)\n",
    "\n",
    "    plt.xlabel('Equation complexity', fontsize=12, labelpad=10)\n",
    "\n",
    "    plt.ylabel('RMSE' if rmse else 'Loss', fontsize=12, labelpad=10)\n",
    "\n",
    "    if important_complexities:\n",
    "        important_ixs = get_important_ixs(results, important_complexities)\n",
    "        important_ys = [results['rmse' if rmse else 'loss'][i] for i in important_ixs]\n",
    "        plt.scatter(important_complexities, important_ys, color='red' if plot_unimportant else None, s=16)\n",
    "\n",
    "    plt.rcParams[\"font.family\"] = \"serif\"\n",
    "\n",
    "    ax.spines['top'].set_visible(False)\n",
    "    ax.spines['right'].set_visible(False)\n",
    "\n",
    "    plt.tick_params(axis='both', which='major', labelsize=10)\n",
    "    ax.xaxis.set_minor_locator(ticker.MultipleLocator(1))\n",
    "    # Make minor ticks point outward\n",
    "    ax.tick_params(axis=\"x\", which=\"minor\", direction=\"out\")\n",
    "\n",
    "    plt.ylim(1.25, 1.75)  # Set ymin to 3 and ymax to 7\n",
    "    return plt\n"
   ]
  },
  {
   "cell_type": "code",
   "execution_count": 12,
   "metadata": {},
   "outputs": [
    {
     "data": {
      "image/png": "[encoded data removed]",
      "text/plain": [
       "<Figure size 1000x600 with 1 Axes>"
      ]
     },
     "metadata": {},
     "output_type": "display_data"
    }
   ],
   "source": [
    "plt = make_pareto_plot(results, important_complexities, rmse=True, plot_unimportant=False)\n",
    "plt.savefig('pareto_fig1.svg')\n",
    "plt.show()\n"
   ]
  },
  {
   "cell_type": "code",
   "execution_count": 19,
   "metadata": {},
   "outputs": [
    {
     "data": {
      "image/png": "[encoded data removed]",
      "text/plain": [
       "<Figure size 640x480 with 1 Axes>"
      ]
     },
     "metadata": {},
     "output_type": "display_data"
    }
   ],
   "source": [
    "def save_latex_as_svg(latex_str, output_file):\n",
    "    plt.rcParams[\"mathtext.fontset\"] = \"cm\"\n",
    "    fig, ax = plt.subplots()\n",
    "    ax.set_axis_off()\n",
    "    text = ax.text(0.5, 0.5, f\"${latex_str}$\", fontsize=20, ha='center', va='center', family=\"serif\")\n",
    "\n",
    "    fig.canvas.draw()  # update text positions\n",
    "    renderer = fig.canvas.get_renderer()\n",
    "    bbox = text.get_window_extent(renderer=renderer).transformed(fig.dpi_scale_trans.inverted())\n",
    "\n",
    "    fig.savefig(output_file, format=\"svg\", bbox_inches=bbox, pad_inches=0, transparent=True)\n",
    "\n",
    "save_latex_as_svg(r\"\\int_0^1 x^2 \\,dx\", \"output.svg\")"
   ]
  },
  {
   "cell_type": "code",
   "execution_count": null,
   "metadata": {},
   "outputs": [],
   "source": []
  }
 ],
 "metadata": {
  "kernelspec": {
   "display_name": "Python 3",
   "language": "python",
   "name": "python3"
  },
  "language_info": {
   "codemirror_mode": {
    "name": "ipython",
    "version": 3
   },
   "file_extension": ".py",
   "mimetype": "text/x-python",
   "name": "python",
   "nbconvert_exporter": "python",
   "pygments_lexer": "ipython3",
   "version": "3.7.12"
  }
 },
 "nbformat": 4,
 "nbformat_minor": 2
}
