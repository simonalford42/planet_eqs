{
 "cells": [
  {
   "cell_type": "code",
   "execution_count": null,
   "metadata": {},
   "outputs": [],
   "source": [
    "%load_ext autoreload\n",
    "%autoreload 2\n",
    "# use bnn_new_pysr environment for this notebook"
   ]
  },
  {
   "cell_type": "code",
   "execution_count": 4,
   "metadata": {},
   "outputs": [],
   "source": [
    "import os\n",
    "os.environ['PYSR_AUTOLOAD_EXTENSIONS'] = 'no'\n",
    "from matplotlib import pyplot as plt\n",
    "from brokenaxes import brokenaxes\n",
    "import pandas as pd\n",
    "pd.set_option('display.max_colwidth', None)\n",
    "%matplotlib inline\n",
    "plt.rcParams[\"font.family\"] = \"serif\""
   ]
  },
  {
   "cell_type": "code",
   "execution_count": 12,
   "metadata": {},
   "outputs": [],
   "source": [
    "from interpret import *"
   ]
  },
  {
   "cell_type": "code",
   "execution_count": 6,
   "metadata": {},
   "outputs": [],
   "source": [
    "version = 24880\n",
    "# pysr_version = 11003\n",
    "pysr_version = 93102"
   ]
  },
  {
   "cell_type": "code",
   "execution_count": 7,
   "metadata": {},
   "outputs": [],
   "source": [
    "feature_nn = get_feature_nn(version)\n",
    "# important_complexities = [1, 3, 4, 7, 11, 13, 14, 16, 20, 22, 24, 26]"
   ]
  },
  {
   "cell_type": "code",
   "execution_count": 13,
   "metadata": {},
   "outputs": [
    {
     "ename": "TypeError",
     "evalue": "get_rmse_values() got an unexpected keyword argument 'test'",
     "output_type": "error",
     "traceback": [
      "\u001b[0;31m---------------------------------------------------------------------------\u001b[0m",
      "\u001b[0;31mTypeError\u001b[0m                                 Traceback (most recent call last)",
      "\u001b[0;32m/tmp/ipykernel_2184820/1893038103.py\u001b[0m in \u001b[0;36m<module>\u001b[0;34m\u001b[0m\n\u001b[0;32m----> 1\u001b[0;31m \u001b[0mresults\u001b[0m \u001b[0;34m=\u001b[0m \u001b[0mget_pysr_results\u001b[0m\u001b[0;34m(\u001b[0m\u001b[0mpysr_version\u001b[0m\u001b[0;34m,\u001b[0m \u001b[0minclude_ssx\u001b[0m\u001b[0;34m=\u001b[0m\u001b[0;32mFalse\u001b[0m\u001b[0;34m,\u001b[0m \u001b[0mfeature_nn\u001b[0m\u001b[0;34m=\u001b[0m\u001b[0mfeature_nn\u001b[0m\u001b[0;34m)\u001b[0m\u001b[0;34m\u001b[0m\u001b[0;34m\u001b[0m\u001b[0m\n\u001b[0m",
      "\u001b[0;32m~/bnn_chaos_model/interpret.py\u001b[0m in \u001b[0;36mget_pysr_results\u001b[0;34m(pysr_version, include_ssx, feature_nn)\u001b[0m\n\u001b[1;32m     61\u001b[0m \u001b[0;34m\u001b[0m\u001b[0m\n\u001b[1;32m     62\u001b[0m     \u001b[0;31m# rmse_values maps complexity to rmse\u001b[0m\u001b[0;34m\u001b[0m\u001b[0;34m\u001b[0m\u001b[0;34m\u001b[0m\u001b[0m\n\u001b[0;32m---> 63\u001b[0;31m     \u001b[0mrmse_values\u001b[0m \u001b[0;34m=\u001b[0m \u001b[0mget_rmse_values\u001b[0m\u001b[0;34m(\u001b[0m\u001b[0mversion\u001b[0m\u001b[0;34m=\u001b[0m\u001b[0;36m24880\u001b[0m\u001b[0;34m,\u001b[0m \u001b[0mpysr_version\u001b[0m\u001b[0;34m=\u001b[0m\u001b[0mpysr_version\u001b[0m\u001b[0;34m,\u001b[0m \u001b[0mtest\u001b[0m\u001b[0;34m=\u001b[0m\u001b[0;32mTrue\u001b[0m\u001b[0;34m)\u001b[0m\u001b[0;34m\u001b[0m\u001b[0;34m\u001b[0m\u001b[0m\n\u001b[0m\u001b[1;32m     64\u001b[0m     \u001b[0;32mif\u001b[0m \u001b[0mrmse_values\u001b[0m\u001b[0;34m:\u001b[0m\u001b[0;34m\u001b[0m\u001b[0;34m\u001b[0m\u001b[0m\n\u001b[1;32m     65\u001b[0m         \u001b[0;31m# add rmse column, matching complexity with existing 'complexity' column\u001b[0m\u001b[0;34m\u001b[0m\u001b[0;34m\u001b[0m\u001b[0;34m\u001b[0m\u001b[0m\n",
      "\u001b[0;31mTypeError\u001b[0m: get_rmse_values() got an unexpected keyword argument 'test'"
     ]
    }
   ],
   "source": [
    "results = get_pysr_results(pysr_version, include_ssx=False, feature_nn=feature_nn)"
   ]
  },
  {
   "cell_type": "code",
   "execution_count": 8,
   "metadata": {},
   "outputs": [],
   "source": [
    "latex_strs = f2_latex_strings(results)"
   ]
  },
  {
   "cell_type": "code",
   "execution_count": 10,
   "metadata": {},
   "outputs": [],
   "source": [
    "font_family = 'serif'\n",
    "format = 'svg'\n",
    "for c, s in latex_strs.items():\n",
    "    s = f'${s}$'\n",
    "    save_latex(s, f'graphics/f2_latex/{version}_{pysr_version}_{c}_{font_family}.{format}', format=format)"
   ]
  },
  {
   "cell_type": "code",
   "execution_count": null,
   "metadata": {},
   "outputs": [
    {
     "ename": "NameError",
     "evalue": "name 'f2_latex_str' is not defined",
     "output_type": "error",
     "traceback": [
      "\u001b[0;31m---------------------------------------------------------------------------\u001b[0m",
      "\u001b[0;31mNameError\u001b[0m                                 Traceback (most recent call last)",
      "\u001b[0;32m/tmp/ipykernel_3099636/2653720489.py\u001b[0m in \u001b[0;36m<module>\u001b[0;34m\u001b[0m\n\u001b[0;32m----> 1\u001b[0;31m \u001b[0mf2_str\u001b[0m \u001b[0;34m=\u001b[0m \u001b[0mf2_latex_str\u001b[0m\u001b[0;34m(\u001b[0m\u001b[0mresults\u001b[0m\u001b[0;34m,\u001b[0m \u001b[0mmapping_dict\u001b[0m\u001b[0;34m=\u001b[0m\u001b[0;32mNone\u001b[0m\u001b[0;34m)\u001b[0m\u001b[0;34m\u001b[0m\u001b[0;34m\u001b[0m\u001b[0m\n\u001b[0m",
      "\u001b[0;31mNameError\u001b[0m: name 'f2_latex_str' is not defined"
     ]
    }
   ],
   "source": [
    "# f2_str = f2_latex_str(results, mapping_dict=None)"
   ]
  },
  {
   "cell_type": "code",
   "execution_count": 17,
   "metadata": {},
   "outputs": [],
   "source": [
    "# f1_str = f1_latex_string2(feature_nn, include_ssx=True, include_ssx_bias=True, pysr_results=results, important_complexities=important_complexities)\n",
    "# f1_str = f1_latex_string2(feature_nn, include_ssx=True, include_ssx_bias=True, pysr_results=results, important_complexities=important_complexities)\n",
    "# f1_str_nomap = f1_latex_string(feature_nn, include_ssx=True, include_ssx_bias=True)"
   ]
  },
  {
   "cell_type": "code",
   "execution_count": 11,
   "metadata": {},
   "outputs": [],
   "source": [
    "f1_strs = f1_latex_strings(feature_nn, include_ssx=True, include_ssx_bias=True, pysr_results=results, important_complexities=None)"
   ]
  },
  {
   "cell_type": "code",
   "execution_count": 20,
   "metadata": {},
   "outputs": [],
   "source": [
    "save_latex(\"Learned features:\", f'graphics/f1_latex/features.svg')"
   ]
  },
  {
   "cell_type": "code",
   "execution_count": 12,
   "metadata": {},
   "outputs": [],
   "source": [
    "for i, f1_str in enumerate(f1_strs):\n",
    "    f1_str = f'${f1_str}$'\n",
    "    save_latex(f1_str, f'graphics/f1_latex/{i}.svg')"
   ]
  },
  {
   "cell_type": "code",
   "execution_count": 9,
   "metadata": {},
   "outputs": [],
   "source": [
    "nn_results = pickle.load(open('pickles/nn_results_all_24880.pkl', 'rb'))\n",
    "petit_results = pickle.load(open('pickles/petit_results_all.pkl', 'rb'))\n",
    "nn_rmse = nn_results['test']\n",
    "petit_rmse = petit_results['test']"
   ]
  },
  {
   "cell_type": "code",
   "execution_count": 1,
   "metadata": {},
   "outputs": [],
   "source": [
    "# period_ratio_rmse = pickle.load(open('pickles/period_ratio_rmse.pkl', 'rb'))\n",
    "\n",
    "# def plot_period_ratio_rmse():\n",
    "#     plt.figure(figsize=(6, 4))  # Width = 10 inches, Height = 6 inches\n",
    "#     ax = plt.gca()\n",
    "#     eqs = [int(s[2:]) for s in period_ratio_rmse.keys() if s[0:2] == 'eq']\n",
    "#     rmses = [period_ratio_rmse[f'eq{eq}'] for eq in eqs]\n",
    "#     ax.plot(eqs, rmses, 'o', label='Equations')\n",
    "#     ax.set_xlabel('Complexity')\n",
    "#     ax.set_ylabel('Period ratio sweep RMSE')\n",
    "#     # add horizontal line at period_ratio_rmse['nn']\n",
    "#     ax.axhline(period_ratio_rmse['nn'], color='r', linestyle='--', label='NN')\n",
    "#     ax.legend()\n",
    "#     # add minor x axis tick marks at integers\n",
    "#     ax.xaxis.set_minor_locator(ticker.MultipleLocator(1))\n",
    "#     return plt\n",
    "\n",
    "# def period_bar_chart():\n",
    "#     nn_rmse = period_ratio_rmse['nn']\n",
    "#     eq_rmse = period_ratio_rmse['eq26']\n",
    "\n",
    "#     plt.figure(figsize=(4, 3))  # Width = 10 inches, Height = 6 inches\n",
    "#     plt.bar(['NN', 'Equations'], [nn_rmse, eq_rmse], color=['blue', 'green'])\n",
    "#     # add value label above each bar\n",
    "#     for i, v in enumerate([nn_rmse, eq_rmse]):\n",
    "#         plt.text(i, v + 0.05, str(round(v, 2)), ha='center', va='bottom')\n",
    "#     plt.ylabel('RMSE')\n",
    "#     plt.ylim(0, 2.2)\n",
    "#     # make y axis ticks just integers\n",
    "#     plt.gca().yaxis.set_major_locator(ticker.MaxNLocator(integer=True))\n",
    "#     return plt\n",
    "\n",
    "# plt = plot_period_ratio_rmse()\n",
    "# plt.savefig('graphics/period_ratio_rmse.png', dpi=400)\n",
    "# plot = period_bar_chart()\n",
    "# plot.savefig('graphics/period_bar_chart.png')\n",
    "# plot.show()"
   ]
  },
  {
   "cell_type": "code",
   "execution_count": 34,
   "metadata": {},
   "outputs": [],
   "source": [
    "# making the pareto plot\n",
    "def make_pareto_plot(results, important_complexities=None, rmse=True, plot_unimportant=False):\n",
    "    plt.rcParams[\"font.family\"] = \"serif\"\n",
    "    plt.figure(figsize=(8, 4.8))  # Width = 10 inches, Height = 6 inches\n",
    "    ax = plt.gca()\n",
    "    # ax = brokenaxes(ylims=((1.0, 1.7), (3.2, 3.4)), hspace=0.45)\n",
    "\n",
    "    if rmse:\n",
    "        rmse_vals = get_k_rmse_values()[2]\n",
    "        results['rmse'] = [rmse_vals[c] for c in results['complexity']]\n",
    "\n",
    "    if plot_unimportant:\n",
    "        ax.scatter(results['complexity'], results['rmse' if rmse else 'loss'], s=12)\n",
    "\n",
    "    ax.set_xlabel('Equation complexity', fontsize=12, labelpad=10)\n",
    "\n",
    "    ax.set_ylabel('RMSE' if rmse else 'Loss', fontsize=12, labelpad=10)\n",
    "\n",
    "    if important_complexities:\n",
    "        important_ixs = get_important_ixs(results, important_complexities)\n",
    "        important_ys = [results['rmse' if rmse else 'loss'][i] for i in important_ixs]\n",
    "        ax.scatter(important_complexities, important_ys, color='red' if plot_unimportant else None, s=22)\n",
    "        ax.plot(important_complexities, important_ys, color='red' if plot_unimportant else None, label='Ours')\n",
    "\n",
    "    # # add horizontal lines for nn and petit values\n",
    "    # ax.axhline(y=nn_rmse, color='orange', label='NN')\n",
    "    # ax.axhline(y=petit_rmse, color='purple', label='Petit+ 2020')\n",
    "    # ax.legend()\n",
    "\n",
    "    ax.spines['top'].set_visible(False)\n",
    "    ax.spines['right'].set_visible(False)\n",
    "\n",
    "    ax.tick_params(axis='both', which='major', labelsize=10)\n",
    "    # add minor tick marks\n",
    "    ax.xaxis.set_minor_locator(ticker.MultipleLocator(1))\n",
    "    # Make minor ticks point outward\n",
    "    ax.tick_params(axis=\"x\", which=\"minor\", direction=\"out\")\n",
    "\n",
    "    plt.ylim(1.25, 1.75)  # Set ymin to 3 and ymax to 7\n",
    "    return plt\n"
   ]
  },
  {
   "cell_type": "code",
   "execution_count": 10,
   "metadata": {},
   "outputs": [],
   "source": [
    "def make_pareto_plot2(results, important_complexities=None, rmse=True, plot_unimportant=False):\n",
    "    plt.rcParams[\"font.family\"] = \"serif\"\n",
    "    plt.figure(figsize=(3, 2.25))\n",
    "    ax = plt.gca()\n",
    "\n",
    "    if rmse:\n",
    "        rmse_vals = get_k_rmse_values()[2]\n",
    "        results['rmse'] = [rmse_vals[c] for c in results['complexity']]\n",
    "\n",
    "    if plot_unimportant:\n",
    "        ax.scatter(results['complexity'], results['rmse' if rmse else 'loss'], s=12)\n",
    "\n",
    "    ax.set_xlabel('Equation complexity')\n",
    "    ax.set_ylabel('RMSE' if rmse else 'Loss')\n",
    "\n",
    "    if important_complexities:\n",
    "        important_ixs = get_important_ixs(results, important_complexities)\n",
    "        important_ys = [results['rmse' if rmse else 'loss'][i] for i in important_ixs]\n",
    "        ax.scatter(important_complexities, important_ys, color='red' if plot_unimportant else None, s=22)\n",
    "        ax.plot(important_complexities, important_ys, color='red' if plot_unimportant else None,\n",
    "                label='Distilled Equations')\n",
    "\n",
    "    # Horizontal lines\n",
    "    ax.axhline(y=nn_rmse, color='orange', label='Neural Network')\n",
    "    ax.axhline(y=petit_rmse, color='purple', label='Petit+20')\n",
    "    ax.axhline(y=2.75, color='green', label='Pure SR')\n",
    "\n",
    "    # Move legend above lines (ok if it occludes them)\n",
    "    ax.legend(loc='upper right', bbox_to_anchor=(1, 1.1), framealpha=1)\n",
    "\n",
    "    ax.spines['top'].set_visible(False)\n",
    "    ax.spines['right'].set_visible(False)\n",
    "    ax.tick_params(axis='both', which='major', labelsize=10)\n",
    "    ax.xaxis.set_minor_locator(ticker.MultipleLocator(1))\n",
    "    ax.tick_params(axis=\"x\", which=\"minor\", direction=\"out\")\n",
    "\n",
    "    return plt\n"
   ]
  },
  {
   "cell_type": "code",
   "execution_count": 11,
   "metadata": {},
   "outputs": [
    {
     "ename": "KeyError",
     "evalue": "21",
     "output_type": "error",
     "traceback": [
      "\u001b[0;31m---------------------------------------------------------------------------\u001b[0m",
      "\u001b[0;31mKeyError\u001b[0m                                  Traceback (most recent call last)",
      "\u001b[0;32m/tmp/ipykernel_2184820/2730344813.py\u001b[0m in \u001b[0;36m<module>\u001b[0;34m\u001b[0m\n\u001b[0;32m----> 1\u001b[0;31m \u001b[0mplot\u001b[0m \u001b[0;34m=\u001b[0m \u001b[0mmake_pareto_plot2\u001b[0m\u001b[0;34m(\u001b[0m\u001b[0mresults\u001b[0m\u001b[0;34m,\u001b[0m \u001b[0mimportant_complexities\u001b[0m\u001b[0;34m=\u001b[0m\u001b[0;32mNone\u001b[0m\u001b[0;34m,\u001b[0m \u001b[0mrmse\u001b[0m\u001b[0;34m=\u001b[0m\u001b[0;32mTrue\u001b[0m\u001b[0;34m,\u001b[0m \u001b[0mplot_unimportant\u001b[0m\u001b[0;34m=\u001b[0m\u001b[0;32mFalse\u001b[0m\u001b[0;34m)\u001b[0m\u001b[0;34m\u001b[0m\u001b[0;34m\u001b[0m\u001b[0m\n\u001b[0m\u001b[1;32m      2\u001b[0m \u001b[0mplot\u001b[0m\u001b[0;34m.\u001b[0m\u001b[0msavefig\u001b[0m\u001b[0;34m(\u001b[0m\u001b[0;34m'graphics/small_pareto_plot_new.svg'\u001b[0m\u001b[0;34m,\u001b[0m \u001b[0mbbox_inches\u001b[0m\u001b[0;34m=\u001b[0m\u001b[0;34m'tight'\u001b[0m\u001b[0;34m,\u001b[0m \u001b[0mformat\u001b[0m\u001b[0;34m=\u001b[0m\u001b[0;34m'svg'\u001b[0m\u001b[0;34m)\u001b[0m\u001b[0;34m\u001b[0m\u001b[0;34m\u001b[0m\u001b[0m\n\u001b[1;32m      3\u001b[0m \u001b[0mplot\u001b[0m\u001b[0;34m.\u001b[0m\u001b[0mshow\u001b[0m\u001b[0;34m(\u001b[0m\u001b[0;34m)\u001b[0m\u001b[0;34m\u001b[0m\u001b[0;34m\u001b[0m\u001b[0m\n",
      "\u001b[0;32m/tmp/ipykernel_2184820/3495708593.py\u001b[0m in \u001b[0;36mmake_pareto_plot2\u001b[0;34m(results, important_complexities, rmse, plot_unimportant)\u001b[0m\n\u001b[1;32m      6\u001b[0m     \u001b[0;32mif\u001b[0m \u001b[0mrmse\u001b[0m\u001b[0;34m:\u001b[0m\u001b[0;34m\u001b[0m\u001b[0;34m\u001b[0m\u001b[0m\n\u001b[1;32m      7\u001b[0m         \u001b[0mrmse_vals\u001b[0m \u001b[0;34m=\u001b[0m \u001b[0mget_k_rmse_values\u001b[0m\u001b[0;34m(\u001b[0m\u001b[0;34m)\u001b[0m\u001b[0;34m[\u001b[0m\u001b[0;36m2\u001b[0m\u001b[0;34m]\u001b[0m\u001b[0;34m\u001b[0m\u001b[0;34m\u001b[0m\u001b[0m\n\u001b[0;32m----> 8\u001b[0;31m         \u001b[0mresults\u001b[0m\u001b[0;34m[\u001b[0m\u001b[0;34m'rmse'\u001b[0m\u001b[0;34m]\u001b[0m \u001b[0;34m=\u001b[0m \u001b[0;34m[\u001b[0m\u001b[0mrmse_vals\u001b[0m\u001b[0;34m[\u001b[0m\u001b[0mc\u001b[0m\u001b[0;34m]\u001b[0m \u001b[0;32mfor\u001b[0m \u001b[0mc\u001b[0m \u001b[0;32min\u001b[0m \u001b[0mresults\u001b[0m\u001b[0;34m[\u001b[0m\u001b[0;34m'complexity'\u001b[0m\u001b[0;34m]\u001b[0m\u001b[0;34m]\u001b[0m\u001b[0;34m\u001b[0m\u001b[0;34m\u001b[0m\u001b[0m\n\u001b[0m\u001b[1;32m      9\u001b[0m \u001b[0;34m\u001b[0m\u001b[0m\n\u001b[1;32m     10\u001b[0m     \u001b[0;32mif\u001b[0m \u001b[0mplot_unimportant\u001b[0m\u001b[0;34m:\u001b[0m\u001b[0;34m\u001b[0m\u001b[0;34m\u001b[0m\u001b[0m\n",
      "\u001b[0;32m/tmp/ipykernel_2184820/3495708593.py\u001b[0m in \u001b[0;36m<listcomp>\u001b[0;34m(.0)\u001b[0m\n\u001b[1;32m      6\u001b[0m     \u001b[0;32mif\u001b[0m \u001b[0mrmse\u001b[0m\u001b[0;34m:\u001b[0m\u001b[0;34m\u001b[0m\u001b[0;34m\u001b[0m\u001b[0m\n\u001b[1;32m      7\u001b[0m         \u001b[0mrmse_vals\u001b[0m \u001b[0;34m=\u001b[0m \u001b[0mget_k_rmse_values\u001b[0m\u001b[0;34m(\u001b[0m\u001b[0;34m)\u001b[0m\u001b[0;34m[\u001b[0m\u001b[0;36m2\u001b[0m\u001b[0;34m]\u001b[0m\u001b[0;34m\u001b[0m\u001b[0;34m\u001b[0m\u001b[0m\n\u001b[0;32m----> 8\u001b[0;31m         \u001b[0mresults\u001b[0m\u001b[0;34m[\u001b[0m\u001b[0;34m'rmse'\u001b[0m\u001b[0;34m]\u001b[0m \u001b[0;34m=\u001b[0m \u001b[0;34m[\u001b[0m\u001b[0mrmse_vals\u001b[0m\u001b[0;34m[\u001b[0m\u001b[0mc\u001b[0m\u001b[0;34m]\u001b[0m \u001b[0;32mfor\u001b[0m \u001b[0mc\u001b[0m \u001b[0;32min\u001b[0m \u001b[0mresults\u001b[0m\u001b[0;34m[\u001b[0m\u001b[0;34m'complexity'\u001b[0m\u001b[0;34m]\u001b[0m\u001b[0;34m]\u001b[0m\u001b[0;34m\u001b[0m\u001b[0;34m\u001b[0m\u001b[0m\n\u001b[0m\u001b[1;32m      9\u001b[0m \u001b[0;34m\u001b[0m\u001b[0m\n\u001b[1;32m     10\u001b[0m     \u001b[0;32mif\u001b[0m \u001b[0mplot_unimportant\u001b[0m\u001b[0;34m:\u001b[0m\u001b[0;34m\u001b[0m\u001b[0;34m\u001b[0m\u001b[0m\n",
      "\u001b[0;31mKeyError\u001b[0m: 21"
     ]
    }
   ],
   "source": [
    "plot = make_pareto_plot2(results, important_complexities=None, rmse=True, plot_unimportant=False)\n",
    "plot.savefig('graphics/small_pareto_plot_new.svg', bbox_inches='tight', format='svg')\n",
    "plot.show()"
   ]
  },
  {
   "cell_type": "code",
   "execution_count": null,
   "metadata": {},
   "outputs": [],
   "source": [
    "plot = make_pareto_plot(results, important_complexities=None, rmse=True, plot_unimportant=False)\n",
    "plot.savefig('graphics/pareto_fig1_new.svg')\n",
    "# plot.savefig('graphics/pareto_fig1.png', dpi=400)\n",
    "# plot.show()\n"
   ]
  },
  {
   "cell_type": "code",
   "execution_count": 20,
   "metadata": {},
   "outputs": [],
   "source": [
    "results = pickle.load(open('pickles/nn_and_petit_results_test.pkl', 'rb'))\n",
    "nn_rmse = results['rmse']\n",
    "petit_rmse = results['petit_rmse']\n",
    "\n",
    "def bar_chart():\n",
    "    rmse_values = get_k_rmse_values()[2]\n",
    "    eq_rmse = min(rmse_values.values())\n",
    "    # nn_rmse and petit_rmse already calculated above\n",
    "\n",
    "    plt.figure(figsize=(4, 3))  # Width = 10 inches, Height = 6 inches\n",
    "    plt.bar(['NN', 'Equations', 'Petit+ 2020'], [nn_rmse, eq_rmse, petit_rmse], color=['blue', 'green', 'red'])\n",
    "    # add value label above each bar\n",
    "    for i, v in enumerate([nn_rmse, eq_rmse, petit_rmse]):\n",
    "        plt.text(i, v + 0.05, str(round(v, 2)), ha='center', va='bottom')\n",
    "    plt.ylabel('RMSE')\n",
    "    plt.ylim(0, 4)\n",
    "    # make y axis ticks just integers\n",
    "    plt.gca().yaxis.set_major_locator(ticker.MaxNLocator(integer=True))\n",
    "    plt.savefig('graphics/bar_chart.png')\n",
    "    plt.show()\n",
    "\n",
    "bar_chart()"
   ]
  }
 ],
 "metadata": {
  "kernelspec": {
   "display_name": "Python 3",
   "language": "python",
   "name": "python3"
  },
  "language_info": {
   "codemirror_mode": {
    "name": "ipython",
    "version": 3
   },
   "file_extension": ".py",
   "mimetype": "text/x-python",
   "name": "python",
   "nbconvert_exporter": "python",
   "pygments_lexer": "ipython3",
   "version": "3.7.12"
  }
 },
 "nbformat": 4,
 "nbformat_minor": 2
}
