{
 "cells": [
  {
   "cell_type": "code",
   "execution_count": 3,
   "metadata": {},
   "outputs": [],
   "source": [
    "%load_ext autoreload\n",
    "%autoreload 2"
   ]
  },
  {
   "cell_type": "code",
   "execution_count": null,
   "metadata": {},
   "outputs": [],
   "source": [
    "import os\n",
    "os.environ['PYSR_AUTOLOAD_EXTENSIONS'] = 'no'\n",
    "from matplotlib import pyplot as plt\n",
    "from utils import load_pickle\n",
    "import pandas as pd\n",
    "pd.set_option('display.max_colwidth', None)\n",
    "%matplotlib inline\n",
    "plt.rcParams[\"font.family\"] = \"serif\""
   ]
  },
  {
   "cell_type": "code",
   "execution_count": 5,
   "metadata": {},
   "outputs": [
    {
     "name": "stderr",
     "output_type": "stream",
     "text": [
      "/home/sca63/.conda/envs/new_bnn/lib/python3.7/site-packages/juliacall/__init__.py:61: UserWarning: torch was imported before juliacall. This may cause a segfault. To avoid this, import juliacall before importing torch. For updates, see https://github.com/pytorch/pytorch/issues/78829.\n",
      "  \"torch was imported before juliacall. This may cause a segfault. \"\n"
     ]
    }
   ],
   "source": [
    "from interpret import *"
   ]
  },
  {
   "cell_type": "code",
   "execution_count": 6,
   "metadata": {},
   "outputs": [],
   "source": [
    "version = 24880\n",
    "# version = 11656\n",
    "pysr_version = 11003\n",
    "# pysr_version = 82031\n",
    "\n",
    "feature_nn = get_feature_nn(version)\n",
    "results = get_pysr_results(pysr_version, version=version, include_ssx=False, feature_nn=feature_nn)\n",
    "important_complexities = None"
   ]
  },
  {
   "cell_type": "code",
   "execution_count": 7,
   "metadata": {},
   "outputs": [
    {
     "name": "stdout",
     "output_type": "stream",
     "text": [
      "c26, val: 1.34, test: 1.34, random: 1.42\n",
      "Equation complexity with best error on validation set: 26\n",
      "Error for best equation on resonant test set: 1.342, random: 1.419\n"
     ]
    }
   ],
   "source": [
    "test_results = load_pickle(f'pickles/pysr_results_all_{version}_{pysr_version}.pkl')\n",
    "complexity, val_error, test_error, random_error = best_result(test_results)\n",
    "print('Equation complexity with best error on validation set:', complexity)\n",
    "print(f'Error for best equation on resonant test set: {test_error:.3f}, random: {random_error:.3f}')"
   ]
  },
  {
   "cell_type": "code",
   "execution_count": 8,
   "metadata": {},
   "outputs": [
    {
     "name": "stdout",
     "output_type": "stream",
     "text": [
      "\\begin{align*}\n",
      "    &0^*: 14.0  e_1 - 35.0  e_2 + 0.911 \\\\ \n",
      "    &1: 210  a_1 + 85400  m_1 - 211 \\\\ \n",
      "    &2: 27000  m_1 - 4.02  a_3 + 6.01 \\\\ \n",
      "    &3^*: 0.764  \\sin\\Omega_3 - 1.10  \\sin\\Omega_2 + 0.00289 \\\\ \n",
      "    &4: 14.0  a_3 - 27.5  a_2 + 12.5 \\\\ \n",
      "    &5^*: 29.1  e_3 + 1.47  e_1 - 1.34 \\\\ \n",
      "    &6: 13.1  i_3 + 37.5  i_2 - 1.38 \\\\ \n",
      "    &7: 58400  m_2 - 4.92  e_3 - 0.725 \\\\ \n",
      "    &8: 21.1  e_1 - 4.48  e_3 - 0.948 \\\\ \n",
      "    &9^*: 0.957  e_1 + 64600  m_3 - 0.839 \\\\ \n",
      "\\end{align*}\n"
     ]
    }
   ],
   "source": [
    "f1_str = f1_latex_string(feature_nn, include_ssx=True, include_ssx_bias=True, pysr_results=results)\n",
    "print(f1_str)"
   ]
  },
  {
   "cell_type": "code",
   "execution_count": 9,
   "metadata": {},
   "outputs": [
    {
     "name": "stdout",
     "output_type": "stream",
     "text": [
      "\\begin{table}[h]\n",
      "\\begin{center}\n",
      "\\begin{tabular}{@{}ccc@{}}\n",
      "\\toprule\n",
      "Equation & Complexity & RMSE \\\\\n",
      "\\midrule\n",
      "$\\log_{10} T_{\\text{inst}} = 7.0$ & $1$ & $1.66$ \\\\\n",
      "$\\log_{10} T_{\\text{inst}} = 7.0 - \\mu_{2}$ & $3$ & $1.66$ \\\\\n",
      "$\\log_{10} T_{\\text{inst}} = 7.2 - \\sin{\\left(\\mu_{2} \\right)}$ & $4$ & $1.62$ \\\\\n",
      "$\\log_{10} T_{\\text{inst}} = \\frac{3.6}{\\sigma_{4}^{0.15}}$ & $5$ & $1.62$ \\\\\n",
      "$\\log_{10} T_{\\text{inst}} = - \\mu_{2} + \\frac{3.6}{\\sigma_{4}^{0.16}}$ & $7$ & $1.52$ \\\\\n",
      "$\\log_{10} T_{\\text{inst}} = - \\mu_{2} + \\left(\\sigma_{1} \\sigma_{4}\\right)^{-0.16} + 3.6$ & $9$ & $1.53$ \\\\\n",
      "\\begin{minipage}{0.8\\linewidth} \\vspace{-1em} \\begin{dmath*} \\log_{10} T_{\\text{inst}} = 0.14^{\\sigma_{1}} \\left(- \\mu_{2} + \\sigma_{4}^{-0.31}\\right) + 3.7 \\end{dmath*} \\end{minipage} & $11$ & $1.45$ \\\\\n",
      "\\begin{minipage}{0.8\\linewidth} \\vspace{-1em} \\begin{dmath*} \\log_{10} T_{\\text{inst}} = 0.16^{\\sigma_{1}} \\left(- \\mu_{2} + \\sigma_{4}^{-0.32} - \\sigma_{6}\\right) + 3.7 \\end{dmath*} \\end{minipage} & $13$ & $1.44$ \\\\\n",
      "\\begin{minipage}{0.8\\linewidth} \\vspace{-1em} \\begin{dmath*} \\log_{10} T_{\\text{inst}} = 0.059^{\\sigma_{1}} \\left(\\mu_{7} + \\sigma_{4}^{-0.33} - \\sin{\\left(\\mu_{2} \\right)}\\right) + 3.7 \\end{dmath*} \\end{minipage} & $14$ & $1.41$ \\\\\n",
      "\\begin{minipage}{0.8\\linewidth} \\vspace{-1em} \\begin{dmath*} \\log_{10} T_{\\text{inst}} = 0.086^{\\sigma_{1}} \\left(- 0.67 \\mu_{2} + 0.67 \\mu_{7} + \\sigma_{4}^{-0.33}\\right) + 3.5 \\end{dmath*} \\end{minipage} & $15$ & $1.43$ \\\\\n",
      "\\begin{minipage}{0.8\\linewidth} \\vspace{-1em} \\begin{dmath*} \\log_{10} T_{\\text{inst}} = \\left(0.059^{\\sigma_{1}} - \\sigma_{2}\\right) \\left(\\mu_{7} + \\sigma_{4}^{-0.33} - \\sin{\\left(\\mu_{2} \\right)}\\right) + 3.7 \\end{dmath*} \\end{minipage} & $16$ & $1.40$ \\\\\n",
      "\\begin{minipage}{0.8\\linewidth} \\vspace{-1em} \\begin{dmath*} \\log_{10} T_{\\text{inst}} = 0.084^{\\sigma_{1}} \\left(- 0.67 \\mu_{2} + 0.67 \\mu_{7} + \\sigma_{4}^{-0.33} - 0.67 \\sigma_{6}\\right) + 3.7 \\end{dmath*} \\end{minipage} & $17$ & $1.42$ \\\\\n",
      "\\begin{minipage}{0.8\\linewidth} \\vspace{-1em} \\begin{dmath*} \\log_{10} T_{\\text{inst}} = 0.059^{\\sigma_{1}} \\left(\\mu_{7} + \\left(\\sigma_{4} \\sigma_{6}^{0.22}\\right)^{-0.31} - \\sin{\\left(\\mu_{2} \\right)}\\right) + 3.5 \\end{dmath*} \\end{minipage} & $18$ & $1.40$ \\\\\n",
      "\\begin{minipage}{0.8\\linewidth} \\vspace{-1em} \\begin{dmath*} \\log_{10} T_{\\text{inst}} = 0.059^{\\sigma_{1}} \\left(\\mu_{7} + \\left(\\sigma_{4} \\sigma_{6}^{0.22}\\right)^{-0.31} - \\sin{\\left(\\mu_{2} \\right)}\\right) + 3.5 \\end{dmath*} \\end{minipage} & $19$ & $1.40$ \\\\\n",
      "\\begin{minipage}{0.8\\linewidth} \\vspace{-1em} \\begin{dmath*} \\log_{10} T_{\\text{inst}} = 0.059^{\\sigma_{1}} \\left(\\mu_{7} - \\sigma_{8} + \\left(\\sigma_{4} \\sigma_{6}^{0.23}\\right)^{-0.31} - \\sin{\\left(\\mu_{2} \\right)}\\right) + 3.7 \\end{dmath*} \\end{minipage} & $20$ & $1.39$ \\\\\n",
      "\\begin{minipage}{0.8\\linewidth} \\vspace{-1em} \\begin{dmath*} \\log_{10} T_{\\text{inst}} = 0.067^{\\sigma_{1}} \\left(\\mu_{7} - \\sigma_{8} + \\left(\\sigma_{6}^{0.35} \\left(\\sigma_{2} + \\sigma_{4}\\right)\\right)^{-0.31} - \\sin{\\left(\\mu_{2} \\right)}\\right) + 3.7 \\end{dmath*} \\end{minipage} & $22$ & $1.37$ \\\\\n",
      "\\begin{minipage}{0.8\\linewidth} \\vspace{-1em} \\begin{dmath*} \\log_{10} T_{\\text{inst}} = 0.059^{\\sigma_{1}} \\left(\\mu_{7} - \\sigma_{8} + \\left(\\left(\\sigma_{2} + \\sigma_{4}\\right) \\sin{\\left(\\sigma_{6}^{0.35} \\right)}\\right)^{-0.31} - \\sin{\\left(\\mu_{2} \\right)}\\right) + 3.7 \\end{dmath*} \\end{minipage} & $23$ & $1.38$ \\\\\n",
      "\\begin{minipage}{0.8\\linewidth} \\vspace{-1em} \\begin{dmath*} \\log_{10} T_{\\text{inst}} = 0.086^{\\sigma_{1}} \\cdot \\left(0.82 \\mu_{7} - 0.82 \\sigma_{8} + \\left(\\sigma_{6}^{0.35} \\left(\\sigma_{2} + \\sigma_{4}\\right)\\right)^{-0.31} - \\sin{\\left(\\mu_{2} \\right)}\\right) + 3.7 \\end{dmath*} \\end{minipage} & $24$ & $1.37$ \\\\\n",
      "\\begin{minipage}{0.8\\linewidth} \\vspace{-1em} \\begin{dmath*} \\log_{10} T_{\\text{inst}} = \\left(0.059^{\\sigma_{1}} - \\sigma_{2}\\right) \\left(\\mu_{7} - \\sigma_{8} + \\left(\\left(\\sigma_{2} + \\sigma_{4}\\right) \\sin{\\left(\\sigma_{6}^{0.35} \\right)}\\right)^{-0.31} - \\sin{\\left(\\mu_{2} \\right)}\\right) + 3.7 \\end{dmath*} \\end{minipage} & $25$ & $1.37$ \\\\\n",
      "\\begin{minipage}{0.8\\linewidth} \\vspace{-1em} \\begin{dmath*} \\log_{10} T_{\\text{inst}} = 0.084^{\\sigma_{1}} \\left(\\left(\\sigma_{6}^{0.36} \\left(\\sigma_{2} + \\sigma_{4}\\right)\\right)^{-0.31} - \\sin{\\left(\\mu_{2} \\right)} + 1.2^{- \\mu_{1}} \\left(\\mu_{7} - \\sigma_{8}\\right)\\right) + 3.7 \\end{dmath*} \\end{minipage} & $26$ & $1.34$ \\\\\n",
      "\\begin{minipage}{0.8\\linewidth} \\vspace{-1em} \\begin{dmath*} \\log_{10} T_{\\text{inst}} = 3.2 + \\frac{- \\mu_{2} + 0.36 \\mu_{7} - 0.36 \\mu_{8} + \\left(\\sigma_{4} \\sigma_{6}^{0.15}\\right)^{-0.31}}{\\sigma_{1} + \\sigma_{4} + \\left(1.1^{\\mu_{4}}\\right)^{0.20}} \\end{dmath*} \\end{minipage} & $27$ & $1.39$ \\\\\n",
      "\\begin{minipage}{0.8\\linewidth} \\vspace{-1em} \\begin{dmath*} \\log_{10} T_{\\text{inst}} = 3.4 + \\frac{- \\mu_{2} + 0.40 \\mu_{7} - 0.40 \\mu_{8} + \\left(\\sigma_{4} \\sigma_{6}^{0.17}\\right)^{-0.31}}{2.2 \\sigma_{1} + 2.2 \\sigma_{4} + \\left(1.1^{\\mu_{4}}\\right)^{0.19}} \\end{dmath*} \\end{minipage} & $29$ & $1.40$ \\\\\n",
      "\\begin{minipage}{0.8\\linewidth} \\vspace{-1em} \\begin{dmath*} \\log_{10} T_{\\text{inst}} = 3.4 + \\frac{- \\mu_{2} + 0.40 \\mu_{7} - 0.40 \\mu_{8} + \\left(\\sigma_{4} \\sigma_{6}^{0.17}\\right)^{-0.31}}{2.2 \\sigma_{1} + 2.2 \\sigma_{4} + \\left(0.91^{\\mu_{4}}\\right)^{-0.21}} \\end{dmath*} \\end{minipage} & $30$ & $1.40$ \\\\\n",
      "\\bottomrule\n",
      "\\end{tabular}\n",
      "\\end{center}\n",
      "\\end{table}\n"
     ]
    }
   ],
   "source": [
    "f2_str = f2_latex_str(results, mapping_dict=None)\n",
    "print(f2_str)"
   ]
  },
  {
   "cell_type": "code",
   "execution_count": 16,
   "metadata": {},
   "outputs": [],
   "source": [
    "nn_results = load_pickle(f'pickles/nn_results_all_12318.pkl')\n",
    "petit_results = load_pickle('pickles/petit_results_all.pkl')\n",
    "pure_sr_results = load_pickle('pickles/pure_sr_results_all_83941.pkl')\n",
    "direct_sr_results = load_pickle('pickles/pysr_results_all_28114_9054.pkl')\n",
    "pysr_results = load_pickle(f'pickles/pysr_results_all_{version}_{pysr_version}.pkl')"
   ]
  },
  {
   "cell_type": "code",
   "execution_count": 17,
   "metadata": {},
   "outputs": [],
   "source": [
    "pysr_c, _ = min(pysr_results['val'].items(), key=lambda e: e[1])\n",
    "pure_c, _ = min(pure_sr_results['val'].items(), key=lambda e: e[1])\n",
    "direct_c, _ = min(direct_sr_results['val'].items(), key=lambda e: e[1])"
   ]
  },
  {
   "cell_type": "code",
   "execution_count": 18,
   "metadata": {},
   "outputs": [
    {
     "name": "stdout",
     "output_type": "stream",
     "text": [
      "NN: resonant: 0.961, random 1.059\n",
      "Ours: resonant: 1.342, random 1.419\n",
      "Petit: resonant: 3.129, random 3.004\n",
      "Direct SR: resonant: 1.250, random 1.329\n",
      "Pure SR: resonant: 1.360, random 1.397\n"
     ]
    }
   ],
   "source": [
    "# table for paper\n",
    "print(f'NN: resonant: {nn_results[\"test\"]:.3f}, random {nn_results[\"random\"]:.3f}')\n",
    "print(f'Ours: resonant: {pysr_results[\"test\"][pysr_c]:.3f}, random {pysr_results[\"random\"][pysr_c]:.3f}')\n",
    "print(f'Petit: resonant: {petit_results[\"test\"]:.3f}, random {petit_results[\"random\"]:.3f}')\n",
    "print(f'Direct SR: resonant: {direct_sr_results[\"test\"][direct_c]:.3f}, random {direct_sr_results[\"random\"][direct_c]:.3f}')\n",
    "print(f'Pure SR: resonant: {pure_sr_results[\"test\"][pure_c]:.3f}, random {pure_sr_results[\"random\"][pure_c]:.3f}')"
   ]
  },
  {
   "cell_type": "code",
   "execution_count": 19,
   "metadata": {},
   "outputs": [],
   "source": [
    "nn_rmse = nn_results['test']\n",
    "pysr_rmse = pysr_results['test'][pysr_c]\n",
    "petit_rmse = petit_results['test']\n",
    "direct_sr_rmse = direct_sr_results['test'][direct_c]\n",
    "pure_sr_rmse = pure_sr_results['test'][pure_c]"
   ]
  },
  {
   "cell_type": "code",
   "execution_count": 20,
   "metadata": {},
   "outputs": [],
   "source": [
    "important_complexities = results['complexity'].tolist()\n",
    "important_complexities, _ = paretoize(important_complexities, results['rmse'].tolist(), replace=False)"
   ]
  },
  {
   "cell_type": "code",
   "execution_count": null,
   "metadata": {},
   "outputs": [],
   "source": [
    "# making the pareto plot\n",
    "def make_pareto_plot(results, important_complexities=None, rmse=True, plot_unimportant=False):\n",
    "    plt.rcParams[\"font.family\"] = \"serif\"\n",
    "    plt.figure(figsize=(8, 4.8))  # Width = 10 inches, Height = 6 inches\n",
    "    ax = plt.gca()\n",
    "\n",
    "    if plot_unimportant:\n",
    "        ax.scatter(results['complexity'], results['rmse' if rmse else 'loss'], s=12)\n",
    "\n",
    "    ax.set_xlabel('Equation complexity', fontsize=12, labelpad=10)\n",
    "\n",
    "    ax.set_ylabel('RMSE' if rmse else 'Loss', fontsize=12, labelpad=10)\n",
    "\n",
    "    if important_complexities:\n",
    "        important_ixs = get_important_ixs(results, important_complexities)\n",
    "        important_ys = [results['rmse' if rmse else 'loss'][i] for i in important_ixs]\n",
    "        ax.scatter(important_complexities, important_ys, color='red' if plot_unimportant else None, s=22)\n",
    "        ax.plot(important_complexities, important_ys, color='red' if plot_unimportant else None, label='Ours')\n",
    "\n",
    "    ax.spines['top'].set_visible(False)\n",
    "    ax.spines['right'].set_visible(False)\n",
    "\n",
    "    ax.tick_params(axis='both', which='major', labelsize=10)\n",
    "    # add minor tick marks\n",
    "    ax.xaxis.set_minor_locator(ticker.MultipleLocator(1))\n",
    "    # Make minor ticks point outward\n",
    "    ax.tick_params(axis=\"x\", which=\"minor\", direction=\"out\")\n",
    "\n",
    "    plt.ylim(1.25, 1.75)\n",
    "    return plt\n"
   ]
  },
  {
   "cell_type": "code",
   "execution_count": 38,
   "metadata": {},
   "outputs": [],
   "source": [
    "plot = make_pareto_plot(results, important_complexities=important_complexities, rmse=True, plot_unimportant=False)\n",
    "plot.savefig('graphics/pareto_fig1.svg')"
   ]
  }
 ],
 "metadata": {
  "kernelspec": {
   "display_name": "Python 3",
   "language": "python",
   "name": "python3"
  },
  "language_info": {
   "codemirror_mode": {
    "name": "ipython",
    "version": 3
   },
   "file_extension": ".py",
   "mimetype": "text/x-python",
   "name": "python",
   "nbconvert_exporter": "python",
   "pygments_lexer": "ipython3",
   "version": "3.7.12"
  }
 },
 "nbformat": 4,
 "nbformat_minor": 2
}
