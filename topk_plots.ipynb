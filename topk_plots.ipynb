{
 "cells": [
  {
   "cell_type": "code",
   "execution_count": 1,
   "metadata": {},
   "outputs": [],
   "source": [
    "# import torch\n",
    "import pickle\n",
    "from matplotlib import pyplot as plt\n",
    "import numpy as np\n",
    "import pandas as pd"
   ]
  },
  {
   "cell_type": "code",
   "execution_count": 2,
   "metadata": {},
   "outputs": [
    {
     "name": "stdout",
     "output_type": "stream",
     "text": [
      "Detected Jupyter notebook. Loading juliacall extension. Set `PYSR_AUTOLOAD_EXTENSIONS=no` to disable.\n"
     ]
    }
   ],
   "source": [
    "version = 11003\n",
    "\n",
    "results_path = f'sr_results/{version}.pkl'\n",
    "reg = pickle.load(open(results_path, 'rb'))\n",
    "# assert len(reg.equations_) == 2\n",
    "# results = reg.equations_[0]  # equations for predicting the mean"
   ]
  },
  {
   "cell_type": "code",
   "execution_count": 3,
   "metadata": {},
   "outputs": [],
   "source": [
    "results = reg.equations_[0]"
   ]
  },
  {
   "cell_type": "code",
   "execution_count": 4,
   "metadata": {},
   "outputs": [],
   "source": [
    "def number_of_variables_in_expression(equation: str):\n",
    "    # assumes each variable is m{i} or s{i}\n",
    "    # so we can just count the number of s's and count the number of m's\n",
    "    # checking for a number after so \"sin\" doesn't get counted\n",
    "    # assume max feature dim from f1 is 100\n",
    "    count = 0\n",
    "    for i in range(100):\n",
    "        if 'm' + str(i) in equation:\n",
    "            count += 1\n",
    "        if 's' + str(i) in equation:\n",
    "            count += 1\n",
    "\n",
    "    return count"
   ]
  },
  {
   "cell_type": "code",
   "execution_count": 5,
   "metadata": {},
   "outputs": [],
   "source": [
    "def overall_complexity(entry: pd.Series, k: int):\n",
    "    complexity = entry['complexity']\n",
    "    # return complexity\n",
    "    num_variables = number_of_variables_in_expression(entry.equation)\n",
    "    return complexity + (3 * k - 2) * num_variables"
   ]
  },
  {
   "cell_type": "code",
   "execution_count": 6,
   "metadata": {},
   "outputs": [],
   "source": [
    "def get_important_complexities(results, loss_gap = 0.25):\n",
    "    complexities = list(results['complexity'])\n",
    "    losses = list(results['loss'])\n",
    "    assert sorted(losses) == losses[::-1]\n",
    "\n",
    "    # important complexities are those that decrease the loss by more than loss_gap since the previous important complexity.\n",
    "    important_complexities = [complexities[0]]\n",
    "    current_loss = losses[0]\n",
    "\n",
    "    for i in range(1, len(complexities)):\n",
    "        if current_loss - losses[i] > loss_gap:\n",
    "            important_complexities.append(complexities[i])\n",
    "            current_loss = losses[i]\n",
    "\n",
    "    # automatically include the highest complexity too\n",
    "    if complexities[-1] != important_complexities[-1]:\n",
    "        important_complexities.append(complexities[-1])\n",
    "\n",
    "    return important_complexities"
   ]
  },
  {
   "cell_type": "code",
   "execution_count": 7,
   "metadata": {},
   "outputs": [],
   "source": [
    "k_results = pickle.load(open('k_results2.pkl', 'rb'))\n"
   ]
  },
  {
   "cell_type": "code",
   "execution_count": 8,
   "metadata": {},
   "outputs": [
    {
     "data": {
      "text/plain": [
       "{2: {1: 1.6445731477089376,\n",
       "  3: 1.6321077422919545,\n",
       "  4: 1.6006575097681797,\n",
       "  5: 1.6285339954682407,\n",
       "  7: 1.5244838153684388,\n",
       "  9: 1.5378891398156485,\n",
       "  11: 1.4493469839608395,\n",
       "  13: 1.442788719756277,\n",
       "  14: 1.4146021029426112,\n",
       "  15: 1.4372154451769235,\n",
       "  16: 1.407606487887196,\n",
       "  17: 1.4244493089669876,\n",
       "  18: 1.4089017238334829,\n",
       "  19: 1.4088706287637414,\n",
       "  20: 1.4017068165590165,\n",
       "  22: 1.3785276244352802,\n",
       "  23: 1.3849679559657035,\n",
       "  24: 1.3745628442284694,\n",
       "  25: 1.378958033813192,\n",
       "  26: 1.344350946584523,\n",
       "  27: 1.4012807573521064,\n",
       "  29: 1.4052929906697569,\n",
       "  30: 1.405091932078851},\n",
       " 3: {1: 1.660671881091858,\n",
       "  3: 1.6223875467038784,\n",
       "  4: 1.645824223102835,\n",
       "  5: 1.6087717944301345,\n",
       "  7: 1.566291709764664,\n",
       "  8: 1.5516637025771356,\n",
       "  9: 1.5954111455445072,\n",
       "  11: 1.5025013889046088,\n",
       "  12: 1.5068639430016586,\n",
       "  13: 1.532051188228798,\n",
       "  14: 1.5195241893614078,\n",
       "  16: 1.484357010581781,\n",
       "  17: 1.4980780686533908,\n",
       "  18: 1.4782627549610652,\n",
       "  20: 1.4913909543643362,\n",
       "  22: 1.4469040639112754,\n",
       "  23: 1.45903078385861,\n",
       "  24: 1.4565968211005105,\n",
       "  25: 1.40838236732821,\n",
       "  26: 1.4361478001925159,\n",
       "  28: 1.3957556043399966,\n",
       "  29: 1.3950865251786304,\n",
       "  30: 1.3889058663072333},\n",
       " 4: {1: 1.6985138231129908,\n",
       "  3: 1.7169969808810779,\n",
       "  5: 1.658795254398325,\n",
       "  7: 1.5621719015876143,\n",
       "  9: 1.4669655856495,\n",
       "  10: 1.5309104542972258,\n",
       "  11: 1.458765465426409,\n",
       "  12: 1.4129702738870007,\n",
       "  13: 1.4891190060824968,\n",
       "  14: 1.473584032104536,\n",
       "  15: 1.4515675227444804,\n",
       "  16: 1.4094358173113515,\n",
       "  18: 1.3496736767876436,\n",
       "  19: 1.3482299026046725,\n",
       "  20: 1.3598241392902422,\n",
       "  21: 1.3397584671148728,\n",
       "  23: 1.3370169578395545,\n",
       "  24: 1.3116329599013719,\n",
       "  26: 1.3186849912556922,\n",
       "  27: 1.3215301135901096,\n",
       "  29: 1.3152794699080066},\n",
       " 5: {1: 1.6461179784902682,\n",
       "  3: 1.57802657018709,\n",
       "  5: 1.5508143039515003,\n",
       "  7: 1.5106613048756845,\n",
       "  8: 1.5097573343027133,\n",
       "  9: 1.5057887593891888,\n",
       "  11: 1.4256284867059665,\n",
       "  13: 1.4397586824288127,\n",
       "  14: 1.4208902155582568,\n",
       "  15: 1.4174879535788867,\n",
       "  16: 1.442838623920823,\n",
       "  17: 1.4438365101182473,\n",
       "  18: 1.3979516490684647,\n",
       "  19: 1.3979552305827114,\n",
       "  20: 1.3951680415130818,\n",
       "  21: 1.396264503082659,\n",
       "  22: 1.3880689468299348,\n",
       "  23: 1.3914759314864877,\n",
       "  24: 1.3793301889722656,\n",
       "  25: 1.381256219150817,\n",
       "  26: 1.4012880309607323,\n",
       "  27: 1.370364829513777,\n",
       "  28: 1.362678547630722,\n",
       "  30: 1.3559696030712212}}"
      ]
     },
     "execution_count": 8,
     "metadata": {},
     "output_type": "execute_result"
    }
   ],
   "source": [
    "k_results"
   ]
  },
  {
   "cell_type": "code",
   "execution_count": 9,
   "metadata": {},
   "outputs": [],
   "source": [
    "d = {2: {'version': 24880,\n",
    "         'pysr_version': 11003},\n",
    "        #  'complexities': [1, 3, 5, 7, 9, 11, 14, 20, 29, 30]},\n",
    "     3: {'version': 74649,\n",
    "         'pysr_version': 83278},\n",
    "        #  'complexities': [1, 3, 5, 7, 9, 13, 19, 35, 52, 60]},\n",
    "     4: {'version': 11566,\n",
    "         'pysr_version': 51254},\n",
    "        #  'complexities': [1, 3, 5, 7, 10, 12, 16, 23, 56, 60]},\n",
    "     5: {'version': 72646,\n",
    "         'pysr_version': 55894}}\n",
    "        #  'complexities': [1, 3, 5, 7, 11, 19, 27, 40, 59]}}"
   ]
  },
  {
   "cell_type": "code",
   "execution_count": 10,
   "metadata": {},
   "outputs": [],
   "source": [
    "# goal is to have a table with k, complexity, loss, overall_rmse, overall_complexity\n",
    "# 1. for each k, load the original PySR table\n",
    "# 2. get rid of columns except for complexity and loss\n",
    "# 3. filter to just the important complexities\n",
    "# 4. for each important complexity, get the overall complexity and rmse\n",
    "# k_results is a dict mapping k to a dict mapping an important complexity to rmse\n",
    "\n",
    "k_tables = {}\n",
    "for k, v in d.items():\n",
    "    # load the original PySR table\n",
    "    pysr_version = v['pysr_version']\n",
    "    results_path = f'sr_results/{pysr_version}.pkl'\n",
    "    reg = pickle.load(open(results_path, 'rb'))\n",
    "    results = reg.equations_[0]\n",
    "\n",
    "    # filter to just the important complexities\n",
    "    # important_complexities = v['complexities']\n",
    "    # results = results[results['complexity'].isin(important_complexities)]\n",
    "\n",
    "    # for each important complexity, get the overall complexity and rmse\n",
    "    results['overall_complexity'] = results.apply(lambda x: overall_complexity(x, k), axis=1)\n",
    "    results['rmse'] = results.apply(lambda x: k_results[k][x['complexity']], axis=1)\n",
    "\n",
    "    k_tables[k] = results\n",
    "\n",
    "\n",
    "# merge the tables into one with column k\n",
    "k_table = pd.concat([v.assign(k=k) for k, v in k_tables.items()])"
   ]
  },
  {
   "cell_type": "code",
   "execution_count": 11,
   "metadata": {},
   "outputs": [],
   "source": [
    "# arrange the columns in the table so that it goes k, overall_complexity, rmse, then the others\n",
    "cols = k_table.columns.tolist()\n",
    "cols = [c for c in cols if c not in ['k', 'rmse', 'overall_complexity']]\n",
    "cols = ['k', 'overall_complexity', 'rmse'] + cols\n",
    "k_table = k_table[cols]"
   ]
  },
  {
   "cell_type": "code",
   "execution_count": 12,
   "metadata": {},
   "outputs": [],
   "source": [
    "# save the k_table\n",
    "k_table.to_csv('k_table.csv', index=False)"
   ]
  },
  {
   "cell_type": "code",
   "execution_count": 13,
   "metadata": {},
   "outputs": [],
   "source": [
    "def plot(table, k):\n",
    "    # get subtable where k=k\n",
    "    table = table[table['k'] == k]\n",
    "    x = table['overall_complexity']\n",
    "    y = table['rmse']\n",
    "    plt.scatter(x, y, s=12)\n",
    "    plt.xlabel('Overall complexity', fontsize=14)\n",
    "    plt.ylabel('RMSE', fontsize=14)\n",
    "    plt.title(f'k = {k}', fontsize=14)\n",
    "    plt.tick_params(axis='both', which='major', labelsize=10)\n",
    "    plt.savefig(f'overall_complexity_{k}.png')\n",
    "    plt.show()"
   ]
  },
  {
   "cell_type": "code",
   "execution_count": 14,
   "metadata": {},
   "outputs": [],
   "source": [
    "f2_linear_df = pd.DataFrame({'k': [2, 5, 10, 20], 'rmse': [1.6071368459558846, 1.553364252893296, 1.572393983138787, 1.567916864697054]})"
   ]
  },
  {
   "cell_type": "code",
   "execution_count": 15,
   "metadata": {},
   "outputs": [],
   "source": [
    "# calculate overall complexity\n",
    "def overall_complexity_f2_linear(k):\n",
    "    '''\n",
    "    - k features. each feature is mean/std of a k=2 input feature, which has complexity 3.\n",
    "    - we do a linear combination of the k features, so that is 3k-1 complexity for that.\n",
    "    - also there's a bias term, so that adds complexity two (one for the constant, one for the additional plus)\n",
    "    - total complexity: 2 + (3k-1)*3 = 9k - 3 + 1 = 9k - 1\n",
    "    '''\n",
    "    return 9 * k - 1\n",
    "\n",
    "f2_linear_df['overall_complexity'] = f2_linear_df['k'].apply(overall_complexity_f2_linear)\n"
   ]
  },
  {
   "cell_type": "code",
   "execution_count": 16,
   "metadata": {},
   "outputs": [],
   "source": [
    "f1_id_results = pickle.load(open('f1_id_results.pkl', 'rb'))"
   ]
  },
  {
   "cell_type": "code",
   "execution_count": 17,
   "metadata": {},
   "outputs": [],
   "source": [
    "f1_id_results = pd.DataFrame(f1_id_results.items(), columns=['complexity', 'rmse'])"
   ]
  },
  {
   "cell_type": "code",
   "execution_count": 18,
   "metadata": {},
   "outputs": [],
   "source": [
    "# for f1 identity, overall complexity is just the pysr complexity!\n",
    "f1_id_results['overall_complexity'] = f1_id_results['complexity']"
   ]
  },
  {
   "cell_type": "code",
   "execution_count": 19,
   "metadata": {},
   "outputs": [],
   "source": [
    "pure_sr_results = pd.DataFrame([\n",
    "    (6, 3.0600863),\n",
    "    (7, 2.8464127),\n",
    "    (17, 2.807022),\n",
    "    (18, 2.7902508),\n",
    "    (20, 2.748974),\n",
    "    (23, 2.7496042)],\n",
    "    columns=['complexity', 'rmse'])"
   ]
  },
  {
   "cell_type": "code",
   "execution_count": 20,
   "metadata": {},
   "outputs": [
    {
     "data": {
      "text/html": [
       "<div>\n",
       "<style scoped>\n",
       "    .dataframe tbody tr th:only-of-type {\n",
       "        vertical-align: middle;\n",
       "    }\n",
       "\n",
       "    .dataframe tbody tr th {\n",
       "        vertical-align: top;\n",
       "    }\n",
       "\n",
       "    .dataframe thead th {\n",
       "        text-align: right;\n",
       "    }\n",
       "</style>\n",
       "<table border=\"1\" class=\"dataframe\">\n",
       "  <thead>\n",
       "    <tr style=\"text-align: right;\">\n",
       "      <th></th>\n",
       "      <th>complexity</th>\n",
       "      <th>rmse</th>\n",
       "    </tr>\n",
       "  </thead>\n",
       "  <tbody>\n",
       "    <tr>\n",
       "      <th>0</th>\n",
       "      <td>6</td>\n",
       "      <td>3.060086</td>\n",
       "    </tr>\n",
       "    <tr>\n",
       "      <th>1</th>\n",
       "      <td>7</td>\n",
       "      <td>2.846413</td>\n",
       "    </tr>\n",
       "    <tr>\n",
       "      <th>2</th>\n",
       "      <td>17</td>\n",
       "      <td>2.807022</td>\n",
       "    </tr>\n",
       "    <tr>\n",
       "      <th>3</th>\n",
       "      <td>18</td>\n",
       "      <td>2.790251</td>\n",
       "    </tr>\n",
       "    <tr>\n",
       "      <th>4</th>\n",
       "      <td>20</td>\n",
       "      <td>2.748974</td>\n",
       "    </tr>\n",
       "    <tr>\n",
       "      <th>5</th>\n",
       "      <td>23</td>\n",
       "      <td>2.749604</td>\n",
       "    </tr>\n",
       "  </tbody>\n",
       "</table>\n",
       "</div>"
      ],
      "text/plain": [
       "   complexity      rmse\n",
       "0           6  3.060086\n",
       "1           7  2.846413\n",
       "2          17  2.807022\n",
       "3          18  2.790251\n",
       "4          20  2.748974\n",
       "5          23  2.749604"
      ]
     },
     "execution_count": 20,
     "metadata": {},
     "output_type": "execute_result"
    }
   ],
   "source": [
    "pure_sr_results"
   ]
  },
  {
   "cell_type": "code",
   "execution_count": 21,
   "metadata": {},
   "outputs": [],
   "source": [
    "def plot_all(table):\n",
    "    plt.figure(figsize=(10, 6))\n",
    "    for kk in table['k'].unique():\n",
    "        sub = table[table['k'] == kk].sort_values('overall_complexity')\n",
    "        x = sub['overall_complexity']\n",
    "        y = sub['rmse']\n",
    "        plt.plot(x, y, marker='^', label=f'k = {kk}')\n",
    "\n",
    "    # add the f2 linear model\n",
    "    # x = f2_linear_df['overall_complexity']\n",
    "    # y = f2_linear_df['rmse']\n",
    "    # plt.plot(x, y, marker='o', label='f2 linear')\n",
    "\n",
    "    # add f1 id results\n",
    "    # x = f1_id_results['overall_complexity']\n",
    "    # y = f1_id_results['rmse']\n",
    "    # plt.plot(x, y, marker='o', label='f1 identity')\n",
    "\n",
    "    # add pure SR results\n",
    "    # x = pure_sr_results['complexity']\n",
    "    # y = pure_sr_results['rmse']\n",
    "    # plt.plot(x, y, marker='o', label='Pure SR')\n",
    "\n",
    "    plt.xlabel('Overall complexity', fontsize=14)\n",
    "    plt.ylabel('RMSE', fontsize=14)\n",
    "    plt.title('Pareto Frontiers for Different k', fontsize=14)\n",
    "    plt.tick_params(axis='both', which='major', labelsize=10)\n",
    "    plt.legend()\n",
    "    plt.savefig('top_k_pareto.png')\n",
    "    plt.show()"
   ]
  },
  {
   "cell_type": "code",
   "execution_count": 22,
   "metadata": {},
   "outputs": [
    {
     "data": {
      "image/png": "[encoded data removed]",
      "text/plain": [
       "<Figure size 1000x600 with 1 Axes>"
      ]
     },
     "metadata": {},
     "output_type": "display_data"
    }
   ],
   "source": [
    "plot_all(k_table)"
   ]
  },
  {
   "cell_type": "code",
   "execution_count": null,
   "metadata": {},
   "outputs": [],
   "source": []
  }
 ],
 "metadata": {
  "kernelspec": {
   "display_name": "bnn_chaos_model",
   "language": "python",
   "name": "python3"
  },
  "language_info": {
   "codemirror_mode": {
    "name": "ipython",
    "version": 3
   },
   "file_extension": ".py",
   "mimetype": "text/x-python",
   "name": "python",
   "nbconvert_exporter": "python",
   "pygments_lexer": "ipython3",
   "version": "3.7.12"
  }
 },
 "nbformat": 4,
 "nbformat_minor": 2
}
