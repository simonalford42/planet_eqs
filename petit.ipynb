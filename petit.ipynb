{
 "cells": [
  {
   "cell_type": "code",
   "execution_count": 1,
   "metadata": {},
   "outputs": [],
   "source": [
    "\n",
    "from spock_reg_model import load\n",
    "from sklearn.preprocessing import StandardScaler\n",
    "import torch\n",
    "from petit20_survival_time import Tsurv\n",
    "import numpy as np\n",
    "from utils import assert_equal"
   ]
  },
  {
   "cell_type": "code",
   "execution_count": 2,
   "metadata": {},
   "outputs": [],
   "source": [
    "\n",
    "LABELS = ['time', 'e+_near', 'e-_near', 'max_strength_mmr_near', 'e+_far', 'e-_far', 'max_strength_mmr_far', 'megno', 'a1', 'e1', 'i1', 'cos_Omega1', 'sin_Omega1', 'cos_pomega1', 'sin_pomega1', 'cos_theta1', 'sin_theta1', 'a2', 'e2', 'i2', 'cos_Omega2', 'sin_Omega2', 'cos_pomega2', 'sin_pomega2', 'cos_theta2', 'sin_theta2', 'a3', 'e3', 'i3', 'cos_Omega3', 'sin_Omega3', 'cos_pomega3', 'sin_pomega3', 'cos_theta3', 'sin_theta3', 'm1', 'm2', 'm3', 'nan_mmr_near', 'nan_mmr_far', 'nan_megno']"
   ]
  },
  {
   "cell_type": "code",
   "execution_count": 3,
   "metadata": {},
   "outputs": [],
   "source": [
    "def tsurv_inputs(x):\n",
    "    '''\n",
    "    X: [41] tensor of inputs\n",
    "    returns: tuple of inputs (nu12, nu23, masses)\n",
    "    '''\n",
    "    # semimajor axes at each time step\n",
    "    # petit paper is the average over the 10k orbits\n",
    "    ixs = {'a1': 8, 'a2': 17, 'a3': 26, 'm1': 35, 'm2': 36, 'm3': 37}\n",
    "    a1, a2, a3 = x[ixs['a1']], x[ixs['a2']], x[ixs['a3']]\n",
    "    nu12 = (a1 / a2) ** (3 / 2)\n",
    "    nu23 = (a2 / a3) ** (3 / 2)\n",
    "    masses = [x[ixs['m1']], x[ixs['m2']], x[ixs['m3']]]\n",
    "    return (nu12, nu23, masses)"
   ]
  },
  {
   "cell_type": "code",
   "execution_count": 4,
   "metadata": {},
   "outputs": [],
   "source": [
    "\n",
    "def tsurv(x):\n",
    "    '''\n",
    "    x: [B, T, 41] batch of inputs\n",
    "    returns: [B, ] prediction of instability time for each inputs\n",
    "    '''\n",
    "    # we only need locations at T=0\n",
    "    x = x[:, 0, :] # [B, 41]\n",
    "    preds = [Tsurv(*tsurv_inputs(xi)) for xi in x]\n",
    "    preds = np.array(preds)\n",
    "    preds = np.nan_to_num(preds, posinf=1e9, neginf=1e9, nan=1e9)\n",
    "\n",
    "    # also threshold at 1e4 and 1e9\n",
    "    preds = np.clip(preds, 1e4, 1e9)\n",
    "\n",
    "    preds = np.log10(preds)\n",
    "    return torch.tensor(preds)\n",
    "\n"
   ]
  },
  {
   "cell_type": "code",
   "execution_count": 5,
   "metadata": {},
   "outputs": [],
   "source": [
    "\n",
    "def tsurv_with_std(x):\n",
    "    '''\n",
    "    x: [B, T, 41]\n",
    "    returns [B, 2] prediction of instability time for each inputs, and dummy std 0\n",
    "    '''\n",
    "    t = tsurv(x)\n",
    "    return torch.stack([t, torch.zeros_like(t)], dim=-1)\n",
    "\n"
   ]
  },
  {
   "cell_type": "code",
   "execution_count": 6,
   "metadata": {},
   "outputs": [],
   "source": [
    "\n",
    "def safe_log_erf(x):\n",
    "    base_mask = x < -1\n",
    "    value_giving_zero = torch.zeros_like(x, device=x.device)\n",
    "    x_under = torch.where(base_mask, x, value_giving_zero)\n",
    "    x_over = torch.where(~base_mask, x, value_giving_zero)\n",
    "\n",
    "    f_under = lambda x: (\n",
    "         0.485660082730562*x + 0.643278438654541*torch.exp(x) +\n",
    "         0.00200084619923262*x**3 - 0.643250926022749 - 0.955350621183745*x**2\n",
    "    )\n",
    "    f_over = lambda x: torch.log(1.0+torch.erf(x))\n",
    "\n",
    "    return f_under(x_under) + f_over(x_over)\n"
   ]
  },
  {
   "cell_type": "code",
   "execution_count": 7,
   "metadata": {},
   "outputs": [],
   "source": [
    "\n",
    "def _lossfnc(testy, y):\n",
    "    mu = testy[:, [0]]\n",
    "    std = testy[:, [1]]\n",
    "\n",
    "    var = std**2\n",
    "    t_greater_9 = y >= 9\n",
    "\n",
    "    regression_loss = -(y - mu)**2/(2*var)\n",
    "    regression_loss += -torch.log(std)\n",
    "\n",
    "    regression_loss += -safe_log_erf(\n",
    "                (mu - 4)/(torch.sqrt(2*var))\n",
    "            )\n",
    "\n",
    "    classifier_loss = safe_log_erf(\n",
    "                (mu - 9)/(torch.sqrt(2*var))\n",
    "        )\n",
    "\n",
    "    safe_regression_loss = torch.where(\n",
    "            ~torch.isfinite(regression_loss),\n",
    "            -torch.ones_like(regression_loss)*100,\n",
    "            regression_loss)\n",
    "    safe_classifier_loss = torch.where(\n",
    "            ~torch.isfinite(classifier_loss),\n",
    "            -torch.ones_like(classifier_loss)*100,\n",
    "            classifier_loss)\n",
    "\n",
    "    total_loss = (\n",
    "        safe_regression_loss * (~t_greater_9) +\n",
    "        safe_classifier_loss * ( t_greater_9)\n",
    "    )\n",
    "\n",
    "    return -total_loss.sum(1)\n"
   ]
  },
  {
   "cell_type": "code",
   "execution_count": 8,
   "metadata": {},
   "outputs": [],
   "source": [
    "\n",
    "def tsurv_val_loss(batch):\n",
    "    X, y = batch\n",
    "    testy = tsurv_with_std(X)\n",
    "    assert_equal(testy.shape, y.shape)\n",
    "    loss = _lossfnc(testy, y).sum()\n",
    "    return loss\n"
   ]
  },
  {
   "cell_type": "code",
   "execution_count": 9,
   "metadata": {},
   "outputs": [],
   "source": [
    "\n",
    "def tsurv_rmse(batch):\n",
    "    X, y = batch\n",
    "    testy = tsurv(X)\n",
    "    y = y[:, 0]\n",
    "    assert_equal(testy.shape, y.shape)\n",
    "    return (testy - y).pow(2).sum()\n",
    "\n"
   ]
  },
  {
   "cell_type": "code",
   "execution_count": 10,
   "metadata": {},
   "outputs": [],
   "source": [
    "\n",
    "# just so we have access to the validation set\n",
    "model = load(65408)\n",
    "no_op_scaler = StandardScaler(with_mean=False, with_std=False)\n",
    "model.make_dataloaders(ssX=no_op_scaler, train_ssX=True)\n",
    "validation_set = model.val_dataloader()"
   ]
  },
  {
   "cell_type": "code",
   "execution_count": null,
   "metadata": {},
   "outputs": [],
   "source": [
    "\n",
    "val_loss =  0\n",
    "rmse = 0\n",
    "for batch in validation_set:\n",
    "    val_loss = val_loss + tsurv_val_loss(batch).item()\n",
    "    rmse = rmse + tsurv_rmse(batch).item()\n",
    "\n",
    "print('val loss: ', val_loss)\n",
    "print('rmse: ', rmse)"
   ]
  }
 ],
 "metadata": {
  "kernelspec": {
   "display_name": "bnn_chaos_model",
   "language": "python",
   "name": "python3"
  },
  "language_info": {
   "codemirror_mode": {
    "name": "ipython",
    "version": 3
   },
   "file_extension": ".py",
   "mimetype": "text/x-python",
   "name": "python",
   "nbconvert_exporter": "python",
   "pygments_lexer": "ipython3",
   "version": "3.7.12"
  }
 },
 "nbformat": 4,
 "nbformat_minor": 2
}
