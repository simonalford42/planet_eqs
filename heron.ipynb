{
 "cells": [
  {
   "cell_type": "code",
   "execution_count": 108,
   "metadata": {},
   "outputs": [],
   "source": [
    "import pickle"
   ]
  },
  {
   "cell_type": "code",
   "execution_count": 109,
   "metadata": {},
   "outputs": [],
   "source": [
    "results_path = f'59411.pkl'\n",
    "reg = pickle.load(open(results_path, 'rb'))"
   ]
  },
  {
   "cell_type": "code",
   "execution_count": 112,
   "metadata": {},
   "outputs": [
    {
     "data": {
      "text/html": [
       "<div>\n",
       "<style scoped>\n",
       "    .dataframe tbody tr th:only-of-type {\n",
       "        vertical-align: middle;\n",
       "    }\n",
       "\n",
       "    .dataframe tbody tr th {\n",
       "        vertical-align: top;\n",
       "    }\n",
       "\n",
       "    .dataframe thead th {\n",
       "        text-align: right;\n",
       "    }\n",
       "</style>\n",
       "<table border=\"1\" class=\"dataframe\">\n",
       "  <thead>\n",
       "    <tr style=\"text-align: right;\">\n",
       "      <th></th>\n",
       "      <th>complexity</th>\n",
       "      <th>loss</th>\n",
       "      <th>score</th>\n",
       "      <th>equation</th>\n",
       "      <th>sympy_format</th>\n",
       "      <th>lambda_format</th>\n",
       "    </tr>\n",
       "  </thead>\n",
       "  <tbody>\n",
       "    <tr>\n",
       "      <th>0</th>\n",
       "      <td>1</td>\n",
       "      <td>86.392230</td>\n",
       "      <td>0.000000</td>\n",
       "      <td>c</td>\n",
       "      <td>c</td>\n",
       "      <td>PySRFunction(X=&gt;c)</td>\n",
       "    </tr>\n",
       "    <tr>\n",
       "      <th>1</th>\n",
       "      <td>3</td>\n",
       "      <td>34.445393</td>\n",
       "      <td>0.459761</td>\n",
       "      <td>c + a</td>\n",
       "      <td>a + c</td>\n",
       "      <td>PySRFunction(X=&gt;a + c)</td>\n",
       "    </tr>\n",
       "    <tr>\n",
       "      <th>2</th>\n",
       "      <td>5</td>\n",
       "      <td>28.011744</td>\n",
       "      <td>0.103376</td>\n",
       "      <td>(a * c) ^ 0.71505386</td>\n",
       "      <td>(a*c)**0.71505386</td>\n",
       "      <td>PySRFunction(X=&gt;(a*c)**0.71505386)</td>\n",
       "    </tr>\n",
       "    <tr>\n",
       "      <th>3</th>\n",
       "      <td>6</td>\n",
       "      <td>13.497760</td>\n",
       "      <td>0.730100</td>\n",
       "      <td>sqrt(c * (b * a))</td>\n",
       "      <td>sqrt(a*b*c)</td>\n",
       "      <td>PySRFunction(X=&gt;sqrt(a*b*c))</td>\n",
       "    </tr>\n",
       "    <tr>\n",
       "      <th>4</th>\n",
       "      <td>7</td>\n",
       "      <td>5.194586</td>\n",
       "      <td>0.954907</td>\n",
       "      <td>((c * b) * a) * 0.053678405</td>\n",
       "      <td>0.053678405*a*b*c</td>\n",
       "      <td>PySRFunction(X=&gt;0.053678405*a*b*c)</td>\n",
       "    </tr>\n",
       "    <tr>\n",
       "      <th>5</th>\n",
       "      <td>9</td>\n",
       "      <td>4.168063</td>\n",
       "      <td>0.110083</td>\n",
       "      <td>(c * (a * (b * 0.048061028))) - -1.6854905</td>\n",
       "      <td>0.048061028*a*b*c + 1.6854905</td>\n",
       "      <td>PySRFunction(X=&gt;0.048061028*a*b*c + 1.6854905)</td>\n",
       "    </tr>\n",
       "    <tr>\n",
       "      <th>6</th>\n",
       "      <td>11</td>\n",
       "      <td>4.125393</td>\n",
       "      <td>0.005145</td>\n",
       "      <td>((b * (a * (0.05816862 * c))) + 1.4348089) ^ 0...</td>\n",
       "      <td>1.40907795815168*(0.0405410225710197*a*b*c + 1...</td>\n",
       "      <td>PySRFunction(X=&gt;1.40907795815168*(0.0405410225...</td>\n",
       "    </tr>\n",
       "    <tr>\n",
       "      <th>7</th>\n",
       "      <td>12</td>\n",
       "      <td>3.921815</td>\n",
       "      <td>0.050607</td>\n",
       "      <td>(b * (a * (0.22453886 * (sqrt(c) - 1.1047957))...</td>\n",
       "      <td>a*b*(0.22453886*sqrt(c) - 0.248069567010902) +...</td>\n",
       "      <td>PySRFunction(X=&gt;a*b*(0.22453886*sqrt(c) - 0.24...</td>\n",
       "    </tr>\n",
       "    <tr>\n",
       "      <th>8</th>\n",
       "      <td>14</td>\n",
       "      <td>3.916114</td>\n",
       "      <td>0.000727</td>\n",
       "      <td>((b * ((0.22453886 * (sqrt(c) - 1.1047957)) * ...</td>\n",
       "      <td>a*b*(0.22453886*sqrt(c) - 0.248069567010902) +...</td>\n",
       "      <td>PySRFunction(X=&gt;a*b*(0.22453886*sqrt(c) - 0.24...</td>\n",
       "    </tr>\n",
       "    <tr>\n",
       "      <th>9</th>\n",
       "      <td>15</td>\n",
       "      <td>3.888544</td>\n",
       "      <td>0.007065</td>\n",
       "      <td>(((a * (0.05052264 * c)) * b) - -1.8437126) - ...</td>\n",
       "      <td>0.05052264*a*b*c - (0.1144077*b)**b + 1.8437126</td>\n",
       "      <td>PySRFunction(X=&gt;0.05052264*a*b*c - (0.1144077*...</td>\n",
       "    </tr>\n",
       "  </tbody>\n",
       "</table>\n",
       "</div>"
      ],
      "text/plain": [
       "   complexity       loss     score  \\\n",
       "0           1  86.392230  0.000000   \n",
       "1           3  34.445393  0.459761   \n",
       "2           5  28.011744  0.103376   \n",
       "3           6  13.497760  0.730100   \n",
       "4           7   5.194586  0.954907   \n",
       "5           9   4.168063  0.110083   \n",
       "6          11   4.125393  0.005145   \n",
       "7          12   3.921815  0.050607   \n",
       "8          14   3.916114  0.000727   \n",
       "9          15   3.888544  0.007065   \n",
       "\n",
       "                                            equation  \\\n",
       "0                                                  c   \n",
       "1                                              c + a   \n",
       "2                               (a * c) ^ 0.71505386   \n",
       "3                                  sqrt(c * (b * a))   \n",
       "4                        ((c * b) * a) * 0.053678405   \n",
       "5         (c * (a * (b * 0.048061028))) - -1.6854905   \n",
       "6  ((b * (a * (0.05816862 * c))) + 1.4348089) ^ 0...   \n",
       "7  (b * (a * (0.22453886 * (sqrt(c) - 1.1047957))...   \n",
       "8  ((b * ((0.22453886 * (sqrt(c) - 1.1047957)) * ...   \n",
       "9  (((a * (0.05052264 * c)) * b) - -1.8437126) - ...   \n",
       "\n",
       "                                        sympy_format  \\\n",
       "0                                                  c   \n",
       "1                                              a + c   \n",
       "2                                  (a*c)**0.71505386   \n",
       "3                                        sqrt(a*b*c)   \n",
       "4                                  0.053678405*a*b*c   \n",
       "5                      0.048061028*a*b*c + 1.6854905   \n",
       "6  1.40907795815168*(0.0405410225710197*a*b*c + 1...   \n",
       "7  a*b*(0.22453886*sqrt(c) - 0.248069567010902) +...   \n",
       "8  a*b*(0.22453886*sqrt(c) - 0.248069567010902) +...   \n",
       "9    0.05052264*a*b*c - (0.1144077*b)**b + 1.8437126   \n",
       "\n",
       "                                       lambda_format  \n",
       "0                                 PySRFunction(X=>c)  \n",
       "1                             PySRFunction(X=>a + c)  \n",
       "2                 PySRFunction(X=>(a*c)**0.71505386)  \n",
       "3                       PySRFunction(X=>sqrt(a*b*c))  \n",
       "4                 PySRFunction(X=>0.053678405*a*b*c)  \n",
       "5     PySRFunction(X=>0.048061028*a*b*c + 1.6854905)  \n",
       "6  PySRFunction(X=>1.40907795815168*(0.0405410225...  \n",
       "7  PySRFunction(X=>a*b*(0.22453886*sqrt(c) - 0.24...  \n",
       "8  PySRFunction(X=>a*b*(0.22453886*sqrt(c) - 0.24...  \n",
       "9  PySRFunction(X=>0.05052264*a*b*c - (0.1144077*...  "
      ]
     },
     "execution_count": 112,
     "metadata": {},
     "output_type": "execute_result"
    }
   ],
   "source": [
    "reg.equations_[:10]"
   ]
  },
  {
   "cell_type": "code",
   "execution_count": 114,
   "metadata": {},
   "outputs": [],
   "source": [
    "import re\n",
    "\n",
    "def replace_constants(expression: str) -> tuple:\n",
    "    constants = {}\n",
    "    constant_index = 1\n",
    "\n",
    "    # Find all constants in the expression\n",
    "    def replace(match):\n",
    "        nonlocal constant_index\n",
    "        value = match.group()\n",
    "        key = f\"C{constant_index}\"\n",
    "        constants[key] = float(value)\n",
    "        constant_index += 1\n",
    "        return key\n",
    "\n",
    "    # Regular expression to find floating point and integer constants\n",
    "    modified_expression = re.sub(r'(?<![a-zA-Z])[-+]?\\d*\\.\\d+|\\d+', replace, expression)\n",
    "\n",
    "    return modified_expression, constants"
   ]
  },
  {
   "cell_type": "code",
   "execution_count": 115,
   "metadata": {},
   "outputs": [],
   "source": [
    "from sympy import sympify, simplify\n",
    "\n",
    "def simplify_expression(expression: str) -> str:\n",
    "    # Convert the string expression to a SymPy expression\n",
    "    sympy_expr = sympify(expression)\n",
    "    # Simplify the expression\n",
    "    simplified_expr = simplify(sympy_expr)\n",
    "    # Return the simplified expression as a string\n",
    "    return str(simplified_expr)"
   ]
  },
  {
   "cell_type": "code",
   "execution_count": 116,
   "metadata": {},
   "outputs": [],
   "source": [
    "from sympy import sympify, Function, Mul, Add, Pow, sqrt\n",
    "\n",
    "def expression_to_lambda_format(expression: str) -> str:\n",
    "    sympy_expr = sympify(expression)\n",
    "\n",
    "    def convert(expr):\n",
    "        if isinstance(expr, Function):  # Handle functions like sqrt, sin, cos, etc.\n",
    "            func_name = expr.func.__name__\n",
    "            args = \" \".join(convert(arg) for arg in expr.args)\n",
    "            return f\"({func_name} {args})\"\n",
    "        elif isinstance(expr, Mul):  # Handle multiplication\n",
    "            args = \" \".join(convert(arg) for arg in expr.args)\n",
    "            return f\"(* {args})\"\n",
    "        elif isinstance(expr, Add):  # Handle addition\n",
    "            args = \" \".join(convert(arg) for arg in expr.args)\n",
    "            return f\"(+ {args})\"\n",
    "        elif isinstance(expr, Pow):  # Handle exponentiation\n",
    "            base, exp = expr.args\n",
    "            return f\"(pow {convert(base)} {convert(exp)})\"\n",
    "        elif expr.is_Number or expr.is_Symbol:  # Base case for numbers or variables\n",
    "            return str(expr)\n",
    "        else:\n",
    "            raise ValueError(f\"Unsupported expression type: {type(expr)}\")\n",
    "\n",
    "    return convert(sympy_expr)"
   ]
  },
  {
   "cell_type": "code",
   "execution_count": 125,
   "metadata": {},
   "outputs": [
    {
     "name": "stdout",
     "output_type": "stream",
     "text": [
      "Equation: ((b * (a * (0.05816862 * c))) + 1.4348089) ^ 0.94987667\n",
      "Coefficients removed (so simpy does not mess with them): ((b * (a * (C1 * c))) + C2) ^ C3\n",
      "Constant dict: {'C1': 0.05816862, 'C2': 1.4348089, 'C3': 0.94987667}\n",
      "Simplified expr: (C1*a*b*c + C2)**C3\n",
      "Lambdified expr: (pow (+ C2 (* C1 a b c)) C3)\n"
     ]
    }
   ],
   "source": [
    "# Example:\n",
    "eq = reg.equations_['equation'][6]\n",
    "print('Equation:', eq)\n",
    "cleaned_expr, d = replace_constants(eq)\n",
    "print('Coefficients removed (so simpy does not mess with them):', cleaned_expr)\n",
    "print('Constant dict:', d)\n",
    "simp_expr = simplify_expression(cleaned_expr)\n",
    "print('Simplified expr:', simp_expr)\n",
    "lamb_expr = expression_to_lambda_format(simp_expr)\n",
    "print('Lambdified expr:', lamb_expr)\n"
   ]
  },
  {
   "cell_type": "code",
   "execution_count": 132,
   "metadata": {},
   "outputs": [
    {
     "name": "stdout",
     "output_type": "stream",
     "text": [
      "Equation 0: c\n",
      "Lambdified expr: (pow (* (pow C10 -1) (+ C8 (pow (+ (pow (* (pow C1 -1) (pow C3 -1) (+ (* C1 C2) (* C3 a b c))) 1/2) (* -1 C4 C5)) C6) (* -1 C9) (* -1 a) (* -1 b) (* -1 c) (* -1 (pow C7 1/2)))) C11)\n",
      "\n",
      "Equation 1: c + a\n",
      "Lambdified expr: (pow (* (pow C10 -1) (+ C8 (pow (+ (pow (* (pow C1 -1) (pow C3 -1) (+ (* C1 C2) (* C3 a b c))) 1/2) (* -1 C4 C5)) C6) (* -1 C9) (* -1 a) (* -1 b) (* -1 c) (* -1 (pow C7 1/2)))) C11)\n",
      "\n",
      "Equation 2: (a * c) ^ 0.71505386\n",
      "Lambdified expr: (pow (* (pow C10 -1) (+ C8 (pow (+ (pow (* (pow C1 -1) (pow C3 -1) (+ (* C1 C2) (* C3 a b c))) 1/2) (* -1 C4 C5)) C6) (* -1 C9) (* -1 a) (* -1 b) (* -1 c) (* -1 (pow C7 1/2)))) C11)\n",
      "\n",
      "Equation 3: sqrt(c * (b * a))\n",
      "Lambdified expr: (pow (* (pow C10 -1) (+ C8 (pow (+ (pow (* (pow C1 -1) (pow C3 -1) (+ (* C1 C2) (* C3 a b c))) 1/2) (* -1 C4 C5)) C6) (* -1 C9) (* -1 a) (* -1 b) (* -1 c) (* -1 (pow C7 1/2)))) C11)\n",
      "\n",
      "Equation 4: ((c * b) * a) * 0.053678405\n",
      "Lambdified expr: (pow (* (pow C10 -1) (+ C8 (pow (+ (pow (* (pow C1 -1) (pow C3 -1) (+ (* C1 C2) (* C3 a b c))) 1/2) (* -1 C4 C5)) C6) (* -1 C9) (* -1 a) (* -1 b) (* -1 c) (* -1 (pow C7 1/2)))) C11)\n",
      "\n",
      "Equation 5: (c * (a * (b * 0.048061028))) - -1.6854905\n",
      "Lambdified expr: (pow (* (pow C10 -1) (+ C8 (pow (+ (pow (* (pow C1 -1) (pow C3 -1) (+ (* C1 C2) (* C3 a b c))) 1/2) (* -1 C4 C5)) C6) (* -1 C9) (* -1 a) (* -1 b) (* -1 c) (* -1 (pow C7 1/2)))) C11)\n",
      "\n",
      "Equation 6: ((b * (a * (0.05816862 * c))) + 1.4348089) ^ 0.94987667\n",
      "Lambdified expr: (pow (* (pow C10 -1) (+ C8 (pow (+ (pow (* (pow C1 -1) (pow C3 -1) (+ (* C1 C2) (* C3 a b c))) 1/2) (* -1 C4 C5)) C6) (* -1 C9) (* -1 a) (* -1 b) (* -1 c) (* -1 (pow C7 1/2)))) C11)\n",
      "\n",
      "Equation 7: (b * (a * (0.22453886 * (sqrt(c) - 1.1047957)))) - -1.749221\n",
      "Lambdified expr: (pow (* (pow C10 -1) (+ C8 (pow (+ (pow (* (pow C1 -1) (pow C3 -1) (+ (* C1 C2) (* C3 a b c))) 1/2) (* -1 C4 C5)) C6) (* -1 C9) (* -1 a) (* -1 b) (* -1 c) (* -1 (pow C7 1/2)))) C11)\n",
      "\n",
      "Equation 8: ((b * ((0.22453886 * (sqrt(c) - 1.1047957)) * a)) + 0.7953915) - -0.8677205\n",
      "Lambdified expr: (pow (* (pow C10 -1) (+ C8 (pow (+ (pow (* (pow C1 -1) (pow C3 -1) (+ (* C1 C2) (* C3 a b c))) 1/2) (* -1 C4 C5)) C6) (* -1 C9) (* -1 a) (* -1 b) (* -1 c) (* -1 (pow C7 1/2)))) C11)\n",
      "\n",
      "Equation 9: (((a * (0.05052264 * c)) * b) - -1.8437126) - ((0.1144077 * b) ^ b)\n",
      "Lambdified expr: (pow (* (pow C10 -1) (+ C8 (pow (+ (pow (* (pow C1 -1) (pow C3 -1) (+ (* C1 C2) (* C3 a b c))) 1/2) (* -1 C4 C5)) C6) (* -1 C9) (* -1 a) (* -1 b) (* -1 c) (* -1 (pow C7 1/2)))) C11)\n",
      "\n",
      "Equation 10: (((a * (0.05052264 * c)) * (b + -0.14339137)) - -1.8437126) - ((0.1144077 * b) ^ b)\n",
      "Lambdified expr: (pow (* (pow C10 -1) (+ C8 (pow (+ (pow (* (pow C1 -1) (pow C3 -1) (+ (* C1 C2) (* C3 a b c))) 1/2) (* -1 C4 C5)) C6) (* -1 C9) (* -1 a) (* -1 b) (* -1 c) (* -1 (pow C7 1/2)))) C11)\n",
      "\n",
      "Equation 11: ((((a * (0.05052264 * c)) + 0.032068633) * (b + -0.21806465)) - -1.8437126) - ((0.1144077 * b) ^ b)\n",
      "Lambdified expr: (pow (* (pow C10 -1) (+ C8 (pow (+ (pow (* (pow C1 -1) (pow C3 -1) (+ (* C1 C2) (* C3 a b c))) 1/2) (* -1 C4 C5)) C6) (* -1 C9) (* -1 a) (* -1 b) (* -1 c) (* -1 (pow C7 1/2)))) C11)\n",
      "\n",
      "Equation 12: (((-0.62203103 - -4.8805733) - (c + (b + a))) + (sqrt((c * b) * a) ^ 1.2295233)) + 0.10456277\n",
      "Lambdified expr: (pow (* (pow C10 -1) (+ C8 (pow (+ (pow (* (pow C1 -1) (pow C3 -1) (+ (* C1 C2) (* C3 a b c))) 1/2) (* -1 C4 C5)) C6) (* -1 C9) (* -1 a) (* -1 b) (* -1 c) (* -1 (pow C7 1/2)))) C11)\n",
      "\n",
      "Equation 13: (((sqrt((a * (b * c)) / 2.26996) - -2.7335503) ^ 1.3567369) + (1.390764 - (a + (b + 0.6808807)))) - c\n",
      "Lambdified expr: (pow (* (pow C10 -1) (+ C8 (pow (+ (pow (* (pow C1 -1) (pow C3 -1) (+ (* C1 C2) (* C3 a b c))) 1/2) (* -1 C4 C5)) C6) (* -1 C9) (* -1 a) (* -1 b) (* -1 c) (* -1 (pow C7 1/2)))) C11)\n",
      "\n",
      "Equation 14: (((sqrt((a * (b * c)) / 2.26996) - -2.7335503) ^ 1.3567369) + (0.8079475 - (b + (c + a)))) * sqrt(0.9971042)\n",
      "Lambdified expr: (pow (* (pow C10 -1) (+ C8 (pow (+ (pow (* (pow C1 -1) (pow C3 -1) (+ (* C1 C2) (* C3 a b c))) 1/2) (* -1 C4 C5)) C6) (* -1 C9) (* -1 a) (* -1 b) (* -1 c) (* -1 (pow C7 1/2)))) C11)\n",
      "\n",
      "Equation 15: ((((sqrt((a * (b * c)) / 2.26996) - -2.7335503) ^ 1.3567369) + (1.1083796 - (b + (a + c)))) / 1.1083796) ^ 1.029338\n",
      "Lambdified expr: (pow (* (pow C10 -1) (+ C8 (pow (+ (pow (* (pow C1 -1) (pow C3 -1) (+ (* C1 C2) (* C3 a b c))) 1/2) (* -1 C4 C5)) C6) (* -1 C9) (* -1 a) (* -1 b) (* -1 c) (* -1 (pow C7 1/2)))) C11)\n",
      "\n",
      "Equation 16: ((((sqrt(((a * (b * c)) + -0.78873014) / 2.26996) - -2.7335503) ^ 1.3567369) + (1.1083796 - (b + (a + c)))) / 1.1083796) ^ 1.029338\n",
      "Lambdified expr: (pow (* (pow C10 -1) (+ C8 (pow (+ (pow (* (pow C1 -1) (pow C3 -1) (+ (* C1 C2) (* C3 a b c))) 1/2) (* -1 C4 C5)) C6) (* -1 C9) (* -1 a) (* -1 b) (* -1 c) (* -1 (pow C7 1/2)))) C11)\n",
      "\n",
      "Equation 17: ((((sqrt(((a * (b * c)) + -0.78873014) / 2.26996) - -2.7335503) ^ 1.3567369) + (1.1083796 - (b + ((a + c) - 0.0913786)))) / 1.1083796) ^ 1.029338\n",
      "Lambdified expr: (pow (* (pow C10 -1) (+ C8 (pow (+ (pow (* (pow C1 -1) (pow C3 -1) (+ (* C1 C2) (* C3 a b c))) 1/2) (* -1 C4 C5)) C6) (* -1 C9) (* -1 a) (* -1 b) (* -1 c) (* -1 (pow C7 1/2)))) C11)\n",
      "\n",
      "Equation 18: ((((sqrt((((a * (b * c)) - 0.15105046) + -0.78873014) / 2.26996) - -2.7335503) ^ 1.3567369) + (1.1083796 - (b + ((a + c) - 0.0913786)))) / 1.1083796) ^ 1.029338\n",
      "Lambdified expr: (pow (* (pow C10 -1) (+ C8 (pow (+ (pow (* (pow C1 -1) (pow C3 -1) (+ (* C1 C2) (* C3 a b c))) 1/2) (* -1 C4 C5)) C6) (* -1 C9) (* -1 a) (* -1 b) (* -1 c) (* -1 (pow C7 1/2)))) C11)\n",
      "\n",
      "Equation 19: ((((((sqrt(((a * (c * b)) / 2.26996) + -0.2526099) - (1.0496036 * -2.7335503)) ^ 1.3567369) - sqrt(0.6916974)) + (1.2848413 - ((a + c) + b))) - -0.23961821) / 1.1083796) ^ 1.029338\n",
      "Lambdified expr: (pow (* (pow C10 -1) (+ C8 (pow (+ (pow (* (pow C1 -1) (pow C3 -1) (+ (* C1 C2) (* C3 a b c))) 1/2) (* -1 C4 C5)) C6) (* -1 C9) (* -1 a) (* -1 b) (* -1 c) (* -1 (pow C7 1/2)))) C11)\n",
      "\n",
      "Equation 20: ((((((sqrt(((a * (c * b)) / 2.26996) + -0.2526099) - (1.0496036 * -2.7335503)) ^ 1.3567369) - (0.6916974 + 0.13856609)) + (1.2848413 - ((a + c) + b))) - -0.23961821) / 1.1083796) ^ 1.029338\n",
      "Lambdified expr: (pow (* (pow C10 -1) (+ C8 (pow (+ (pow (* (pow C1 -1) (pow C3 -1) (+ (* C1 C2) (* C3 a b c))) 1/2) (* -1 C4 C5)) C6) (* -1 C9) (* -1 a) (* -1 b) (* -1 c) (* -1 (pow C7 1/2)))) C11)\n",
      "\n",
      "Equation 21: ((((((sqrt(((a * (c * b)) / 2.26996) + (-0.2526099 / 0.58886117)) - (1.0496036 * -2.7335503)) ^ 1.3567369) - sqrt(0.6916974)) + (1.2848413 - ((a + c) + b))) - -0.23961821) / 1.1083796) ^ 1.029338\n",
      "Lambdified expr: (pow (* (pow C10 -1) (+ C8 (pow (+ (pow (* (pow C1 -1) (pow C3 -1) (+ (* C1 C2) (* C3 a b c))) 1/2) (* -1 C4 C5)) C6) (* -1 C9) (* -1 a) (* -1 b) (* -1 c) (* -1 (pow C7 1/2)))) C11)\n",
      "\n"
     ]
    }
   ],
   "source": [
    "for i, eq in enumerate(reg.equations_['equation']):\n",
    "    print(f'Equation {i}:', eq)\n",
    "    cleaned_expr, d = replace_constants(eq)\n",
    "    # print('Coefficients removed:', cleaned_expr)\n",
    "    # print('Constant dict:', d)\n",
    "    # simp_expr = simplify_expression(cleaned_expr)\n",
    "    # print('Simplified expr:', simp_expr)\n",
    "    lamb_expr = expression_to_lambda_format(simp_expr)\n",
    "    print('Lambdified expr:', lamb_expr)\n",
    "    print()"
   ]
  },
  {
   "cell_type": "code",
   "execution_count": 61,
   "metadata": {},
   "outputs": [],
   "source": [
    "def stitchify_expr(expression):\n",
    "    cleaned_expr, d = replace_constants(expression)\n",
    "    simp_expr = simplify_expression(cleaned_expr)\n",
    "    lamb_expr = expression_to_lambda_format(simp_expr)\n",
    "    return lamb_expr"
   ]
  },
  {
   "cell_type": "code",
   "execution_count": 62,
   "metadata": {},
   "outputs": [],
   "source": [
    "stitchified_exprs = [stitchify_expr(eq) for eq in reg.equations_['equation']]"
   ]
  },
  {
   "cell_type": "code",
   "execution_count": 131,
   "metadata": {},
   "outputs": [
    {
     "name": "stdout",
     "output_type": "stream",
     "text": [
      "c\n",
      "(+ a c)\n",
      "(pow (* a c) C1)\n",
      "(pow (* a b c) 1/2)\n",
      "(* C1 a b c)\n",
      "(+ (* -1 C2) (* C1 a b c))\n",
      "(pow (+ C2 (* C1 a b c)) C3)\n",
      "(+ (* -1 C3) (* -1 C1 a b (+ C2 (* -1 (pow c 1/2)))))\n",
      "(+ C3 (* -1 C4) (* -1 C1 a b (+ C2 (* -1 (pow c 1/2)))))\n",
      "(+ (* -1 C2) (* -1 (pow (* C3 b) b)) (* C1 a b c))\n",
      "(+ (* -1 C3) (* -1 (pow (* C4 b) b)) (* C1 a c (+ C2 b)))\n",
      "(+ (* -1 C4) (* -1 (pow (* C5 b) b)) (* (+ C2 (* C1 a c)) (+ C3 b)))\n",
      "(+ C1 C4 (pow (* a b c) (* 1/2 C3)) (* -1 C2) (* -1 a) (* -1 b) (* -1 c))\n",
      "(+ C4 (pow (+ (pow (* a b c (pow C1 -1)) 1/2) (* -1 C2)) C3) (* -1 C5) (* -1 a) (* -1 b) (* -1 c))\n",
      "(* (pow C5 1/2) (+ C4 (pow (+ (pow (* a b c (pow C1 -1)) 1/2) (* -1 C2)) C3) (* -1 a) (* -1 b) (* -1 c)))\n",
      "(pow (* (pow C5 -1) (+ C4 (pow (+ (pow (* a b c (pow C1 -1)) 1/2) (* -1 C2)) C3) (* -1 a) (* -1 b) (* -1 c))) C6)\n",
      "(pow (* (pow C6 -1) (+ C5 (pow (+ (pow (* (pow C2 -1) (+ C1 (* a b c))) 1/2) (* -1 C3)) C4) (* -1 a) (* -1 b) (* -1 c))) C7)\n",
      "(pow (* (pow C7 -1) (+ C5 C6 (pow (+ (pow (* (pow C2 -1) (+ C1 (* a b c))) 1/2) (* -1 C3)) C4) (* -1 a) (* -1 b) (* -1 c))) C8)\n",
      "(pow (* (pow C8 -1) (+ C6 C7 (pow (+ (pow (* (pow C3 -1) (+ C2 (* -1 C1) (* a b c))) 1/2) (* -1 C4)) C5) (* -1 a) (* -1 b) (* -1 c))) C9)\n",
      "(pow (* (pow C9 -1) (+ C7 (pow (+ (pow (* (pow C1 -1) (+ (* C1 C2) (* a b c))) 1/2) (* -1 C3 C4)) C5) (* -1 C8) (* -1 a) (* -1 b) (* -1 c) (* -1 (pow C6 1/2)))) C10)\n",
      "(pow (* (pow C10 -1) (+ C8 (pow (+ (pow (* (pow C1 -1) (+ (* C1 C2) (* a b c))) 1/2) (* -1 C3 C4)) C5) (* -1 C6) (* -1 C7) (* -1 C9) (* -1 a) (* -1 b) (* -1 c))) C11)\n",
      "(pow (* (pow C10 -1) (+ C8 (pow (+ (pow (* (pow C1 -1) (pow C3 -1) (+ (* C1 C2) (* C3 a b c))) 1/2) (* -1 C4 C5)) C6) (* -1 C9) (* -1 a) (* -1 b) (* -1 c) (* -1 (pow C7 1/2)))) C11)\n"
     ]
    }
   ],
   "source": [
    "for expr in stitchified_exprs:\n",
    "    print(expr)\n"
   ]
  },
  {
   "cell_type": "code",
   "execution_count": 142,
   "metadata": {},
   "outputs": [],
   "source": [
    "from stitch_core import compress\n",
    "res = compress(stitchified_exprs, iterations=1, max_arity=1)"
   ]
  },
  {
   "cell_type": "code",
   "execution_count": 143,
   "metadata": {},
   "outputs": [
    {
     "data": {
      "text/plain": [
       "[fn_0(#0) := (#0 (* -1 a) (* -1 b) (* -1 c))]"
      ]
     },
     "execution_count": 143,
     "metadata": {},
     "output_type": "execute_result"
    }
   ],
   "source": [
    "res.abstractions"
   ]
  },
  {
   "cell_type": "code",
   "execution_count": 135,
   "metadata": {},
   "outputs": [
    {
     "data": {
      "text/plain": [
       "['c',\n",
       " '(+ a c)',\n",
       " '(pow (* a c) C1)',\n",
       " '(pow (* a b c) 1/2)',\n",
       " '(* C1 a b c)',\n",
       " '(+ (* -1 C2) (* C1 a b c))',\n",
       " '(pow (+ C2 (* C1 a b c)) C3)',\n",
       " '(+ (* -1 C3) (* -1 C1 a b (+ C2 (* -1 (pow c 1/2)))))',\n",
       " '(+ C3 (* -1 C4) (* -1 C1 a b (+ C2 (* -1 (pow c 1/2)))))',\n",
       " '(+ (* -1 C2) (* -1 (pow (* C3 b) b)) (* C1 a b c))',\n",
       " '(+ (* -1 C3) (* -1 (pow (* C4 b) b)) (* C1 a c (+ C2 b)))',\n",
       " '(+ (* -1 C4) (* -1 (pow (* C5 b) b)) (* (+ C2 (* C1 a c)) (+ C3 b)))',\n",
       " '(fn_0 (+ C1 C4 (pow (* a b c) (* 1/2 C3)) (* -1 C2)))',\n",
       " '(fn_0 (+ C4 (pow (+ (pow (* a b c (pow C1 -1)) 1/2) (* -1 C2)) C3) (* -1 C5)))',\n",
       " '(* (pow C5 1/2) (fn_0 (+ C4 (pow (+ (pow (* a b c (pow C1 -1)) 1/2) (* -1 C2)) C3))))',\n",
       " '(pow (* (pow C5 -1) (fn_0 (+ C4 (pow (+ (pow (* a b c (pow C1 -1)) 1/2) (* -1 C2)) C3)))) C6)',\n",
       " '(pow (* (pow C6 -1) (fn_0 (+ C5 (pow (+ (pow (* (pow C2 -1) (+ C1 (* a b c))) 1/2) (* -1 C3)) C4)))) C7)',\n",
       " '(pow (* (pow C7 -1) (fn_0 (+ C5 C6 (pow (+ (pow (* (pow C2 -1) (+ C1 (* a b c))) 1/2) (* -1 C3)) C4)))) C8)',\n",
       " '(pow (* (pow C8 -1) (fn_0 (+ C6 C7 (pow (+ (pow (* (pow C3 -1) (+ C2 (* -1 C1) (* a b c))) 1/2) (* -1 C4)) C5)))) C9)',\n",
       " '(pow (* (pow C9 -1) (fn_0 (+ C7 (pow (+ (pow (* (pow C1 -1) (+ (* C1 C2) (* a b c))) 1/2) (* -1 C3 C4)) C5) (* -1 C8)) (* -1 (pow C6 1/2)))) C10)',\n",
       " '(pow (* (pow C10 -1) (fn_0 (+ C8 (pow (+ (pow (* (pow C1 -1) (+ (* C1 C2) (* a b c))) 1/2) (* -1 C3 C4)) C5) (* -1 C6) (* -1 C7) (* -1 C9)))) C11)',\n",
       " '(pow (* (pow C10 -1) (fn_0 (+ C8 (pow (+ (pow (* (pow C1 -1) (pow C3 -1) (+ (* C1 C2) (* C3 a b c))) 1/2) (* -1 C4 C5)) C6) (* -1 C9)) (* -1 (pow C7 1/2)))) C11)']"
      ]
     },
     "execution_count": 135,
     "metadata": {},
     "output_type": "execute_result"
    }
   ],
   "source": [
    "res.rewritten"
   ]
  },
  {
   "cell_type": "code",
   "execution_count": 144,
   "metadata": {},
   "outputs": [],
   "source": [
    "res = compress(stitchified_exprs, iterations=10, max_arity=0)"
   ]
  },
  {
   "cell_type": "code",
   "execution_count": 145,
   "metadata": {},
   "outputs": [
    {
     "data": {
      "text/plain": [
       "[fn_0() := (* -1),\n",
       " fn_1() := (+ C4 (pow (+ (pow (* a b c (pow C1 -1)) 1/2) (fn_0 C2)) C3)),\n",
       " fn_2() := (pow (+ (pow (* (pow C1 -1) (+ (* C1 C2) (* a b c))) 1/2) (fn_0 C3 C4)) C5),\n",
       " fn_3() := (pow (+ (pow (* (pow C2 -1) (+ C1 (* a b c))) 1/2) (fn_0 C3)) C4),\n",
       " fn_4() := (* C1 a b c),\n",
       " fn_5() := (fn_0 C1 a b (+ C2 (fn_0 (pow c 1/2)))),\n",
       " fn_6() := (fn_0 a),\n",
       " fn_7() := (fn_0 b),\n",
       " fn_8() := (fn_0 c),\n",
       " fn_9() := (* a b c)]"
      ]
     },
     "execution_count": 145,
     "metadata": {},
     "output_type": "execute_result"
    }
   ],
   "source": [
    "res.abstractions"
   ]
  },
  {
   "cell_type": "code",
   "execution_count": null,
   "metadata": {},
   "outputs": [],
   "source": []
  }
 ],
 "metadata": {
  "kernelspec": {
   "display_name": "base",
   "language": "python",
   "name": "python3"
  },
  "language_info": {
   "codemirror_mode": {
    "name": "ipython",
    "version": 3
   },
   "file_extension": ".py",
   "mimetype": "text/x-python",
   "name": "python",
   "nbconvert_exporter": "python",
   "pygments_lexer": "ipython3",
   "version": "3.10.8"
  }
 },
 "nbformat": 4,
 "nbformat_minor": 2
}
